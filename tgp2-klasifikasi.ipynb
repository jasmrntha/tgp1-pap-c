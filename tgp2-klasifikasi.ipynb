{
 "cells": [
  {
   "cell_type": "markdown",
   "metadata": {},
   "source": [
    "# PAP C Kelompok 6\n",
    "\n",
    "Tugas Group Project 2 :Klasifikasi\n",
    "\n",
    "Impelementasi dan Eksperimen Prediksi Jenis Kejahatan menggunakan Python untuk Data \n",
    "Kejahatan di Los Angeles "
   ]
  },
  {
   "cell_type": "markdown",
   "metadata": {},
   "source": [
    "Anggota Kelompok:\n",
    "\n",
    "1. Arif (5026221104)\n",
    "2. Jasmine (5026221107)\n",
    "3. Dicky (5026221036)\n",
    "4. Affan (5026221134)"
   ]
  },
  {
   "cell_type": "markdown",
   "metadata": {},
   "source": [
    "## Pemilihan Data\n",
    "\n",
    "Tujuan: Membagi data yang sudah disiapkan dalam TGP #1 menjadi data pelatihan dan data tes."
   ]
  },
  {
   "cell_type": "code",
   "execution_count": 2,
   "metadata": {},
   "outputs": [],
   "source": [
    "#importing dependable\n",
    "import seaborn as sns\n",
    "import pandas as pd\n",
    "import numpy as np\n",
    "import matplotlib.pyplot as plt\n",
    "from sklearn.model_selection import train_test_split\n",
    "from imblearn.over_sampling import RandomOverSampler\n",
    "from imblearn.over_sampling import SMOTE\n",
    "from sklearn.preprocessing import StandardScaler\n",
    "from sklearn.model_selection import GridSearchCV, RandomizedSearchCV\n",
    "from sklearn.model_selection import KFold, StratifiedKFold, RepeatedKFold, RepeatedStratifiedKFold, ShuffleSplit, StratifiedShuffleSplit\n",
    "from sklearn.pipeline import Pipeline\n",
    "from sklearn.metrics import ConfusionMatrixDisplay\n",
    "from sklearn.impute import SimpleImputer\n",
    "from sklearn.compose import make_column_transformer\n",
    "from sklearn.metrics import accuracy_score, precision_score, recall_score, f1_score, roc_auc_score\n",
    "from sklearn.pipeline import make_pipeline\n",
    "\n",
    "# Load libraries\n",
    "from sklearn.tree import DecisionTreeClassifier # Import Decision Tree Classifier\n",
    "from sklearn import metrics #Import scikit-learn metrics module for accuracy calculation\n",
    "from sklearn.ensemble import RandomForestClassifier\n",
    "from sklearn.neighbors import KNeighborsClassifier\n",
    "from sklearn.naive_bayes import GaussianNB\n",
    "from sklearn.svm import SVC\n",
    "from sklearn.linear_model import LogisticRegression\n",
    "from sklearn.neural_network import MLPClassifier"
   ]
  },
  {
   "cell_type": "code",
   "execution_count": 3,
   "metadata": {},
   "outputs": [
    {
     "data": {
      "text/html": [
       "<div>\n",
       "<style scoped>\n",
       "    .dataframe tbody tr th:only-of-type {\n",
       "        vertical-align: middle;\n",
       "    }\n",
       "\n",
       "    .dataframe tbody tr th {\n",
       "        vertical-align: top;\n",
       "    }\n",
       "\n",
       "    .dataframe thead th {\n",
       "        text-align: right;\n",
       "    }\n",
       "</style>\n",
       "<table border=\"1\" class=\"dataframe\">\n",
       "  <thead>\n",
       "    <tr style=\"text-align: right;\">\n",
       "      <th></th>\n",
       "      <th>Date Rptd</th>\n",
       "      <th>AREA</th>\n",
       "      <th>AREA NAME</th>\n",
       "      <th>Part 1-2</th>\n",
       "      <th>Crm Cd</th>\n",
       "      <th>Crm Cd Desc</th>\n",
       "      <th>Mocodes</th>\n",
       "      <th>Vict Age</th>\n",
       "      <th>Vict Sex</th>\n",
       "      <th>Vict Descent</th>\n",
       "      <th>...</th>\n",
       "      <th>Geographic_Zone</th>\n",
       "      <th>Female</th>\n",
       "      <th>Male</th>\n",
       "      <th>Unknown gender</th>\n",
       "      <th>Adult Arrest</th>\n",
       "      <th>Adult Other</th>\n",
       "      <th>Invest Cont</th>\n",
       "      <th>Juv Arrest</th>\n",
       "      <th>Juv Other</th>\n",
       "      <th>UNK</th>\n",
       "    </tr>\n",
       "  </thead>\n",
       "  <tbody>\n",
       "    <tr>\n",
       "      <th>0</th>\n",
       "      <td>03/01/2020 12:00:00 AM</td>\n",
       "      <td>7</td>\n",
       "      <td>Wilshire</td>\n",
       "      <td>1</td>\n",
       "      <td>510</td>\n",
       "      <td>VEHICLE - STOLEN</td>\n",
       "      <td>NaN</td>\n",
       "      <td>37</td>\n",
       "      <td>M</td>\n",
       "      <td>O</td>\n",
       "      <td>...</td>\n",
       "      <td>Zone 1</td>\n",
       "      <td>False</td>\n",
       "      <td>True</td>\n",
       "      <td>False</td>\n",
       "      <td>True</td>\n",
       "      <td>False</td>\n",
       "      <td>False</td>\n",
       "      <td>False</td>\n",
       "      <td>False</td>\n",
       "      <td>False</td>\n",
       "    </tr>\n",
       "    <tr>\n",
       "      <th>1</th>\n",
       "      <td>02/09/2020 12:00:00 AM</td>\n",
       "      <td>1</td>\n",
       "      <td>Central</td>\n",
       "      <td>1</td>\n",
       "      <td>330</td>\n",
       "      <td>BURGLARY FROM VEHICLE</td>\n",
       "      <td>1822 1402 0344</td>\n",
       "      <td>47</td>\n",
       "      <td>M</td>\n",
       "      <td>O</td>\n",
       "      <td>...</td>\n",
       "      <td>Zone 1</td>\n",
       "      <td>False</td>\n",
       "      <td>True</td>\n",
       "      <td>False</td>\n",
       "      <td>False</td>\n",
       "      <td>False</td>\n",
       "      <td>True</td>\n",
       "      <td>False</td>\n",
       "      <td>False</td>\n",
       "      <td>False</td>\n",
       "    </tr>\n",
       "    <tr>\n",
       "      <th>2</th>\n",
       "      <td>11/11/2020 12:00:00 AM</td>\n",
       "      <td>3</td>\n",
       "      <td>Southwest</td>\n",
       "      <td>1</td>\n",
       "      <td>480</td>\n",
       "      <td>BIKE - STOLEN</td>\n",
       "      <td>0344 1251</td>\n",
       "      <td>19</td>\n",
       "      <td>X</td>\n",
       "      <td>X</td>\n",
       "      <td>...</td>\n",
       "      <td>Zone 1</td>\n",
       "      <td>False</td>\n",
       "      <td>False</td>\n",
       "      <td>True</td>\n",
       "      <td>False</td>\n",
       "      <td>False</td>\n",
       "      <td>True</td>\n",
       "      <td>False</td>\n",
       "      <td>False</td>\n",
       "      <td>False</td>\n",
       "    </tr>\n",
       "    <tr>\n",
       "      <th>3</th>\n",
       "      <td>05/10/2023 12:00:00 AM</td>\n",
       "      <td>9</td>\n",
       "      <td>Van Nuys</td>\n",
       "      <td>1</td>\n",
       "      <td>343</td>\n",
       "      <td>SHOPLIFTING-GRAND THEFT ($950.01 &amp; OVER)</td>\n",
       "      <td>0325 1501</td>\n",
       "      <td>19</td>\n",
       "      <td>M</td>\n",
       "      <td>O</td>\n",
       "      <td>...</td>\n",
       "      <td>Zone 2</td>\n",
       "      <td>False</td>\n",
       "      <td>True</td>\n",
       "      <td>False</td>\n",
       "      <td>False</td>\n",
       "      <td>False</td>\n",
       "      <td>True</td>\n",
       "      <td>False</td>\n",
       "      <td>False</td>\n",
       "      <td>False</td>\n",
       "    </tr>\n",
       "    <tr>\n",
       "      <th>4</th>\n",
       "      <td>08/18/2022 12:00:00 AM</td>\n",
       "      <td>6</td>\n",
       "      <td>Hollywood</td>\n",
       "      <td>2</td>\n",
       "      <td>354</td>\n",
       "      <td>THEFT OF IDENTITY</td>\n",
       "      <td>1822 1501 0930 2004</td>\n",
       "      <td>28</td>\n",
       "      <td>M</td>\n",
       "      <td>H</td>\n",
       "      <td>...</td>\n",
       "      <td>Zone 1</td>\n",
       "      <td>False</td>\n",
       "      <td>True</td>\n",
       "      <td>False</td>\n",
       "      <td>False</td>\n",
       "      <td>False</td>\n",
       "      <td>True</td>\n",
       "      <td>False</td>\n",
       "      <td>False</td>\n",
       "      <td>False</td>\n",
       "    </tr>\n",
       "  </tbody>\n",
       "</table>\n",
       "<p>5 rows × 35 columns</p>\n",
       "</div>"
      ],
      "text/plain": [
       "                Date Rptd  AREA  AREA NAME  Part 1-2  Crm Cd  \\\n",
       "0  03/01/2020 12:00:00 AM     7   Wilshire         1     510   \n",
       "1  02/09/2020 12:00:00 AM     1    Central         1     330   \n",
       "2  11/11/2020 12:00:00 AM     3  Southwest         1     480   \n",
       "3  05/10/2023 12:00:00 AM     9   Van Nuys         1     343   \n",
       "4  08/18/2022 12:00:00 AM     6  Hollywood         2     354   \n",
       "\n",
       "                                Crm Cd Desc              Mocodes  Vict Age  \\\n",
       "0                          VEHICLE - STOLEN                  NaN        37   \n",
       "1                     BURGLARY FROM VEHICLE       1822 1402 0344        47   \n",
       "2                             BIKE - STOLEN            0344 1251        19   \n",
       "3  SHOPLIFTING-GRAND THEFT ($950.01 & OVER)            0325 1501        19   \n",
       "4                         THEFT OF IDENTITY  1822 1501 0930 2004        28   \n",
       "\n",
       "  Vict Sex Vict Descent  ...  Geographic_Zone Female   Male Unknown gender  \\\n",
       "0        M            O  ...           Zone 1  False   True          False   \n",
       "1        M            O  ...           Zone 1  False   True          False   \n",
       "2        X            X  ...           Zone 1  False  False           True   \n",
       "3        M            O  ...           Zone 2  False   True          False   \n",
       "4        M            H  ...           Zone 1  False   True          False   \n",
       "\n",
       "  Adult Arrest  Adult Other Invest Cont Juv Arrest  Juv Other    UNK  \n",
       "0         True        False       False      False      False  False  \n",
       "1        False        False        True      False      False  False  \n",
       "2        False        False        True      False      False  False  \n",
       "3        False        False        True      False      False  False  \n",
       "4        False        False        True      False      False  False  \n",
       "\n",
       "[5 rows x 35 columns]"
      ]
     },
     "execution_count": 3,
     "metadata": {},
     "output_type": "execute_result"
    }
   ],
   "source": [
    "#Load dataset\n",
    "crime = pd.read_csv('Cleaned_Crime_Data.csv')\n",
    "crime.head()"
   ]
  },
  {
   "cell_type": "code",
   "execution_count": 4,
   "metadata": {},
   "outputs": [
    {
     "data": {
      "text/plain": [
       "Date Rptd               0\n",
       "AREA                    0\n",
       "AREA NAME               0\n",
       "Part 1-2                0\n",
       "Crm Cd                  0\n",
       "Crm Cd Desc             0\n",
       "Mocodes            142255\n",
       "Vict Age                0\n",
       "Vict Sex                0\n",
       "Vict Descent            0\n",
       "Premis Cd              15\n",
       "Premis Desc           576\n",
       "Weapon Used Cd     607445\n",
       "Weapon Desc        607445\n",
       "Status                  1\n",
       "Crm Cd 1               11\n",
       "LOCATION                0\n",
       "Cross Street       764739\n",
       "LAT                     0\n",
       "LON                     0\n",
       "TIME OCC_str            0\n",
       "DATETIME OCC            0\n",
       "day_of_week             0\n",
       "month                   0\n",
       "Day_Night               0\n",
       "Geographic_Zone         0\n",
       "Female                  0\n",
       "Male                    0\n",
       "Unknown gender          0\n",
       "Adult Arrest            0\n",
       "Adult Other             0\n",
       "Invest Cont             0\n",
       "Juv Arrest              0\n",
       "Juv Other               0\n",
       "UNK                     0\n",
       "dtype: int64"
      ]
     },
     "execution_count": 4,
     "metadata": {},
     "output_type": "execute_result"
    }
   ],
   "source": [
    "# Periksa missing value\n",
    "crime.isnull().sum()"
   ]
  },
  {
   "cell_type": "code",
   "execution_count": 5,
   "metadata": {},
   "outputs": [],
   "source": [
    "dt = crime.copy()"
   ]
  },
  {
   "cell_type": "code",
   "execution_count": 6,
   "metadata": {},
   "outputs": [],
   "source": [
    "# isi missing value kolom weapon used dengan code 500 dan deskripsi UNKNOWN WEAPON/OTHER WEAPON\n",
    "# nilai yang kosong dalam weapon used mungkin dikarenakan senjata yang digunakan pelaku tidak diketahui\n",
    "\n",
    "dt.fillna({'Weapon Used Cd':500}, inplace=True)\n",
    "dt.fillna({'Weapon Desc':'UNKNOWN WEAPON/OTHER WEAPON'}, inplace=True)"
   ]
  },
  {
   "cell_type": "code",
   "execution_count": 7,
   "metadata": {},
   "outputs": [
    {
     "data": {
      "text/plain": [
       "Date Rptd               0\n",
       "AREA                    0\n",
       "AREA NAME               0\n",
       "Part 1-2                0\n",
       "Crm Cd                  0\n",
       "Crm Cd Desc             0\n",
       "Mocodes                 0\n",
       "Vict Age                0\n",
       "Vict Sex                0\n",
       "Vict Descent            0\n",
       "Premis Cd              15\n",
       "Premis Desc           576\n",
       "Weapon Used Cd          0\n",
       "Weapon Desc             0\n",
       "Status                  1\n",
       "Crm Cd 1               11\n",
       "LOCATION                0\n",
       "Cross Street       764739\n",
       "LAT                     0\n",
       "LON                     0\n",
       "TIME OCC_str            0\n",
       "DATETIME OCC            0\n",
       "day_of_week             0\n",
       "month                   0\n",
       "Day_Night               0\n",
       "Geographic_Zone         0\n",
       "Female                  0\n",
       "Male                    0\n",
       "Unknown gender          0\n",
       "Adult Arrest            0\n",
       "Adult Other             0\n",
       "Invest Cont             0\n",
       "Juv Arrest              0\n",
       "Juv Other               0\n",
       "UNK                     0\n",
       "dtype: int64"
      ]
     },
     "execution_count": 7,
     "metadata": {},
     "output_type": "execute_result"
    }
   ],
   "source": [
    "# isi missing value kolom mocodes dengan modus\n",
    "mocodes_modus = dt['Mocodes'].value_counts().idxmax()\n",
    "dt.fillna({'Mocodes':mocodes_modus}, inplace=True)\n",
    "dt.isnull().sum()"
   ]
  },
  {
   "cell_type": "code",
   "execution_count": 8,
   "metadata": {},
   "outputs": [],
   "source": [
    "# drop kolom Cross Street & Date Rptd\n",
    "dt = dt.drop('Cross Street', axis=1)\n",
    "dt = dt.drop('Date Rptd', axis=1)"
   ]
  },
  {
   "cell_type": "code",
   "execution_count": 9,
   "metadata": {},
   "outputs": [
    {
     "name": "stdout",
     "output_type": "stream",
     "text": [
      "<class 'pandas.core.frame.DataFrame'>\n",
      "Index: 907917 entries, 0 to 908503\n",
      "Data columns (total 33 columns):\n",
      " #   Column           Non-Null Count   Dtype  \n",
      "---  ------           --------------   -----  \n",
      " 0   AREA             907917 non-null  int64  \n",
      " 1   AREA NAME        907917 non-null  object \n",
      " 2   Part 1-2         907917 non-null  int64  \n",
      " 3   Crm Cd           907917 non-null  int64  \n",
      " 4   Crm Cd Desc      907917 non-null  object \n",
      " 5   Mocodes          907917 non-null  object \n",
      " 6   Vict Age         907917 non-null  int64  \n",
      " 7   Vict Sex         907917 non-null  object \n",
      " 8   Vict Descent     907917 non-null  object \n",
      " 9   Premis Cd        907917 non-null  float64\n",
      " 10  Premis Desc      907917 non-null  object \n",
      " 11  Weapon Used Cd   907917 non-null  float64\n",
      " 12  Weapon Desc      907917 non-null  object \n",
      " 13  Status           907917 non-null  object \n",
      " 14  Crm Cd 1         907917 non-null  float64\n",
      " 15  LOCATION         907917 non-null  object \n",
      " 16  LAT              907917 non-null  float64\n",
      " 17  LON              907917 non-null  float64\n",
      " 18  TIME OCC_str     907917 non-null  object \n",
      " 19  DATETIME OCC     907917 non-null  object \n",
      " 20  day_of_week      907917 non-null  object \n",
      " 21  month            907917 non-null  object \n",
      " 22  Day_Night        907917 non-null  object \n",
      " 23  Geographic_Zone  907917 non-null  object \n",
      " 24  Female           907917 non-null  bool   \n",
      " 25  Male             907917 non-null  bool   \n",
      " 26  Unknown gender   907917 non-null  bool   \n",
      " 27  Adult Arrest     907917 non-null  bool   \n",
      " 28  Adult Other      907917 non-null  bool   \n",
      " 29  Invest Cont      907917 non-null  bool   \n",
      " 30  Juv Arrest       907917 non-null  bool   \n",
      " 31  Juv Other        907917 non-null  bool   \n",
      " 32  UNK              907917 non-null  bool   \n",
      "dtypes: bool(9), float64(5), int64(4), object(15)\n",
      "memory usage: 181.0+ MB\n"
     ]
    }
   ],
   "source": [
    "# drop baris yang memiliki null value\n",
    "dt.dropna(axis=0, inplace=True)\n",
    "dt.info()"
   ]
  },
  {
   "cell_type": "code",
   "execution_count": 10,
   "metadata": {},
   "outputs": [
    {
     "name": "stdout",
     "output_type": "stream",
     "text": [
      "<class 'pandas.core.frame.DataFrame'>\n",
      "Index: 907917 entries, 0 to 908503\n",
      "Data columns (total 27 columns):\n",
      " #   Column           Non-Null Count   Dtype  \n",
      "---  ------           --------------   -----  \n",
      " 0   AREA             907917 non-null  int64  \n",
      " 1   Crm Cd           907917 non-null  int64  \n",
      " 2   Mocodes          907917 non-null  object \n",
      " 3   Vict Age         907917 non-null  int64  \n",
      " 4   Vict Sex         907917 non-null  object \n",
      " 5   Vict Descent     907917 non-null  object \n",
      " 6   Premis Cd        907917 non-null  float64\n",
      " 7   Weapon Used Cd   907917 non-null  float64\n",
      " 8   Status           907917 non-null  object \n",
      " 9   Crm Cd 1         907917 non-null  float64\n",
      " 10  LOCATION         907917 non-null  object \n",
      " 11  LAT              907917 non-null  float64\n",
      " 12  LON              907917 non-null  float64\n",
      " 13  TIME OCC_str     907917 non-null  object \n",
      " 14  day_of_week      907917 non-null  object \n",
      " 15  month            907917 non-null  object \n",
      " 16  Day_Night        907917 non-null  object \n",
      " 17  Geographic_Zone  907917 non-null  object \n",
      " 18  Female           907917 non-null  bool   \n",
      " 19  Male             907917 non-null  bool   \n",
      " 20  Unknown gender   907917 non-null  bool   \n",
      " 21  Adult Arrest     907917 non-null  bool   \n",
      " 22  Adult Other      907917 non-null  bool   \n",
      " 23  Invest Cont      907917 non-null  bool   \n",
      " 24  Juv Arrest       907917 non-null  bool   \n",
      " 25  Juv Other        907917 non-null  bool   \n",
      " 26  UNK              907917 non-null  bool   \n",
      "dtypes: bool(9), float64(5), int64(3), object(10)\n",
      "memory usage: 139.4+ MB\n"
     ]
    }
   ],
   "source": [
    "dt_filtered = dt.drop(['AREA NAME', 'Part 1-2', 'Crm Cd Desc',\n",
    "                       'Premis Desc', 'Weapon Desc', 'DATETIME OCC'], axis=1)\n",
    "dt_filtered.info()"
   ]
  },
  {
   "cell_type": "code",
   "execution_count": 11,
   "metadata": {},
   "outputs": [
    {
     "data": {
      "text/plain": [
       "Mocodes\n",
       "0344                                       180045\n",
       "0329                                        19672\n",
       "1822 0344                                   12593\n",
       "0325                                         9610\n",
       "1501                                         8950\n",
       "                                            ...  \n",
       "0344 1402 1822 1602 1309 0326 1414              1\n",
       "1822 0319 0416 0446 0903 1507 2054 1536         1\n",
       "1100 1419 0450                                  1\n",
       "0910 0416 2004 1266                             1\n",
       "0400 1822 1310 0416                             1\n",
       "Name: count, Length: 282026, dtype: int64"
      ]
     },
     "execution_count": 11,
     "metadata": {},
     "output_type": "execute_result"
    }
   ],
   "source": [
    "dt_filtered['Mocodes'].value_counts()"
   ]
  },
  {
   "cell_type": "code",
   "execution_count": 12,
   "metadata": {},
   "outputs": [
    {
     "data": {
      "text/plain": [
       "Mocodes\n",
       "0344    264340\n",
       "1822    116656\n",
       "0329     59846\n",
       "0913     45586\n",
       "2000     33991\n",
       "         ...  \n",
       "1523         1\n",
       "0437         1\n",
       "0523         1\n",
       "0530         1\n",
       "4024         1\n",
       "Name: count, Length: 627, dtype: int64"
      ]
     },
     "execution_count": 12,
     "metadata": {},
     "output_type": "execute_result"
    }
   ],
   "source": [
    "dt_filtered['Mocodes'] = dt_filtered['Mocodes'].str[:4]\n",
    "dt_filtered['Mocodes'].value_counts()"
   ]
  },
  {
   "cell_type": "code",
   "execution_count": 13,
   "metadata": {},
   "outputs": [
    {
     "data": {
      "text/plain": [
       "Vict Sex\n",
       "M    495361\n",
       "F    319980\n",
       "X     92473\n",
       "H       102\n",
       "-         1\n",
       "Name: count, dtype: int64"
      ]
     },
     "execution_count": 13,
     "metadata": {},
     "output_type": "execute_result"
    }
   ],
   "source": [
    "dt_filtered['Vict Sex'].value_counts()"
   ]
  },
  {
   "cell_type": "code",
   "execution_count": 14,
   "metadata": {},
   "outputs": [],
   "source": [
    "dt_filtered = dt_filtered.drop('Vict Sex', axis=1)"
   ]
  },
  {
   "cell_type": "code",
   "execution_count": 15,
   "metadata": {},
   "outputs": [
    {
     "data": {
      "text/plain": [
       "Vict Descent\n",
       "H    409125\n",
       "W    171070\n",
       "B    121886\n",
       "X    100866\n",
       "O     69123\n",
       "A     18094\n",
       "K      5021\n",
       "F      4180\n",
       "C      4033\n",
       "J      1296\n",
       "V      1077\n",
       "I       918\n",
       "Z       498\n",
       "P       254\n",
       "U       201\n",
       "D        85\n",
       "G        69\n",
       "L        68\n",
       "S        51\n",
       "-         2\n",
       "Name: count, dtype: int64"
      ]
     },
     "execution_count": 15,
     "metadata": {},
     "output_type": "execute_result"
    }
   ],
   "source": [
    "dt_filtered['Vict Descent'].value_counts()"
   ]
  },
  {
   "cell_type": "code",
   "execution_count": 16,
   "metadata": {},
   "outputs": [
    {
     "data": {
      "text/plain": [
       "Status\n",
       "IC    726527\n",
       "AO     98323\n",
       "AA     78386\n",
       "JA      3006\n",
       "JO      1671\n",
       "CC         4\n",
       "Name: count, dtype: int64"
      ]
     },
     "execution_count": 16,
     "metadata": {},
     "output_type": "execute_result"
    }
   ],
   "source": [
    "dt_filtered['Status'].value_counts()"
   ]
  },
  {
   "cell_type": "code",
   "execution_count": 17,
   "metadata": {},
   "outputs": [
    {
     "data": {
      "text/plain": [
       "TIME OCC_str\n",
       "12:00    29904\n",
       "18:00    23991\n",
       "17:00    22625\n",
       "20:00    22609\n",
       "22:00    21118\n",
       "         ...  \n",
       "22:51       26\n",
       "23:32       25\n",
       "05:34       25\n",
       "05:59       21\n",
       "05:31       17\n",
       "Name: count, Length: 1439, dtype: int64"
      ]
     },
     "execution_count": 17,
     "metadata": {},
     "output_type": "execute_result"
    }
   ],
   "source": [
    "dt_filtered['TIME OCC_str'].value_counts()"
   ]
  },
  {
   "cell_type": "code",
   "execution_count": 18,
   "metadata": {},
   "outputs": [
    {
     "data": {
      "text/plain": [
       "day_of_week\n",
       "Friday       138685\n",
       "Saturday     133800\n",
       "Wednesday    128448\n",
       "Thursday     127847\n",
       "Monday       127664\n",
       "Sunday       127256\n",
       "Tuesday      124217\n",
       "Name: count, dtype: int64"
      ]
     },
     "execution_count": 18,
     "metadata": {},
     "output_type": "execute_result"
    }
   ],
   "source": [
    "dt_filtered['day_of_week'].value_counts()"
   ]
  },
  {
   "cell_type": "code",
   "execution_count": 19,
   "metadata": {},
   "outputs": [
    {
     "data": {
      "text/plain": [
       "month\n",
       "January      85590\n",
       "March        81069\n",
       "February     79980\n",
       "July         77933\n",
       "August       77569\n",
       "April        77404\n",
       "May          77056\n",
       "June         75368\n",
       "October      70803\n",
       "September    70532\n",
       "December     68154\n",
       "November     66459\n",
       "Name: count, dtype: int64"
      ]
     },
     "execution_count": 19,
     "metadata": {},
     "output_type": "execute_result"
    }
   ],
   "source": [
    "dt_filtered['month'].value_counts()"
   ]
  },
  {
   "cell_type": "code",
   "execution_count": 20,
   "metadata": {},
   "outputs": [
    {
     "data": {
      "text/plain": [
       "Day_Night\n",
       "Day      501926\n",
       "Night    405991\n",
       "Name: count, dtype: int64"
      ]
     },
     "execution_count": 20,
     "metadata": {},
     "output_type": "execute_result"
    }
   ],
   "source": [
    "dt_filtered['Day_Night'].value_counts()"
   ]
  },
  {
   "cell_type": "code",
   "execution_count": 21,
   "metadata": {},
   "outputs": [
    {
     "data": {
      "text/plain": [
       "Geographic_Zone\n",
       "Zone 1    321690\n",
       "Zone 2    308997\n",
       "Zone 3    277230\n",
       "Name: count, dtype: int64"
      ]
     },
     "execution_count": 21,
     "metadata": {},
     "output_type": "execute_result"
    }
   ],
   "source": [
    "dt_filtered['Geographic_Zone'].value_counts()"
   ]
  },
  {
   "cell_type": "code",
   "execution_count": 22,
   "metadata": {},
   "outputs": [
    {
     "data": {
      "text/plain": [
       "LOCATION\n",
       "800 N  ALAMEDA                      ST      2358\n",
       "700 S  FIGUEROA                     ST      1586\n",
       "10200    SANTA MONICA                 BL    1547\n",
       "100    THE GROVE                    DR      1544\n",
       "6TH                          ST             1484\n",
       "                                            ... \n",
       "LA CLEDE                     ST                1\n",
       "11200    DULCET                       AV       1\n",
       "400    SHERMAN CANAL                CT         1\n",
       "6900    PASEO DEL SERRA                        1\n",
       "1800 E  MARTIN LUTHER KING JR        BL        1\n",
       "Name: count, Length: 64424, dtype: int64"
      ]
     },
     "execution_count": 22,
     "metadata": {},
     "output_type": "execute_result"
    }
   ],
   "source": [
    "dt_filtered['LOCATION'].value_counts()"
   ]
  },
  {
   "cell_type": "code",
   "execution_count": 23,
   "metadata": {},
   "outputs": [],
   "source": [
    "dt_filtered = dt_filtered.drop('LOCATION', axis=1)"
   ]
  },
  {
   "cell_type": "code",
   "execution_count": 24,
   "metadata": {},
   "outputs": [
    {
     "name": "stdout",
     "output_type": "stream",
     "text": [
      "<class 'pandas.core.frame.DataFrame'>\n",
      "Index: 907917 entries, 0 to 908503\n",
      "Data columns (total 25 columns):\n",
      " #   Column           Non-Null Count   Dtype  \n",
      "---  ------           --------------   -----  \n",
      " 0   AREA             907917 non-null  int64  \n",
      " 1   Crm Cd           907917 non-null  int64  \n",
      " 2   Mocodes          907917 non-null  object \n",
      " 3   Vict Age         907917 non-null  int64  \n",
      " 4   Vict Descent     907917 non-null  object \n",
      " 5   Premis Cd        907917 non-null  float64\n",
      " 6   Weapon Used Cd   907917 non-null  float64\n",
      " 7   Status           907917 non-null  object \n",
      " 8   Crm Cd 1         907917 non-null  float64\n",
      " 9   LAT              907917 non-null  float64\n",
      " 10  LON              907917 non-null  float64\n",
      " 11  TIME OCC_str     907917 non-null  object \n",
      " 12  day_of_week      907917 non-null  object \n",
      " 13  month            907917 non-null  object \n",
      " 14  Day_Night        907917 non-null  object \n",
      " 15  Geographic_Zone  907917 non-null  object \n",
      " 16  Female           907917 non-null  bool   \n",
      " 17  Male             907917 non-null  bool   \n",
      " 18  Unknown gender   907917 non-null  bool   \n",
      " 19  Adult Arrest     907917 non-null  bool   \n",
      " 20  Adult Other      907917 non-null  bool   \n",
      " 21  Invest Cont      907917 non-null  bool   \n",
      " 22  Juv Arrest       907917 non-null  bool   \n",
      " 23  Juv Other        907917 non-null  bool   \n",
      " 24  UNK              907917 non-null  bool   \n",
      "dtypes: bool(9), float64(5), int64(3), object(8)\n",
      "memory usage: 125.5+ MB\n"
     ]
    }
   ],
   "source": [
    "dt_transformed = dt_filtered\n",
    "dt_transformed.info()"
   ]
  },
  {
   "cell_type": "code",
   "execution_count": 25,
   "metadata": {},
   "outputs": [],
   "source": [
    "dt_transformed['Mocodes'] = dt_transformed['Mocodes'].astype(int)"
   ]
  },
  {
   "cell_type": "code",
   "execution_count": 26,
   "metadata": {},
   "outputs": [
    {
     "name": "stdout",
     "output_type": "stream",
     "text": [
      "{0: 'O', 1: 'X', 2: 'H', 3: 'B', 4: 'W', 5: 'A', 6: 'K', 7: 'C', 8: 'J', 9: 'F', 10: 'I', 11: 'V', 12: 'S', 13: 'P', 14: 'Z', 15: 'G', 16: 'U', 17: 'D', 18: 'L', 19: '-'}\n"
     ]
    }
   ],
   "source": [
    "# Factorize the column to get unique integers and mapping\n",
    "codes, unique_values = pd.factorize(dt_transformed['Vict Descent'])\n",
    "dt_transformed['Vict Descent'] = codes\n",
    "\n",
    "# Create a dictionary to map integers back to original values\n",
    "value_mapping = {index: value for index, value in enumerate(unique_values)}\n",
    "\n",
    "print(value_mapping)"
   ]
  },
  {
   "cell_type": "code",
   "execution_count": 27,
   "metadata": {},
   "outputs": [
    {
     "data": {
      "text/plain": [
       "Vict Descent\n",
       "2     409125\n",
       "4     171070\n",
       "3     121886\n",
       "1     100866\n",
       "0      69123\n",
       "5      18094\n",
       "6       5021\n",
       "9       4180\n",
       "7       4033\n",
       "8       1296\n",
       "11      1077\n",
       "10       918\n",
       "14       498\n",
       "13       254\n",
       "16       201\n",
       "17        85\n",
       "15        69\n",
       "18        68\n",
       "12        51\n",
       "19         2\n",
       "Name: count, dtype: int64"
      ]
     },
     "execution_count": 27,
     "metadata": {},
     "output_type": "execute_result"
    }
   ],
   "source": [
    "dt_transformed['Vict Descent'].value_counts()"
   ]
  },
  {
   "cell_type": "code",
   "execution_count": 28,
   "metadata": {},
   "outputs": [
    {
     "name": "stderr",
     "output_type": "stream",
     "text": [
      "C:\\Users\\ASUS\\AppData\\Local\\Temp\\ipykernel_37816\\2535787978.py:1: FutureWarning: Downcasting behavior in `replace` is deprecated and will be removed in a future version. To retain the old behavior, explicitly call `result.infer_objects(copy=False)`. To opt-in to the future behavior, set `pd.set_option('future.no_silent_downcasting', True)`\n",
      "  dt_transformed['Status'] = dt_transformed['Status'].replace(\n"
     ]
    },
    {
     "data": {
      "text/plain": [
       "Status\n",
       "3    726527\n",
       "1     98323\n",
       "0     78386\n",
       "4      3006\n",
       "5      1671\n",
       "2         4\n",
       "Name: count, dtype: int64"
      ]
     },
     "execution_count": 28,
     "metadata": {},
     "output_type": "execute_result"
    }
   ],
   "source": [
    "dt_transformed['Status'] = dt_transformed['Status'].replace(\n",
    "    {'AA': 0 , 'AO': 1 ,\n",
    "     'CC': 2 , 'IC': 3 ,\n",
    "     'JA': 4 , 'JO': 5 ,}\n",
    ")\n",
    "dt_transformed['Status'].value_counts()"
   ]
  },
  {
   "cell_type": "code",
   "execution_count": 29,
   "metadata": {},
   "outputs": [
    {
     "name": "stderr",
     "output_type": "stream",
     "text": [
      "C:\\Users\\ASUS\\AppData\\Local\\Temp\\ipykernel_37816\\2590316595.py:1: FutureWarning: Downcasting behavior in `replace` is deprecated and will be removed in a future version. To retain the old behavior, explicitly call `result.infer_objects(copy=False)`. To opt-in to the future behavior, set `pd.set_option('future.no_silent_downcasting', True)`\n",
      "  dt_transformed['day_of_week'] = dt_transformed['day_of_week'].replace(\n"
     ]
    },
    {
     "data": {
      "text/plain": [
       "day_of_week\n",
       "5    138685\n",
       "6    133800\n",
       "3    128448\n",
       "4    127847\n",
       "1    127664\n",
       "0    127256\n",
       "2    124217\n",
       "Name: count, dtype: int64"
      ]
     },
     "execution_count": 29,
     "metadata": {},
     "output_type": "execute_result"
    }
   ],
   "source": [
    "dt_transformed['day_of_week'] = dt_transformed['day_of_week'].replace(\n",
    "    {'Sunday': 0 , \n",
    "     'Monday': 1 ,\n",
    "     'Tuesday': 2 , \n",
    "     'Wednesday': 3 ,\n",
    "     'Thursday': 4 ,\n",
    "     'Friday': 5 ,\n",
    "     'Saturday': 6\n",
    "     }\n",
    ")\n",
    "dt_transformed['day_of_week'].value_counts()"
   ]
  },
  {
   "cell_type": "code",
   "execution_count": 30,
   "metadata": {},
   "outputs": [
    {
     "name": "stderr",
     "output_type": "stream",
     "text": [
      "C:\\Users\\ASUS\\AppData\\Local\\Temp\\ipykernel_37816\\1795459436.py:1: FutureWarning: Downcasting behavior in `replace` is deprecated and will be removed in a future version. To retain the old behavior, explicitly call `result.infer_objects(copy=False)`. To opt-in to the future behavior, set `pd.set_option('future.no_silent_downcasting', True)`\n",
      "  dt_transformed['month'] = dt_transformed['month'].replace(\n"
     ]
    },
    {
     "data": {
      "text/plain": [
       "month\n",
       "0     85590\n",
       "2     81069\n",
       "1     79980\n",
       "6     77933\n",
       "7     77569\n",
       "3     77404\n",
       "4     77056\n",
       "5     75368\n",
       "9     70803\n",
       "8     70532\n",
       "11    68154\n",
       "10    66459\n",
       "Name: count, dtype: int64"
      ]
     },
     "execution_count": 30,
     "metadata": {},
     "output_type": "execute_result"
    }
   ],
   "source": [
    "dt_transformed['month'] = dt_transformed['month'].replace(\n",
    "    {'January': 0 , \n",
    "     'February': 1 ,\n",
    "     'March': 2 , \n",
    "     'April': 3 ,\n",
    "     'May': 4 ,\n",
    "     'June': 5 ,\n",
    "     'July': 6,\n",
    "     'August': 7 , \n",
    "     'September': 8 ,\n",
    "     'October': 9 , \n",
    "     'November': 10 ,\n",
    "     'December': 11\n",
    "     }\n",
    ")\n",
    "dt_transformed['month'].value_counts()"
   ]
  },
  {
   "cell_type": "code",
   "execution_count": 31,
   "metadata": {},
   "outputs": [
    {
     "name": "stderr",
     "output_type": "stream",
     "text": [
      "C:\\Users\\ASUS\\AppData\\Local\\Temp\\ipykernel_37816\\3108096912.py:1: FutureWarning: Downcasting behavior in `replace` is deprecated and will be removed in a future version. To retain the old behavior, explicitly call `result.infer_objects(copy=False)`. To opt-in to the future behavior, set `pd.set_option('future.no_silent_downcasting', True)`\n",
      "  dt_transformed['Day_Night'] = dt_transformed['Day_Night'].replace(\n"
     ]
    },
    {
     "data": {
      "text/plain": [
       "Day_Night\n",
       "0    501926\n",
       "1    405991\n",
       "Name: count, dtype: int64"
      ]
     },
     "execution_count": 31,
     "metadata": {},
     "output_type": "execute_result"
    }
   ],
   "source": [
    "dt_transformed['Day_Night'] = dt_transformed['Day_Night'].replace(\n",
    "    {'Day': 0 , \n",
    "     'Night': 1\n",
    "     }\n",
    ")\n",
    "dt_transformed['Day_Night'].value_counts()"
   ]
  },
  {
   "cell_type": "code",
   "execution_count": 32,
   "metadata": {},
   "outputs": [
    {
     "name": "stderr",
     "output_type": "stream",
     "text": [
      "C:\\Users\\ASUS\\AppData\\Local\\Temp\\ipykernel_37816\\3481773240.py:1: FutureWarning: Downcasting behavior in `replace` is deprecated and will be removed in a future version. To retain the old behavior, explicitly call `result.infer_objects(copy=False)`. To opt-in to the future behavior, set `pd.set_option('future.no_silent_downcasting', True)`\n",
      "  dt_transformed['Geographic_Zone'] = dt_transformed['Geographic_Zone'].replace(\n"
     ]
    },
    {
     "data": {
      "text/plain": [
       "Geographic_Zone\n",
       "0    321690\n",
       "1    308997\n",
       "2    277230\n",
       "Name: count, dtype: int64"
      ]
     },
     "execution_count": 32,
     "metadata": {},
     "output_type": "execute_result"
    }
   ],
   "source": [
    "dt_transformed['Geographic_Zone'] = dt_transformed['Geographic_Zone'].replace(\n",
    "    {'Zone 1': 0 , \n",
    "     'Zone 2': 1,\n",
    "     'Zone 3': 2\n",
    "     }\n",
    ")\n",
    "dt_transformed['Geographic_Zone'].value_counts()"
   ]
  },
  {
   "cell_type": "code",
   "execution_count": 33,
   "metadata": {},
   "outputs": [
    {
     "data": {
      "text/plain": [
       "TIME OCC_str\n",
       "1200    29904\n",
       "1800    23991\n",
       "1700    22625\n",
       "2000    22609\n",
       "2200    21118\n",
       "        ...  \n",
       "2251       26\n",
       "2332       25\n",
       "534        25\n",
       "559        21\n",
       "531        17\n",
       "Name: count, Length: 1439, dtype: int64"
      ]
     },
     "execution_count": 33,
     "metadata": {},
     "output_type": "execute_result"
    }
   ],
   "source": [
    "dt_transformed['TIME OCC_str'] = dt_transformed['TIME OCC_str'].str.replace(':', '').astype(int)\n",
    "dt_transformed['TIME OCC_str'].value_counts()"
   ]
  },
  {
   "cell_type": "code",
   "execution_count": 34,
   "metadata": {},
   "outputs": [
    {
     "name": "stdout",
     "output_type": "stream",
     "text": [
      "<class 'pandas.core.frame.DataFrame'>\n",
      "Index: 907917 entries, 0 to 908503\n",
      "Data columns (total 25 columns):\n",
      " #   Column           Non-Null Count   Dtype  \n",
      "---  ------           --------------   -----  \n",
      " 0   AREA             907917 non-null  int64  \n",
      " 1   Crm Cd           907917 non-null  int64  \n",
      " 2   Mocodes          907917 non-null  int32  \n",
      " 3   Vict Age         907917 non-null  int64  \n",
      " 4   Vict Descent     907917 non-null  int64  \n",
      " 5   Premis Cd        907917 non-null  float64\n",
      " 6   Weapon Used Cd   907917 non-null  float64\n",
      " 7   Status           907917 non-null  int64  \n",
      " 8   Crm Cd 1         907917 non-null  float64\n",
      " 9   LAT              907917 non-null  float64\n",
      " 10  LON              907917 non-null  float64\n",
      " 11  TIME OCC_str     907917 non-null  int32  \n",
      " 12  day_of_week      907917 non-null  int64  \n",
      " 13  month            907917 non-null  int64  \n",
      " 14  Day_Night        907917 non-null  int64  \n",
      " 15  Geographic_Zone  907917 non-null  int64  \n",
      " 16  Female           907917 non-null  bool   \n",
      " 17  Male             907917 non-null  bool   \n",
      " 18  Unknown gender   907917 non-null  bool   \n",
      " 19  Adult Arrest     907917 non-null  bool   \n",
      " 20  Adult Other      907917 non-null  bool   \n",
      " 21  Invest Cont      907917 non-null  bool   \n",
      " 22  Juv Arrest       907917 non-null  bool   \n",
      " 23  Juv Other        907917 non-null  bool   \n",
      " 24  UNK              907917 non-null  bool   \n",
      "dtypes: bool(9), float64(5), int32(2), int64(9)\n",
      "memory usage: 118.6 MB\n"
     ]
    }
   ],
   "source": [
    "dt_transformed.info()"
   ]
  },
  {
   "cell_type": "markdown",
   "metadata": {},
   "source": [
    "### Feature Selection"
   ]
  },
  {
   "cell_type": "code",
   "execution_count": 35,
   "metadata": {},
   "outputs": [
    {
     "data": {
      "text/plain": [
       "<Axes: >"
      ]
     },
     "execution_count": 35,
     "metadata": {},
     "output_type": "execute_result"
    },
    {
     "data": {
      "image/png": "[encoded data removed]",
      "text/plain": [
       "<Figure size 640x480 with 2 Axes>"
      ]
     },
     "metadata": {},
     "output_type": "display_data"
    }
   ],
   "source": [
    "# visualize Correlation plot\n",
    "corr = dt_transformed.corr('spearman')\n",
    "sns.heatmap(corr,\n",
    "            annot = np.where(np.abs(corr)>0.75,'S', # correlation more than +/- 75% labelled as 'STRONG CORRELATION'\n",
    "                      np.where(np.abs(corr)>0.5,'M', # correlation more than +/- 50% labelled as 'MEDIUM CORRELATION'\n",
    "                           np.where(np.abs(corr)>0.25,'W',''))), # correlation more than +/- 25% labelled as 'WEAK CORRELATION'\n",
    "            mask=np.triu(np.ones_like(corr, dtype=bool)),\n",
    "            square=True,\n",
    "            center=0,fmt='', linewidths=.5,\n",
    "            cmap=\"vlag\", cbar_kws={\"shrink\": 0.8}\n",
    "            )"
   ]
  },
  {
   "cell_type": "markdown",
   "metadata": {},
   "source": [
    "Dari correlation plot diatas, dapat ditemukan 2 variabel yang memiliki hubungan S (Strong) yaitu\n",
    "\n",
    "AREA dengan Geographic Zone\n",
    "\n",
    "Crm Cd dengan Crm Cd 1\n",
    "\n",
    "Status dengan Invest Cont\n",
    "\n",
    "Female dengan Male"
   ]
  },
  {
   "cell_type": "markdown",
   "metadata": {},
   "source": [
    "Pada hubungan Status dengan Invest cont cukup menarik karena Adult Other dan Adult Arrest memiliki hubungan M (Medium) dengan kedua variabel tersebut"
   ]
  },
  {
   "cell_type": "code",
   "execution_count": 36,
   "metadata": {},
   "outputs": [
    {
     "data": {
      "text/html": [
       "<div>\n",
       "<style scoped>\n",
       "    .dataframe tbody tr th:only-of-type {\n",
       "        vertical-align: middle;\n",
       "    }\n",
       "\n",
       "    .dataframe tbody tr th {\n",
       "        vertical-align: top;\n",
       "    }\n",
       "\n",
       "    .dataframe thead th {\n",
       "        text-align: right;\n",
       "    }\n",
       "</style>\n",
       "<table border=\"1\" class=\"dataframe\">\n",
       "  <thead>\n",
       "    <tr style=\"text-align: right;\">\n",
       "      <th></th>\n",
       "      <th>Status</th>\n",
       "      <th>Invest Cont</th>\n",
       "      <th>Adult Arrest</th>\n",
       "      <th>Adult Other</th>\n",
       "    </tr>\n",
       "  </thead>\n",
       "  <tbody>\n",
       "    <tr>\n",
       "      <th>AREA</th>\n",
       "      <td>-0.026600</td>\n",
       "      <td>-0.031588</td>\n",
       "      <td>0.015365</td>\n",
       "      <td>0.023745</td>\n",
       "    </tr>\n",
       "    <tr>\n",
       "      <th>Crm Cd</th>\n",
       "      <td>-0.114838</td>\n",
       "      <td>-0.125517</td>\n",
       "      <td>0.003735</td>\n",
       "      <td>0.158904</td>\n",
       "    </tr>\n",
       "    <tr>\n",
       "      <th>Mocodes</th>\n",
       "      <td>-0.188591</td>\n",
       "      <td>-0.197844</td>\n",
       "      <td>0.100531</td>\n",
       "      <td>0.160918</td>\n",
       "    </tr>\n",
       "    <tr>\n",
       "      <th>Vict Age</th>\n",
       "      <td>0.028976</td>\n",
       "      <td>0.042402</td>\n",
       "      <td>-0.020360</td>\n",
       "      <td>-0.027035</td>\n",
       "    </tr>\n",
       "    <tr>\n",
       "      <th>Vict Descent</th>\n",
       "      <td>0.005409</td>\n",
       "      <td>0.004847</td>\n",
       "      <td>-0.039548</td>\n",
       "      <td>0.032778</td>\n",
       "    </tr>\n",
       "    <tr>\n",
       "      <th>Premis Cd</th>\n",
       "      <td>-0.115320</td>\n",
       "      <td>-0.126799</td>\n",
       "      <td>0.046073</td>\n",
       "      <td>0.117428</td>\n",
       "    </tr>\n",
       "    <tr>\n",
       "      <th>Weapon Used Cd</th>\n",
       "      <td>0.247638</td>\n",
       "      <td>0.269899</td>\n",
       "      <td>-0.146344</td>\n",
       "      <td>-0.202971</td>\n",
       "    </tr>\n",
       "    <tr>\n",
       "      <th>Status</th>\n",
       "      <td>1.000000</td>\n",
       "      <td>0.942495</td>\n",
       "      <td>-0.698033</td>\n",
       "      <td>-0.622772</td>\n",
       "    </tr>\n",
       "    <tr>\n",
       "      <th>Crm Cd 1</th>\n",
       "      <td>-0.114415</td>\n",
       "      <td>-0.125054</td>\n",
       "      <td>0.003429</td>\n",
       "      <td>0.158612</td>\n",
       "    </tr>\n",
       "    <tr>\n",
       "      <th>LAT</th>\n",
       "      <td>-0.052167</td>\n",
       "      <td>-0.054748</td>\n",
       "      <td>0.038042</td>\n",
       "      <td>0.034236</td>\n",
       "    </tr>\n",
       "    <tr>\n",
       "      <th>LON</th>\n",
       "      <td>0.036897</td>\n",
       "      <td>0.039919</td>\n",
       "      <td>-0.032741</td>\n",
       "      <td>-0.019074</td>\n",
       "    </tr>\n",
       "    <tr>\n",
       "      <th>TIME OCC_str</th>\n",
       "      <td>0.003449</td>\n",
       "      <td>-0.000106</td>\n",
       "      <td>-0.002458</td>\n",
       "      <td>-0.000071</td>\n",
       "    </tr>\n",
       "    <tr>\n",
       "      <th>day_of_week</th>\n",
       "      <td>0.014595</td>\n",
       "      <td>0.014691</td>\n",
       "      <td>-0.011607</td>\n",
       "      <td>-0.008236</td>\n",
       "    </tr>\n",
       "    <tr>\n",
       "      <th>month</th>\n",
       "      <td>0.006113</td>\n",
       "      <td>0.008086</td>\n",
       "      <td>-0.008851</td>\n",
       "      <td>-0.000597</td>\n",
       "    </tr>\n",
       "    <tr>\n",
       "      <th>Day_Night</th>\n",
       "      <td>-0.007539</td>\n",
       "      <td>-0.005636</td>\n",
       "      <td>0.007283</td>\n",
       "      <td>0.001776</td>\n",
       "    </tr>\n",
       "    <tr>\n",
       "      <th>Geographic_Zone</th>\n",
       "      <td>-0.035072</td>\n",
       "      <td>-0.040667</td>\n",
       "      <td>0.019520</td>\n",
       "      <td>0.031454</td>\n",
       "    </tr>\n",
       "    <tr>\n",
       "      <th>Female</th>\n",
       "      <td>-0.122355</td>\n",
       "      <td>-0.132392</td>\n",
       "      <td>0.032960</td>\n",
       "      <td>0.139323</td>\n",
       "    </tr>\n",
       "    <tr>\n",
       "      <th>Male</th>\n",
       "      <td>0.103529</td>\n",
       "      <td>0.110109</td>\n",
       "      <td>-0.051065</td>\n",
       "      <td>-0.093409</td>\n",
       "    </tr>\n",
       "    <tr>\n",
       "      <th>Unknown gender</th>\n",
       "      <td>0.022814</td>\n",
       "      <td>0.027833</td>\n",
       "      <td>0.031989</td>\n",
       "      <td>-0.066255</td>\n",
       "    </tr>\n",
       "    <tr>\n",
       "      <th>Adult Arrest</th>\n",
       "      <td>-0.698033</td>\n",
       "      <td>-0.615208</td>\n",
       "      <td>1.000000</td>\n",
       "      <td>-0.107126</td>\n",
       "    </tr>\n",
       "    <tr>\n",
       "      <th>Adult Other</th>\n",
       "      <td>-0.622772</td>\n",
       "      <td>-0.697450</td>\n",
       "      <td>-0.107126</td>\n",
       "      <td>1.000000</td>\n",
       "    </tr>\n",
       "    <tr>\n",
       "      <th>Invest Cont</th>\n",
       "      <td>0.942495</td>\n",
       "      <td>1.000000</td>\n",
       "      <td>-0.615208</td>\n",
       "      <td>-0.697450</td>\n",
       "    </tr>\n",
       "    <tr>\n",
       "      <th>Juv Arrest</th>\n",
       "      <td>0.142243</td>\n",
       "      <td>-0.115348</td>\n",
       "      <td>-0.017717</td>\n",
       "      <td>-0.020086</td>\n",
       "    </tr>\n",
       "    <tr>\n",
       "      <th>Juv Other</th>\n",
       "      <td>0.106525</td>\n",
       "      <td>-0.085938</td>\n",
       "      <td>-0.013200</td>\n",
       "      <td>-0.014964</td>\n",
       "    </tr>\n",
       "    <tr>\n",
       "      <th>UNK</th>\n",
       "      <td>-0.003186</td>\n",
       "      <td>-0.004201</td>\n",
       "      <td>-0.000645</td>\n",
       "      <td>-0.000731</td>\n",
       "    </tr>\n",
       "  </tbody>\n",
       "</table>\n",
       "</div>"
      ],
      "text/plain": [
       "                   Status  Invest Cont  Adult Arrest  Adult Other\n",
       "AREA            -0.026600    -0.031588      0.015365     0.023745\n",
       "Crm Cd          -0.114838    -0.125517      0.003735     0.158904\n",
       "Mocodes         -0.188591    -0.197844      0.100531     0.160918\n",
       "Vict Age         0.028976     0.042402     -0.020360    -0.027035\n",
       "Vict Descent     0.005409     0.004847     -0.039548     0.032778\n",
       "Premis Cd       -0.115320    -0.126799      0.046073     0.117428\n",
       "Weapon Used Cd   0.247638     0.269899     -0.146344    -0.202971\n",
       "Status           1.000000     0.942495     -0.698033    -0.622772\n",
       "Crm Cd 1        -0.114415    -0.125054      0.003429     0.158612\n",
       "LAT             -0.052167    -0.054748      0.038042     0.034236\n",
       "LON              0.036897     0.039919     -0.032741    -0.019074\n",
       "TIME OCC_str     0.003449    -0.000106     -0.002458    -0.000071\n",
       "day_of_week      0.014595     0.014691     -0.011607    -0.008236\n",
       "month            0.006113     0.008086     -0.008851    -0.000597\n",
       "Day_Night       -0.007539    -0.005636      0.007283     0.001776\n",
       "Geographic_Zone -0.035072    -0.040667      0.019520     0.031454\n",
       "Female          -0.122355    -0.132392      0.032960     0.139323\n",
       "Male             0.103529     0.110109     -0.051065    -0.093409\n",
       "Unknown gender   0.022814     0.027833      0.031989    -0.066255\n",
       "Adult Arrest    -0.698033    -0.615208      1.000000    -0.107126\n",
       "Adult Other     -0.622772    -0.697450     -0.107126     1.000000\n",
       "Invest Cont      0.942495     1.000000     -0.615208    -0.697450\n",
       "Juv Arrest       0.142243    -0.115348     -0.017717    -0.020086\n",
       "Juv Other        0.106525    -0.085938     -0.013200    -0.014964\n",
       "UNK             -0.003186    -0.004201     -0.000645    -0.000731"
      ]
     },
     "execution_count": 36,
     "metadata": {},
     "output_type": "execute_result"
    }
   ],
   "source": [
    "corr[['Status','Invest Cont','Adult Arrest','Adult Other']]"
   ]
  },
  {
   "cell_type": "markdown",
   "metadata": {},
   "source": [
    "Dari tabel korelasi diatas, ditemukan bahwa Status, Invest Cont, Adult Arrest, dan Adult Other memang memiliki korelasi \n",
    "yang kuat"
   ]
  },
  {
   "cell_type": "markdown",
   "metadata": {},
   "source": [
    "Setelah menemukan korelasi yang kuat antar variabel, kami akan mengambil salah satu dari variabel-variabel yang berhubungan kuat untuk\n",
    "diproses model. Variabel yang akan diambil adalah variabel yang memiliki koralasi yang besar terhadap variabel tujuan (Crm Cd)"
   ]
  },
  {
   "cell_type": "code",
   "execution_count": 37,
   "metadata": {},
   "outputs": [
    {
     "data": {
      "text/plain": [
       "Crm Cd             1.000000\n",
       "Crm Cd 1           0.999458\n",
       "Adult Other        0.158904\n",
       "Weapon Used Cd     0.125788\n",
       "Invest Cont       -0.125517\n",
       "Status            -0.114838\n",
       "Premis Cd          0.093281\n",
       "Male              -0.087629\n",
       "Female             0.076910\n",
       "Vict Descent      -0.064160\n",
       "Day_Night         -0.046602\n",
       "Juv Other          0.022855\n",
       "Unknown gender     0.022769\n",
       "Mocodes            0.021851\n",
       "Juv Arrest        -0.021238\n",
       "day_of_week       -0.008195\n",
       "TIME OCC_str       0.006814\n",
       "Vict Age           0.006466\n",
       "LON                0.006178\n",
       "month             -0.004218\n",
       "Adult Arrest       0.003735\n",
       "LAT                0.001056\n",
       "UNK               -0.000808\n",
       "AREA              -0.000384\n",
       "Geographic_Zone    0.000297\n",
       "Name: Crm Cd, dtype: float64"
      ]
     },
     "execution_count": 37,
     "metadata": {},
     "output_type": "execute_result"
    }
   ],
   "source": [
    "corr.sort_values('Crm Cd', ascending=False, key=abs)['Crm Cd']"
   ]
  },
  {
   "cell_type": "markdown",
   "metadata": {},
   "source": [
    "* Di antara Crm Cd dengan Crm Cd 1 tentu Crm Cd memiliki nilai yang lebih besar, sehingga Crm Cd 1 dapat di-ignore\n",
    "* Di antara Area dengan Geographic Zone, AREA memiliki nilai yang lebih besar, sehingga Geographic Zone dapat di-ignore\n",
    "* Di antara Status dan Invest Cont, Invest Cont memiliki nilai yang lebih besar namun lebih kecil dari Adult Other, sehingga Status dan Adult Arrest\n",
    "dapat di-ignore\n",
    "* Di antara Female dan Male, Male memiliki nilai yang lebih besar, sehingga Female dapat di-ignore"
   ]
  },
  {
   "cell_type": "code",
   "execution_count": 38,
   "metadata": {},
   "outputs": [
    {
     "data": {
      "text/html": [
       "<div>\n",
       "<style scoped>\n",
       "    .dataframe tbody tr th:only-of-type {\n",
       "        vertical-align: middle;\n",
       "    }\n",
       "\n",
       "    .dataframe tbody tr th {\n",
       "        vertical-align: top;\n",
       "    }\n",
       "\n",
       "    .dataframe thead th {\n",
       "        text-align: right;\n",
       "    }\n",
       "</style>\n",
       "<table border=\"1\" class=\"dataframe\">\n",
       "  <thead>\n",
       "    <tr style=\"text-align: right;\">\n",
       "      <th></th>\n",
       "      <th>AREA</th>\n",
       "      <th>Crm Cd</th>\n",
       "      <th>Mocodes</th>\n",
       "      <th>Vict Age</th>\n",
       "      <th>Vict Descent</th>\n",
       "      <th>Premis Cd</th>\n",
       "      <th>Weapon Used Cd</th>\n",
       "      <th>LAT</th>\n",
       "      <th>LON</th>\n",
       "      <th>TIME OCC_str</th>\n",
       "      <th>day_of_week</th>\n",
       "      <th>month</th>\n",
       "      <th>Day_Night</th>\n",
       "      <th>Male</th>\n",
       "      <th>Unknown gender</th>\n",
       "      <th>Adult Other</th>\n",
       "      <th>Invest Cont</th>\n",
       "      <th>Juv Arrest</th>\n",
       "      <th>Juv Other</th>\n",
       "      <th>UNK</th>\n",
       "    </tr>\n",
       "  </thead>\n",
       "  <tbody>\n",
       "    <tr>\n",
       "      <th>0</th>\n",
       "      <td>7</td>\n",
       "      <td>510</td>\n",
       "      <td>344</td>\n",
       "      <td>37</td>\n",
       "      <td>0</td>\n",
       "      <td>101.0</td>\n",
       "      <td>500.0</td>\n",
       "      <td>34.0375</td>\n",
       "      <td>-118.3506</td>\n",
       "      <td>2130</td>\n",
       "      <td>0</td>\n",
       "      <td>2</td>\n",
       "      <td>1</td>\n",
       "      <td>True</td>\n",
       "      <td>False</td>\n",
       "      <td>False</td>\n",
       "      <td>False</td>\n",
       "      <td>False</td>\n",
       "      <td>False</td>\n",
       "      <td>False</td>\n",
       "    </tr>\n",
       "    <tr>\n",
       "      <th>1</th>\n",
       "      <td>1</td>\n",
       "      <td>330</td>\n",
       "      <td>1822</td>\n",
       "      <td>47</td>\n",
       "      <td>0</td>\n",
       "      <td>128.0</td>\n",
       "      <td>500.0</td>\n",
       "      <td>34.0444</td>\n",
       "      <td>-118.2628</td>\n",
       "      <td>1800</td>\n",
       "      <td>6</td>\n",
       "      <td>1</td>\n",
       "      <td>0</td>\n",
       "      <td>True</td>\n",
       "      <td>False</td>\n",
       "      <td>False</td>\n",
       "      <td>True</td>\n",
       "      <td>False</td>\n",
       "      <td>False</td>\n",
       "      <td>False</td>\n",
       "    </tr>\n",
       "    <tr>\n",
       "      <th>2</th>\n",
       "      <td>3</td>\n",
       "      <td>480</td>\n",
       "      <td>344</td>\n",
       "      <td>19</td>\n",
       "      <td>1</td>\n",
       "      <td>502.0</td>\n",
       "      <td>500.0</td>\n",
       "      <td>34.0210</td>\n",
       "      <td>-118.3002</td>\n",
       "      <td>1700</td>\n",
       "      <td>3</td>\n",
       "      <td>10</td>\n",
       "      <td>0</td>\n",
       "      <td>False</td>\n",
       "      <td>True</td>\n",
       "      <td>False</td>\n",
       "      <td>True</td>\n",
       "      <td>False</td>\n",
       "      <td>False</td>\n",
       "      <td>False</td>\n",
       "    </tr>\n",
       "    <tr>\n",
       "      <th>3</th>\n",
       "      <td>9</td>\n",
       "      <td>343</td>\n",
       "      <td>325</td>\n",
       "      <td>19</td>\n",
       "      <td>0</td>\n",
       "      <td>405.0</td>\n",
       "      <td>500.0</td>\n",
       "      <td>34.1576</td>\n",
       "      <td>-118.4387</td>\n",
       "      <td>2037</td>\n",
       "      <td>2</td>\n",
       "      <td>2</td>\n",
       "      <td>1</td>\n",
       "      <td>True</td>\n",
       "      <td>False</td>\n",
       "      <td>False</td>\n",
       "      <td>True</td>\n",
       "      <td>False</td>\n",
       "      <td>False</td>\n",
       "      <td>False</td>\n",
       "    </tr>\n",
       "    <tr>\n",
       "      <th>4</th>\n",
       "      <td>6</td>\n",
       "      <td>354</td>\n",
       "      <td>1822</td>\n",
       "      <td>28</td>\n",
       "      <td>2</td>\n",
       "      <td>102.0</td>\n",
       "      <td>500.0</td>\n",
       "      <td>34.0944</td>\n",
       "      <td>-118.3277</td>\n",
       "      <td>1200</td>\n",
       "      <td>1</td>\n",
       "      <td>7</td>\n",
       "      <td>0</td>\n",
       "      <td>True</td>\n",
       "      <td>False</td>\n",
       "      <td>False</td>\n",
       "      <td>True</td>\n",
       "      <td>False</td>\n",
       "      <td>False</td>\n",
       "      <td>False</td>\n",
       "    </tr>\n",
       "  </tbody>\n",
       "</table>\n",
       "</div>"
      ],
      "text/plain": [
       "   AREA  Crm Cd  Mocodes  Vict Age  Vict Descent  Premis Cd  Weapon Used Cd  \\\n",
       "0     7     510      344        37             0      101.0           500.0   \n",
       "1     1     330     1822        47             0      128.0           500.0   \n",
       "2     3     480      344        19             1      502.0           500.0   \n",
       "3     9     343      325        19             0      405.0           500.0   \n",
       "4     6     354     1822        28             2      102.0           500.0   \n",
       "\n",
       "       LAT       LON  TIME OCC_str  day_of_week  month  Day_Night   Male  \\\n",
       "0  34.0375 -118.3506          2130            0      2          1   True   \n",
       "1  34.0444 -118.2628          1800            6      1          0   True   \n",
       "2  34.0210 -118.3002          1700            3     10          0  False   \n",
       "3  34.1576 -118.4387          2037            2      2          1   True   \n",
       "4  34.0944 -118.3277          1200            1      7          0   True   \n",
       "\n",
       "   Unknown gender  Adult Other  Invest Cont  Juv Arrest  Juv Other    UNK  \n",
       "0           False        False        False       False      False  False  \n",
       "1           False        False         True       False      False  False  \n",
       "2            True        False         True       False      False  False  \n",
       "3           False        False         True       False      False  False  \n",
       "4           False        False         True       False      False  False  "
      ]
     },
     "execution_count": 38,
     "metadata": {},
     "output_type": "execute_result"
    }
   ],
   "source": [
    "dt_selected = dt_transformed.drop(['Crm Cd 1', 'Geographic_Zone', 'Status', 'Adult Arrest', 'Female'], axis=1)\n",
    "dt_selected.head()"
   ]
  },
  {
   "cell_type": "code",
   "execution_count": 39,
   "metadata": {},
   "outputs": [],
   "source": [
    "# habus stored dataframe yang tidak diperlukan untuk meringankan kinerja laptop\n",
    "del dt, dt_filtered, dt_transformed, crime"
   ]
  },
  {
   "cell_type": "markdown",
   "metadata": {},
   "source": [
    "### Data Balancing"
   ]
  },
  {
   "cell_type": "markdown",
   "metadata": {},
   "source": [
    "Sebelum dilakukan training, perlu dilakukan data balancing terlebih dahulu, dimana kita akan menyetarakan variabel tujuan (yang nantinya akan dijadikan bahan training) agar ketika model ditraining, hasil tidak skew/condong ke salah satu hasil."
   ]
  },
  {
   "cell_type": "code",
   "execution_count": 40,
   "metadata": {},
   "outputs": [
    {
     "data": {
      "text/plain": [
       "Crm Cd\n",
       "510    109005\n",
       "624     66891\n",
       "330     57833\n",
       "740     55426\n",
       "354     54615\n",
       "        ...  \n",
       "884         4\n",
       "906         4\n",
       "445         4\n",
       "926         1\n",
       "453         1\n",
       "Name: count, Length: 140, dtype: int64"
      ]
     },
     "execution_count": 40,
     "metadata": {},
     "output_type": "execute_result"
    }
   ],
   "source": [
    "dt_selected['Crm Cd'].value_counts()"
   ]
  },
  {
   "cell_type": "markdown",
   "metadata": {},
   "source": [
    "Berdasarkan data diatas, apabila kami melakukan data balancing dengan oversampling maka data yang diproses akan menjadi sangat banyak dan sulit untuk diproses. oleh karena itu kelompok kami memilih untuk membatasi sample size diangka 5000 row untuk setiap kelas yang akan diprediksi"
   ]
  },
  {
   "cell_type": "code",
   "execution_count": 41,
   "metadata": {},
   "outputs": [],
   "source": [
    "X = dt_selected.drop('Crm Cd', axis=1)\n",
    "y = dt_selected['Crm Cd']"
   ]
  },
  {
   "cell_type": "code",
   "execution_count": 42,
   "metadata": {},
   "outputs": [
    {
     "data": {
      "text/plain": [
       "Crm Cd\n",
       "510    109005\n",
       "931    109005\n",
       "441    109005\n",
       "444    109005\n",
       "670    109005\n",
       "        ...  \n",
       "352    109005\n",
       "625    109005\n",
       "940    109005\n",
       "815    109005\n",
       "453    109005\n",
       "Name: count, Length: 140, dtype: int64"
      ]
     },
     "execution_count": 42,
     "metadata": {},
     "output_type": "execute_result"
    }
   ],
   "source": [
    "balancer = RandomOverSampler(random_state=42)\n",
    "X_balanced, y_balanced = balancer.fit_resample(X, y)\n",
    "y_balanced.value_counts()"
   ]
  },
  {
   "cell_type": "code",
   "execution_count": 43,
   "metadata": {},
   "outputs": [
    {
     "name": "stdout",
     "output_type": "stream",
     "text": [
      "510    1000\n",
      "931    1000\n",
      "441    1000\n",
      "444    1000\n",
      "670    1000\n",
      "       ... \n",
      "352    1000\n",
      "625    1000\n",
      "940    1000\n",
      "815    1000\n",
      "453    1000\n",
      "Name: count, Length: 140, dtype: int64\n"
     ]
    }
   ],
   "source": [
    "# Initialize temporary variables to hold the samples\n",
    "temp_X = pd.DataFrame()\n",
    "temp_y = pd.Series(dtype=int)\n",
    "\n",
    "# Untuk setiap kelas, ambil 5000 row\n",
    "for class_label in y_balanced.unique():\n",
    "    class_X = X_balanced[y_balanced == class_label]\n",
    "    class_y = y_balanced[y_balanced == class_label]\n",
    "\n",
    "    n_samples = min(len(class_X), 5000)  # Jumlah sampel yang diambil\n",
    "    sampled_X = class_X.sample(n=n_samples, random_state=42)\n",
    "    sampled_y = class_y.sample(n=n_samples, random_state=42)\n",
    "\n",
    "    temp_X = pd.concat([temp_X, sampled_X], ignore_index=True)\n",
    "    temp_y = pd.concat([temp_y, sampled_y], ignore_index=True)\n",
    "\n",
    "X_balanced = temp_X\n",
    "y_balanced = temp_y\n",
    "\n",
    "del temp_X, temp_y\n",
    "\n",
    "print(y_balanced.value_counts())"
   ]
  },
  {
   "cell_type": "code",
   "execution_count": 44,
   "metadata": {},
   "outputs": [
    {
     "data": {
      "text/html": [
       "<div>\n",
       "<style scoped>\n",
       "    .dataframe tbody tr th:only-of-type {\n",
       "        vertical-align: middle;\n",
       "    }\n",
       "\n",
       "    .dataframe tbody tr th {\n",
       "        vertical-align: top;\n",
       "    }\n",
       "\n",
       "    .dataframe thead th {\n",
       "        text-align: right;\n",
       "    }\n",
       "</style>\n",
       "<table border=\"1\" class=\"dataframe\">\n",
       "  <thead>\n",
       "    <tr style=\"text-align: right;\">\n",
       "      <th></th>\n",
       "      <th>AREA</th>\n",
       "      <th>Mocodes</th>\n",
       "      <th>Vict Age</th>\n",
       "      <th>Vict Descent</th>\n",
       "      <th>Premis Cd</th>\n",
       "      <th>Weapon Used Cd</th>\n",
       "      <th>LAT</th>\n",
       "      <th>LON</th>\n",
       "      <th>TIME OCC_str</th>\n",
       "      <th>day_of_week</th>\n",
       "      <th>month</th>\n",
       "      <th>Day_Night</th>\n",
       "      <th>Male</th>\n",
       "      <th>Unknown gender</th>\n",
       "      <th>Adult Other</th>\n",
       "      <th>Invest Cont</th>\n",
       "      <th>Juv Arrest</th>\n",
       "      <th>Juv Other</th>\n",
       "      <th>UNK</th>\n",
       "    </tr>\n",
       "  </thead>\n",
       "  <tbody>\n",
       "    <tr>\n",
       "      <th>0</th>\n",
       "      <td>13</td>\n",
       "      <td>344</td>\n",
       "      <td>37</td>\n",
       "      <td>2</td>\n",
       "      <td>101.0</td>\n",
       "      <td>500.0</td>\n",
       "      <td>34.0146</td>\n",
       "      <td>-118.2781</td>\n",
       "      <td>2330</td>\n",
       "      <td>0</td>\n",
       "      <td>5</td>\n",
       "      <td>1</td>\n",
       "      <td>True</td>\n",
       "      <td>False</td>\n",
       "      <td>False</td>\n",
       "      <td>True</td>\n",
       "      <td>False</td>\n",
       "      <td>False</td>\n",
       "      <td>False</td>\n",
       "    </tr>\n",
       "    <tr>\n",
       "      <th>1</th>\n",
       "      <td>7</td>\n",
       "      <td>344</td>\n",
       "      <td>37</td>\n",
       "      <td>2</td>\n",
       "      <td>108.0</td>\n",
       "      <td>500.0</td>\n",
       "      <td>34.0853</td>\n",
       "      <td>-118.3753</td>\n",
       "      <td>1400</td>\n",
       "      <td>3</td>\n",
       "      <td>11</td>\n",
       "      <td>0</td>\n",
       "      <td>True</td>\n",
       "      <td>False</td>\n",
       "      <td>False</td>\n",
       "      <td>True</td>\n",
       "      <td>False</td>\n",
       "      <td>False</td>\n",
       "      <td>False</td>\n",
       "    </tr>\n",
       "    <tr>\n",
       "      <th>2</th>\n",
       "      <td>19</td>\n",
       "      <td>344</td>\n",
       "      <td>37</td>\n",
       "      <td>2</td>\n",
       "      <td>101.0</td>\n",
       "      <td>500.0</td>\n",
       "      <td>34.2839</td>\n",
       "      <td>-118.4560</td>\n",
       "      <td>20</td>\n",
       "      <td>1</td>\n",
       "      <td>7</td>\n",
       "      <td>1</td>\n",
       "      <td>True</td>\n",
       "      <td>False</td>\n",
       "      <td>False</td>\n",
       "      <td>True</td>\n",
       "      <td>False</td>\n",
       "      <td>False</td>\n",
       "      <td>False</td>\n",
       "    </tr>\n",
       "    <tr>\n",
       "      <th>3</th>\n",
       "      <td>7</td>\n",
       "      <td>344</td>\n",
       "      <td>37</td>\n",
       "      <td>2</td>\n",
       "      <td>101.0</td>\n",
       "      <td>500.0</td>\n",
       "      <td>34.0362</td>\n",
       "      <td>-118.3284</td>\n",
       "      <td>1600</td>\n",
       "      <td>6</td>\n",
       "      <td>7</td>\n",
       "      <td>0</td>\n",
       "      <td>True</td>\n",
       "      <td>False</td>\n",
       "      <td>False</td>\n",
       "      <td>True</td>\n",
       "      <td>False</td>\n",
       "      <td>False</td>\n",
       "      <td>False</td>\n",
       "    </tr>\n",
       "    <tr>\n",
       "      <th>4</th>\n",
       "      <td>20</td>\n",
       "      <td>344</td>\n",
       "      <td>37</td>\n",
       "      <td>2</td>\n",
       "      <td>108.0</td>\n",
       "      <td>500.0</td>\n",
       "      <td>34.0545</td>\n",
       "      <td>-118.2941</td>\n",
       "      <td>1900</td>\n",
       "      <td>4</td>\n",
       "      <td>6</td>\n",
       "      <td>1</td>\n",
       "      <td>True</td>\n",
       "      <td>False</td>\n",
       "      <td>False</td>\n",
       "      <td>True</td>\n",
       "      <td>False</td>\n",
       "      <td>False</td>\n",
       "      <td>False</td>\n",
       "    </tr>\n",
       "    <tr>\n",
       "      <th>5</th>\n",
       "      <td>9</td>\n",
       "      <td>344</td>\n",
       "      <td>37</td>\n",
       "      <td>2</td>\n",
       "      <td>101.0</td>\n",
       "      <td>500.0</td>\n",
       "      <td>34.1938</td>\n",
       "      <td>-118.4702</td>\n",
       "      <td>1400</td>\n",
       "      <td>0</td>\n",
       "      <td>1</td>\n",
       "      <td>0</td>\n",
       "      <td>True</td>\n",
       "      <td>False</td>\n",
       "      <td>False</td>\n",
       "      <td>True</td>\n",
       "      <td>False</td>\n",
       "      <td>False</td>\n",
       "      <td>False</td>\n",
       "    </tr>\n",
       "    <tr>\n",
       "      <th>6</th>\n",
       "      <td>1</td>\n",
       "      <td>344</td>\n",
       "      <td>37</td>\n",
       "      <td>2</td>\n",
       "      <td>101.0</td>\n",
       "      <td>500.0</td>\n",
       "      <td>34.0509</td>\n",
       "      <td>-118.2515</td>\n",
       "      <td>45</td>\n",
       "      <td>3</td>\n",
       "      <td>6</td>\n",
       "      <td>1</td>\n",
       "      <td>True</td>\n",
       "      <td>False</td>\n",
       "      <td>False</td>\n",
       "      <td>True</td>\n",
       "      <td>False</td>\n",
       "      <td>False</td>\n",
       "      <td>False</td>\n",
       "    </tr>\n",
       "    <tr>\n",
       "      <th>7</th>\n",
       "      <td>4</td>\n",
       "      <td>344</td>\n",
       "      <td>37</td>\n",
       "      <td>2</td>\n",
       "      <td>101.0</td>\n",
       "      <td>500.0</td>\n",
       "      <td>34.0336</td>\n",
       "      <td>-118.2140</td>\n",
       "      <td>1</td>\n",
       "      <td>6</td>\n",
       "      <td>9</td>\n",
       "      <td>1</td>\n",
       "      <td>True</td>\n",
       "      <td>False</td>\n",
       "      <td>False</td>\n",
       "      <td>True</td>\n",
       "      <td>False</td>\n",
       "      <td>False</td>\n",
       "      <td>False</td>\n",
       "    </tr>\n",
       "    <tr>\n",
       "      <th>8</th>\n",
       "      <td>17</td>\n",
       "      <td>344</td>\n",
       "      <td>37</td>\n",
       "      <td>2</td>\n",
       "      <td>101.0</td>\n",
       "      <td>500.0</td>\n",
       "      <td>34.2709</td>\n",
       "      <td>-118.5954</td>\n",
       "      <td>500</td>\n",
       "      <td>5</td>\n",
       "      <td>2</td>\n",
       "      <td>1</td>\n",
       "      <td>True</td>\n",
       "      <td>False</td>\n",
       "      <td>False</td>\n",
       "      <td>True</td>\n",
       "      <td>False</td>\n",
       "      <td>False</td>\n",
       "      <td>False</td>\n",
       "    </tr>\n",
       "    <tr>\n",
       "      <th>9</th>\n",
       "      <td>13</td>\n",
       "      <td>344</td>\n",
       "      <td>37</td>\n",
       "      <td>2</td>\n",
       "      <td>101.0</td>\n",
       "      <td>500.0</td>\n",
       "      <td>34.0216</td>\n",
       "      <td>-118.2531</td>\n",
       "      <td>1400</td>\n",
       "      <td>4</td>\n",
       "      <td>5</td>\n",
       "      <td>0</td>\n",
       "      <td>True</td>\n",
       "      <td>False</td>\n",
       "      <td>False</td>\n",
       "      <td>True</td>\n",
       "      <td>False</td>\n",
       "      <td>False</td>\n",
       "      <td>False</td>\n",
       "    </tr>\n",
       "    <tr>\n",
       "      <th>10</th>\n",
       "      <td>5</td>\n",
       "      <td>344</td>\n",
       "      <td>37</td>\n",
       "      <td>2</td>\n",
       "      <td>101.0</td>\n",
       "      <td>500.0</td>\n",
       "      <td>33.7415</td>\n",
       "      <td>-118.2857</td>\n",
       "      <td>2000</td>\n",
       "      <td>2</td>\n",
       "      <td>0</td>\n",
       "      <td>1</td>\n",
       "      <td>True</td>\n",
       "      <td>False</td>\n",
       "      <td>False</td>\n",
       "      <td>True</td>\n",
       "      <td>False</td>\n",
       "      <td>False</td>\n",
       "      <td>False</td>\n",
       "    </tr>\n",
       "    <tr>\n",
       "      <th>11</th>\n",
       "      <td>17</td>\n",
       "      <td>344</td>\n",
       "      <td>37</td>\n",
       "      <td>2</td>\n",
       "      <td>101.0</td>\n",
       "      <td>500.0</td>\n",
       "      <td>34.2222</td>\n",
       "      <td>-118.5710</td>\n",
       "      <td>1300</td>\n",
       "      <td>2</td>\n",
       "      <td>10</td>\n",
       "      <td>0</td>\n",
       "      <td>True</td>\n",
       "      <td>False</td>\n",
       "      <td>False</td>\n",
       "      <td>True</td>\n",
       "      <td>False</td>\n",
       "      <td>False</td>\n",
       "      <td>False</td>\n",
       "    </tr>\n",
       "    <tr>\n",
       "      <th>12</th>\n",
       "      <td>11</td>\n",
       "      <td>344</td>\n",
       "      <td>37</td>\n",
       "      <td>2</td>\n",
       "      <td>101.0</td>\n",
       "      <td>500.0</td>\n",
       "      <td>34.0893</td>\n",
       "      <td>-118.2685</td>\n",
       "      <td>2200</td>\n",
       "      <td>5</td>\n",
       "      <td>9</td>\n",
       "      <td>1</td>\n",
       "      <td>True</td>\n",
       "      <td>False</td>\n",
       "      <td>False</td>\n",
       "      <td>False</td>\n",
       "      <td>False</td>\n",
       "      <td>False</td>\n",
       "      <td>False</td>\n",
       "    </tr>\n",
       "    <tr>\n",
       "      <th>13</th>\n",
       "      <td>8</td>\n",
       "      <td>344</td>\n",
       "      <td>37</td>\n",
       "      <td>2</td>\n",
       "      <td>108.0</td>\n",
       "      <td>500.0</td>\n",
       "      <td>34.0383</td>\n",
       "      <td>-118.4557</td>\n",
       "      <td>330</td>\n",
       "      <td>0</td>\n",
       "      <td>11</td>\n",
       "      <td>1</td>\n",
       "      <td>True</td>\n",
       "      <td>False</td>\n",
       "      <td>False</td>\n",
       "      <td>True</td>\n",
       "      <td>False</td>\n",
       "      <td>False</td>\n",
       "      <td>False</td>\n",
       "    </tr>\n",
       "    <tr>\n",
       "      <th>14</th>\n",
       "      <td>10</td>\n",
       "      <td>344</td>\n",
       "      <td>37</td>\n",
       "      <td>2</td>\n",
       "      <td>108.0</td>\n",
       "      <td>500.0</td>\n",
       "      <td>34.1693</td>\n",
       "      <td>-118.5184</td>\n",
       "      <td>1400</td>\n",
       "      <td>3</td>\n",
       "      <td>1</td>\n",
       "      <td>0</td>\n",
       "      <td>True</td>\n",
       "      <td>False</td>\n",
       "      <td>False</td>\n",
       "      <td>True</td>\n",
       "      <td>False</td>\n",
       "      <td>False</td>\n",
       "      <td>False</td>\n",
       "    </tr>\n",
       "  </tbody>\n",
       "</table>\n",
       "</div>"
      ],
      "text/plain": [
       "    AREA  Mocodes  Vict Age  Vict Descent  Premis Cd  Weapon Used Cd      LAT  \\\n",
       "0     13      344        37             2      101.0           500.0  34.0146   \n",
       "1      7      344        37             2      108.0           500.0  34.0853   \n",
       "2     19      344        37             2      101.0           500.0  34.2839   \n",
       "3      7      344        37             2      101.0           500.0  34.0362   \n",
       "4     20      344        37             2      108.0           500.0  34.0545   \n",
       "5      9      344        37             2      101.0           500.0  34.1938   \n",
       "6      1      344        37             2      101.0           500.0  34.0509   \n",
       "7      4      344        37             2      101.0           500.0  34.0336   \n",
       "8     17      344        37             2      101.0           500.0  34.2709   \n",
       "9     13      344        37             2      101.0           500.0  34.0216   \n",
       "10     5      344        37             2      101.0           500.0  33.7415   \n",
       "11    17      344        37             2      101.0           500.0  34.2222   \n",
       "12    11      344        37             2      101.0           500.0  34.0893   \n",
       "13     8      344        37             2      108.0           500.0  34.0383   \n",
       "14    10      344        37             2      108.0           500.0  34.1693   \n",
       "\n",
       "         LON  TIME OCC_str  day_of_week  month  Day_Night  Male  \\\n",
       "0  -118.2781          2330            0      5          1  True   \n",
       "1  -118.3753          1400            3     11          0  True   \n",
       "2  -118.4560            20            1      7          1  True   \n",
       "3  -118.3284          1600            6      7          0  True   \n",
       "4  -118.2941          1900            4      6          1  True   \n",
       "5  -118.4702          1400            0      1          0  True   \n",
       "6  -118.2515            45            3      6          1  True   \n",
       "7  -118.2140             1            6      9          1  True   \n",
       "8  -118.5954           500            5      2          1  True   \n",
       "9  -118.2531          1400            4      5          0  True   \n",
       "10 -118.2857          2000            2      0          1  True   \n",
       "11 -118.5710          1300            2     10          0  True   \n",
       "12 -118.2685          2200            5      9          1  True   \n",
       "13 -118.4557           330            0     11          1  True   \n",
       "14 -118.5184          1400            3      1          0  True   \n",
       "\n",
       "    Unknown gender  Adult Other  Invest Cont  Juv Arrest  Juv Other    UNK  \n",
       "0            False        False         True       False      False  False  \n",
       "1            False        False         True       False      False  False  \n",
       "2            False        False         True       False      False  False  \n",
       "3            False        False         True       False      False  False  \n",
       "4            False        False         True       False      False  False  \n",
       "5            False        False         True       False      False  False  \n",
       "6            False        False         True       False      False  False  \n",
       "7            False        False         True       False      False  False  \n",
       "8            False        False         True       False      False  False  \n",
       "9            False        False         True       False      False  False  \n",
       "10           False        False         True       False      False  False  \n",
       "11           False        False         True       False      False  False  \n",
       "12           False        False        False       False      False  False  \n",
       "13           False        False         True       False      False  False  \n",
       "14           False        False         True       False      False  False  "
      ]
     },
     "execution_count": 44,
     "metadata": {},
     "output_type": "execute_result"
    }
   ],
   "source": [
    "X_balanced.head(15)"
   ]
  },
  {
   "cell_type": "markdown",
   "metadata": {},
   "source": [
    "### Data Splitting - 5-fold cross validation"
   ]
  },
  {
   "cell_type": "code",
   "execution_count": 45,
   "metadata": {},
   "outputs": [],
   "source": [
    "# split dataset 30% untuk test\n",
    "X_train_main, X_test_main, y_train_main, y_test_main = train_test_split(X_balanced, y_balanced, test_size=0.3, random_state=130, stratify=y_balanced)"
   ]
  },
  {
   "cell_type": "code",
   "execution_count": 46,
   "metadata": {},
   "outputs": [
    {
     "name": "stdout",
     "output_type": "stream",
     "text": [
      "906    700\n",
      "627    700\n",
      "310    700\n",
      "410    700\n",
      "433    700\n",
      "      ... \n",
      "450    700\n",
      "870    700\n",
      "880    700\n",
      "924    700\n",
      "910    700\n",
      "Name: count, Length: 140, dtype: int64\n",
      "mean 700.0\n",
      "standar deviasi 0.0\n"
     ]
    }
   ],
   "source": [
    "# Menghitung jumlah masing-masing kelas\n",
    "class_counts = y_train_main.value_counts()\n",
    "print(class_counts)\n",
    "print(\"mean \"+class_counts.mean().astype(str))\n",
    "print(\"standar deviasi \"+class_counts.std().astype(str))"
   ]
  },
  {
   "cell_type": "markdown",
   "metadata": {},
   "source": [
    "Nilai Mean menunjukkan 17500 dan standar deviasi tepat nol menandakan setiap kelas pada y_train terbagi secara proposional menggunakan train_test_split()"
   ]
  },
  {
   "cell_type": "code",
   "execution_count": 47,
   "metadata": {},
   "outputs": [],
   "source": [
    "# initialize Stratified KFold splitter\n",
    "strat_kfold = StratifiedKFold(n_splits=5, shuffle=True, random_state=130)"
   ]
  },
  {
   "cell_type": "code",
   "execution_count": 48,
   "metadata": {},
   "outputs": [
    {
     "name": "stdout",
     "output_type": "stream",
     "text": [
      "\n",
      "KFold\n",
      "\n",
      "Fold 0\n",
      "  Train: index=[0 1 2 5 6]... (78400 rows)\n",
      "  Test:  index=[ 3  4 12 20 21]... (19600 rows)\n",
      "Fold 1\n",
      "  Train: index=[0 1 3 4 5]... (78400 rows)\n",
      "  Test:  index=[ 2  6  9 15 16]... (19600 rows)\n",
      "Fold 2\n",
      "  Train: index=[0 2 3 4 5]... (78400 rows)\n",
      "  Test:  index=[ 1  7  8 10 25]... (19600 rows)\n",
      "Fold 3\n",
      "  Train: index=[0 1 2 3 4]... (78400 rows)\n",
      "  Test:  index=[13 14 17 22 30]... (19600 rows)\n",
      "Fold 4\n",
      "  Train: index=[1 2 3 4 6]... (78400 rows)\n",
      "  Test:  index=[ 0  5 11 19 24]... (19600 rows)\n"
     ]
    }
   ],
   "source": [
    "# 5-fold cross validation untuk data train\n",
    "train_set_kfold = []\n",
    "test_set_kfold = []\n",
    "\n",
    "print('\\nKFold\\n')\n",
    "for i, (train_index, test_index) in enumerate(strat_kfold.split(X_train_main, y_train_main)): # for strat_kfold, incl. both X and y\n",
    "  print(f\"Fold {i}\")\n",
    "  print(f\"  Train: index={train_index[:5]}... ({len(train_index)} rows)\")\n",
    "  print(f\"  Test:  index={test_index[:5]}... ({len(test_index)} rows)\")\n",
    "  train_set_kfold.append(train_index)\n",
    "  test_set_kfold.append(test_index)"
   ]
  },
  {
   "cell_type": "code",
   "execution_count": 49,
   "metadata": {},
   "outputs": [
    {
     "data": {
      "text/html": [
       "<div>\n",
       "<style scoped>\n",
       "    .dataframe tbody tr th:only-of-type {\n",
       "        vertical-align: middle;\n",
       "    }\n",
       "\n",
       "    .dataframe tbody tr th {\n",
       "        vertical-align: top;\n",
       "    }\n",
       "\n",
       "    .dataframe thead th {\n",
       "        text-align: right;\n",
       "    }\n",
       "</style>\n",
       "<table border=\"1\" class=\"dataframe\">\n",
       "  <thead>\n",
       "    <tr style=\"text-align: right;\">\n",
       "      <th></th>\n",
       "      <th>AREA</th>\n",
       "      <th>Mocodes</th>\n",
       "      <th>Vict Age</th>\n",
       "      <th>Vict Descent</th>\n",
       "      <th>Premis Cd</th>\n",
       "      <th>Weapon Used Cd</th>\n",
       "      <th>LAT</th>\n",
       "      <th>LON</th>\n",
       "      <th>TIME OCC_str</th>\n",
       "      <th>day_of_week</th>\n",
       "      <th>month</th>\n",
       "      <th>Day_Night</th>\n",
       "    </tr>\n",
       "  </thead>\n",
       "  <tbody>\n",
       "    <tr>\n",
       "      <th>count</th>\n",
       "      <td>78400.000000</td>\n",
       "      <td>78400.000000</td>\n",
       "      <td>78400.000000</td>\n",
       "      <td>78400.000000</td>\n",
       "      <td>78400.000000</td>\n",
       "      <td>78400.00000</td>\n",
       "      <td>78400.000000</td>\n",
       "      <td>78400.000000</td>\n",
       "      <td>78400.000000</td>\n",
       "      <td>78400.000000</td>\n",
       "      <td>78400.000000</td>\n",
       "      <td>78400.000000</td>\n",
       "    </tr>\n",
       "    <tr>\n",
       "      <th>mean</th>\n",
       "      <td>10.781977</td>\n",
       "      <td>1065.308916</td>\n",
       "      <td>34.274158</td>\n",
       "      <td>2.291645</td>\n",
       "      <td>335.080638</td>\n",
       "      <td>446.46773</td>\n",
       "      <td>33.979945</td>\n",
       "      <td>-118.033030</td>\n",
       "      <td>1311.030765</td>\n",
       "      <td>3.047742</td>\n",
       "      <td>5.218954</td>\n",
       "      <td>0.445217</td>\n",
       "    </tr>\n",
       "    <tr>\n",
       "      <th>std</th>\n",
       "      <td>6.077173</td>\n",
       "      <td>638.553459</td>\n",
       "      <td>11.894368</td>\n",
       "      <td>1.384878</td>\n",
       "      <td>222.229386</td>\n",
       "      <td>107.44213</td>\n",
       "      <td>1.772927</td>\n",
       "      <td>6.147031</td>\n",
       "      <td>665.418753</td>\n",
       "      <td>2.000926</td>\n",
       "      <td>3.439713</td>\n",
       "      <td>0.496993</td>\n",
       "    </tr>\n",
       "    <tr>\n",
       "      <th>min</th>\n",
       "      <td>1.000000</td>\n",
       "      <td>100.000000</td>\n",
       "      <td>12.000000</td>\n",
       "      <td>0.000000</td>\n",
       "      <td>101.000000</td>\n",
       "      <td>101.00000</td>\n",
       "      <td>0.000000</td>\n",
       "      <td>-118.667600</td>\n",
       "      <td>1.000000</td>\n",
       "      <td>0.000000</td>\n",
       "      <td>0.000000</td>\n",
       "      <td>0.000000</td>\n",
       "    </tr>\n",
       "    <tr>\n",
       "      <th>25%</th>\n",
       "      <td>6.000000</td>\n",
       "      <td>400.000000</td>\n",
       "      <td>26.000000</td>\n",
       "      <td>1.000000</td>\n",
       "      <td>102.000000</td>\n",
       "      <td>400.00000</td>\n",
       "      <td>34.007975</td>\n",
       "      <td>-118.426900</td>\n",
       "      <td>850.000000</td>\n",
       "      <td>1.000000</td>\n",
       "      <td>2.000000</td>\n",
       "      <td>0.000000</td>\n",
       "    </tr>\n",
       "    <tr>\n",
       "      <th>50%</th>\n",
       "      <td>11.000000</td>\n",
       "      <td>943.000000</td>\n",
       "      <td>37.000000</td>\n",
       "      <td>2.000000</td>\n",
       "      <td>401.000000</td>\n",
       "      <td>500.00000</td>\n",
       "      <td>34.057700</td>\n",
       "      <td>-118.318900</td>\n",
       "      <td>1355.000000</td>\n",
       "      <td>3.000000</td>\n",
       "      <td>5.000000</td>\n",
       "      <td>0.000000</td>\n",
       "    </tr>\n",
       "    <tr>\n",
       "      <th>75%</th>\n",
       "      <td>16.000000</td>\n",
       "      <td>1601.000000</td>\n",
       "      <td>39.000000</td>\n",
       "      <td>3.000000</td>\n",
       "      <td>502.000000</td>\n",
       "      <td>500.00000</td>\n",
       "      <td>34.166000</td>\n",
       "      <td>-118.276400</td>\n",
       "      <td>1850.000000</td>\n",
       "      <td>5.000000</td>\n",
       "      <td>8.000000</td>\n",
       "      <td>1.000000</td>\n",
       "    </tr>\n",
       "    <tr>\n",
       "      <th>max</th>\n",
       "      <td>21.000000</td>\n",
       "      <td>9999.000000</td>\n",
       "      <td>63.000000</td>\n",
       "      <td>19.000000</td>\n",
       "      <td>971.000000</td>\n",
       "      <td>516.00000</td>\n",
       "      <td>34.327500</td>\n",
       "      <td>0.000000</td>\n",
       "      <td>2359.000000</td>\n",
       "      <td>6.000000</td>\n",
       "      <td>11.000000</td>\n",
       "      <td>1.000000</td>\n",
       "    </tr>\n",
       "  </tbody>\n",
       "</table>\n",
       "</div>"
      ],
      "text/plain": [
       "               AREA       Mocodes      Vict Age  Vict Descent     Premis Cd  \\\n",
       "count  78400.000000  78400.000000  78400.000000  78400.000000  78400.000000   \n",
       "mean      10.781977   1065.308916     34.274158      2.291645    335.080638   \n",
       "std        6.077173    638.553459     11.894368      1.384878    222.229386   \n",
       "min        1.000000    100.000000     12.000000      0.000000    101.000000   \n",
       "25%        6.000000    400.000000     26.000000      1.000000    102.000000   \n",
       "50%       11.000000    943.000000     37.000000      2.000000    401.000000   \n",
       "75%       16.000000   1601.000000     39.000000      3.000000    502.000000   \n",
       "max       21.000000   9999.000000     63.000000     19.000000    971.000000   \n",
       "\n",
       "       Weapon Used Cd           LAT           LON  TIME OCC_str   day_of_week  \\\n",
       "count     78400.00000  78400.000000  78400.000000  78400.000000  78400.000000   \n",
       "mean        446.46773     33.979945   -118.033030   1311.030765      3.047742   \n",
       "std         107.44213      1.772927      6.147031    665.418753      2.000926   \n",
       "min         101.00000      0.000000   -118.667600      1.000000      0.000000   \n",
       "25%         400.00000     34.007975   -118.426900    850.000000      1.000000   \n",
       "50%         500.00000     34.057700   -118.318900   1355.000000      3.000000   \n",
       "75%         500.00000     34.166000   -118.276400   1850.000000      5.000000   \n",
       "max         516.00000     34.327500      0.000000   2359.000000      6.000000   \n",
       "\n",
       "              month     Day_Night  \n",
       "count  78400.000000  78400.000000  \n",
       "mean       5.218954      0.445217  \n",
       "std        3.439713      0.496993  \n",
       "min        0.000000      0.000000  \n",
       "25%        2.000000      0.000000  \n",
       "50%        5.000000      0.000000  \n",
       "75%        8.000000      1.000000  \n",
       "max       11.000000      1.000000  "
      ]
     },
     "execution_count": 49,
     "metadata": {},
     "output_type": "execute_result"
    }
   ],
   "source": [
    "X_balanced.iloc[train_set_kfold[0]].describe()"
   ]
  },
  {
   "cell_type": "markdown",
   "metadata": {},
   "source": [
    "### Feature Scaling"
   ]
  },
  {
   "cell_type": "code",
   "execution_count": 50,
   "metadata": {},
   "outputs": [
    {
     "data": {
      "text/html": [
       "<div>\n",
       "<style scoped>\n",
       "    .dataframe tbody tr th:only-of-type {\n",
       "        vertical-align: middle;\n",
       "    }\n",
       "\n",
       "    .dataframe tbody tr th {\n",
       "        vertical-align: top;\n",
       "    }\n",
       "\n",
       "    .dataframe thead th {\n",
       "        text-align: right;\n",
       "    }\n",
       "</style>\n",
       "<table border=\"1\" class=\"dataframe\">\n",
       "  <thead>\n",
       "    <tr style=\"text-align: right;\">\n",
       "      <th></th>\n",
       "      <th>AREA</th>\n",
       "      <th>Mocodes</th>\n",
       "      <th>Vict Age</th>\n",
       "      <th>Vict Descent</th>\n",
       "      <th>Premis Cd</th>\n",
       "      <th>Weapon Used Cd</th>\n",
       "      <th>LAT</th>\n",
       "      <th>LON</th>\n",
       "      <th>TIME OCC_str</th>\n",
       "      <th>day_of_week</th>\n",
       "      <th>month</th>\n",
       "      <th>Day_Night</th>\n",
       "    </tr>\n",
       "  </thead>\n",
       "  <tbody>\n",
       "    <tr>\n",
       "      <th>count</th>\n",
       "      <td>140000.000000</td>\n",
       "      <td>140000.000000</td>\n",
       "      <td>140000.000000</td>\n",
       "      <td>140000.000000</td>\n",
       "      <td>140000.000000</td>\n",
       "      <td>140000.000000</td>\n",
       "      <td>140000.000000</td>\n",
       "      <td>140000.000000</td>\n",
       "      <td>140000.000000</td>\n",
       "      <td>140000.000000</td>\n",
       "      <td>140000.000000</td>\n",
       "      <td>140000.000000</td>\n",
       "    </tr>\n",
       "    <tr>\n",
       "      <th>mean</th>\n",
       "      <td>10.724357</td>\n",
       "      <td>1060.008379</td>\n",
       "      <td>35.401421</td>\n",
       "      <td>2.254543</td>\n",
       "      <td>333.944157</td>\n",
       "      <td>454.986921</td>\n",
       "      <td>33.962520</td>\n",
       "      <td>-117.980844</td>\n",
       "      <td>1308.029679</td>\n",
       "      <td>3.117636</td>\n",
       "      <td>5.221586</td>\n",
       "      <td>0.444314</td>\n",
       "    </tr>\n",
       "    <tr>\n",
       "      <th>std</th>\n",
       "      <td>6.055078</td>\n",
       "      <td>637.730190</td>\n",
       "      <td>11.712269</td>\n",
       "      <td>1.406792</td>\n",
       "      <td>223.651876</td>\n",
       "      <td>98.668768</td>\n",
       "      <td>1.914822</td>\n",
       "      <td>6.640493</td>\n",
       "      <td>663.877374</td>\n",
       "      <td>1.995172</td>\n",
       "      <td>3.451875</td>\n",
       "      <td>0.496891</td>\n",
       "    </tr>\n",
       "    <tr>\n",
       "      <th>min</th>\n",
       "      <td>1.000000</td>\n",
       "      <td>100.000000</td>\n",
       "      <td>12.000000</td>\n",
       "      <td>0.000000</td>\n",
       "      <td>101.000000</td>\n",
       "      <td>101.000000</td>\n",
       "      <td>0.000000</td>\n",
       "      <td>-118.667600</td>\n",
       "      <td>1.000000</td>\n",
       "      <td>0.000000</td>\n",
       "      <td>0.000000</td>\n",
       "      <td>0.000000</td>\n",
       "    </tr>\n",
       "    <tr>\n",
       "      <th>25%</th>\n",
       "      <td>5.000000</td>\n",
       "      <td>377.000000</td>\n",
       "      <td>28.000000</td>\n",
       "      <td>1.000000</td>\n",
       "      <td>102.000000</td>\n",
       "      <td>400.000000</td>\n",
       "      <td>34.003800</td>\n",
       "      <td>-118.429200</td>\n",
       "      <td>842.000000</td>\n",
       "      <td>1.000000</td>\n",
       "      <td>2.000000</td>\n",
       "      <td>0.000000</td>\n",
       "    </tr>\n",
       "    <tr>\n",
       "      <th>50%</th>\n",
       "      <td>11.000000</td>\n",
       "      <td>943.000000</td>\n",
       "      <td>37.000000</td>\n",
       "      <td>2.000000</td>\n",
       "      <td>252.000000</td>\n",
       "      <td>500.000000</td>\n",
       "      <td>34.057000</td>\n",
       "      <td>-118.322200</td>\n",
       "      <td>1345.000000</td>\n",
       "      <td>3.000000</td>\n",
       "      <td>5.000000</td>\n",
       "      <td>0.000000</td>\n",
       "    </tr>\n",
       "    <tr>\n",
       "      <th>75%</th>\n",
       "      <td>16.000000</td>\n",
       "      <td>1501.000000</td>\n",
       "      <td>40.000000</td>\n",
       "      <td>3.000000</td>\n",
       "      <td>502.000000</td>\n",
       "      <td>500.000000</td>\n",
       "      <td>34.168200</td>\n",
       "      <td>-118.273000</td>\n",
       "      <td>1850.000000</td>\n",
       "      <td>5.000000</td>\n",
       "      <td>8.000000</td>\n",
       "      <td>1.000000</td>\n",
       "    </tr>\n",
       "    <tr>\n",
       "      <th>max</th>\n",
       "      <td>21.000000</td>\n",
       "      <td>9999.000000</td>\n",
       "      <td>63.000000</td>\n",
       "      <td>19.000000</td>\n",
       "      <td>971.000000</td>\n",
       "      <td>516.000000</td>\n",
       "      <td>34.328200</td>\n",
       "      <td>0.000000</td>\n",
       "      <td>2359.000000</td>\n",
       "      <td>6.000000</td>\n",
       "      <td>11.000000</td>\n",
       "      <td>1.000000</td>\n",
       "    </tr>\n",
       "  </tbody>\n",
       "</table>\n",
       "</div>"
      ],
      "text/plain": [
       "                AREA        Mocodes       Vict Age   Vict Descent  \\\n",
       "count  140000.000000  140000.000000  140000.000000  140000.000000   \n",
       "mean       10.724357    1060.008379      35.401421       2.254543   \n",
       "std         6.055078     637.730190      11.712269       1.406792   \n",
       "min         1.000000     100.000000      12.000000       0.000000   \n",
       "25%         5.000000     377.000000      28.000000       1.000000   \n",
       "50%        11.000000     943.000000      37.000000       2.000000   \n",
       "75%        16.000000    1501.000000      40.000000       3.000000   \n",
       "max        21.000000    9999.000000      63.000000      19.000000   \n",
       "\n",
       "           Premis Cd  Weapon Used Cd            LAT            LON  \\\n",
       "count  140000.000000   140000.000000  140000.000000  140000.000000   \n",
       "mean      333.944157      454.986921      33.962520    -117.980844   \n",
       "std       223.651876       98.668768       1.914822       6.640493   \n",
       "min       101.000000      101.000000       0.000000    -118.667600   \n",
       "25%       102.000000      400.000000      34.003800    -118.429200   \n",
       "50%       252.000000      500.000000      34.057000    -118.322200   \n",
       "75%       502.000000      500.000000      34.168200    -118.273000   \n",
       "max       971.000000      516.000000      34.328200       0.000000   \n",
       "\n",
       "        TIME OCC_str    day_of_week          month      Day_Night  \n",
       "count  140000.000000  140000.000000  140000.000000  140000.000000  \n",
       "mean     1308.029679       3.117636       5.221586       0.444314  \n",
       "std       663.877374       1.995172       3.451875       0.496891  \n",
       "min         1.000000       0.000000       0.000000       0.000000  \n",
       "25%       842.000000       1.000000       2.000000       0.000000  \n",
       "50%      1345.000000       3.000000       5.000000       0.000000  \n",
       "75%      1850.000000       5.000000       8.000000       1.000000  \n",
       "max      2359.000000       6.000000      11.000000       1.000000  "
      ]
     },
     "execution_count": 50,
     "metadata": {},
     "output_type": "execute_result"
    }
   ],
   "source": [
    "X_balanced.describe()"
   ]
  },
  {
   "cell_type": "code",
   "execution_count": 51,
   "metadata": {},
   "outputs": [
    {
     "data": {
      "text/html": [
       "<div>\n",
       "<style scoped>\n",
       "    .dataframe tbody tr th:only-of-type {\n",
       "        vertical-align: middle;\n",
       "    }\n",
       "\n",
       "    .dataframe tbody tr th {\n",
       "        vertical-align: top;\n",
       "    }\n",
       "\n",
       "    .dataframe thead th {\n",
       "        text-align: right;\n",
       "    }\n",
       "</style>\n",
       "<table border=\"1\" class=\"dataframe\">\n",
       "  <thead>\n",
       "    <tr style=\"text-align: right;\">\n",
       "      <th></th>\n",
       "      <th>AREA</th>\n",
       "      <th>Mocodes</th>\n",
       "      <th>Vict Age</th>\n",
       "      <th>Vict Descent</th>\n",
       "      <th>Premis Cd</th>\n",
       "      <th>Weapon Used Cd</th>\n",
       "      <th>LAT</th>\n",
       "      <th>LON</th>\n",
       "      <th>TIME OCC_str</th>\n",
       "      <th>day_of_week</th>\n",
       "      <th>month</th>\n",
       "      <th>Day_Night</th>\n",
       "    </tr>\n",
       "  </thead>\n",
       "  <tbody>\n",
       "    <tr>\n",
       "      <th>count</th>\n",
       "      <td>98000.000000</td>\n",
       "      <td>9.800000e+04</td>\n",
       "      <td>98000.000000</td>\n",
       "      <td>98000.000000</td>\n",
       "      <td>9.800000e+04</td>\n",
       "      <td>9.800000e+04</td>\n",
       "      <td>98000.000000</td>\n",
       "      <td>98000.000000</td>\n",
       "      <td>9.800000e+04</td>\n",
       "      <td>98000.000000</td>\n",
       "      <td>98000.000000</td>\n",
       "      <td>98000.000000</td>\n",
       "    </tr>\n",
       "    <tr>\n",
       "      <th>mean</th>\n",
       "      <td>10.718265</td>\n",
       "      <td>-1.595096e-17</td>\n",
       "      <td>35.385500</td>\n",
       "      <td>2.252990</td>\n",
       "      <td>-8.976040e-17</td>\n",
       "      <td>-1.957618e-18</td>\n",
       "      <td>33.963232</td>\n",
       "      <td>-117.982653</td>\n",
       "      <td>-2.421646e-17</td>\n",
       "      <td>3.121357</td>\n",
       "      <td>5.213235</td>\n",
       "      <td>0.444724</td>\n",
       "    </tr>\n",
       "    <tr>\n",
       "      <th>std</th>\n",
       "      <td>6.055748</td>\n",
       "      <td>1.000005e+00</td>\n",
       "      <td>11.717748</td>\n",
       "      <td>1.408069</td>\n",
       "      <td>1.000005e+00</td>\n",
       "      <td>1.000005e+00</td>\n",
       "      <td>1.910530</td>\n",
       "      <td>6.625524</td>\n",
       "      <td>1.000005e+00</td>\n",
       "      <td>1.994323</td>\n",
       "      <td>3.451795</td>\n",
       "      <td>0.496938</td>\n",
       "    </tr>\n",
       "    <tr>\n",
       "      <th>min</th>\n",
       "      <td>1.000000</td>\n",
       "      <td>-1.501130e+00</td>\n",
       "      <td>12.000000</td>\n",
       "      <td>0.000000</td>\n",
       "      <td>-1.041309e+00</td>\n",
       "      <td>-3.584088e+00</td>\n",
       "      <td>0.000000</td>\n",
       "      <td>-118.667600</td>\n",
       "      <td>-1.967359e+00</td>\n",
       "      <td>0.000000</td>\n",
       "      <td>0.000000</td>\n",
       "      <td>0.000000</td>\n",
       "    </tr>\n",
       "    <tr>\n",
       "      <th>25%</th>\n",
       "      <td>5.000000</td>\n",
       "      <td>-1.067554e+00</td>\n",
       "      <td>28.000000</td>\n",
       "      <td>1.000000</td>\n",
       "      <td>-1.036836e+00</td>\n",
       "      <td>-5.566963e-01</td>\n",
       "      <td>34.003900</td>\n",
       "      <td>-118.429400</td>\n",
       "      <td>-7.044176e-01</td>\n",
       "      <td>1.000000</td>\n",
       "      <td>2.000000</td>\n",
       "      <td>0.000000</td>\n",
       "    </tr>\n",
       "    <tr>\n",
       "      <th>50%</th>\n",
       "      <td>11.000000</td>\n",
       "      <td>-1.816185e-01</td>\n",
       "      <td>37.000000</td>\n",
       "      <td>2.000000</td>\n",
       "      <td>-3.658152e-01</td>\n",
       "      <td>4.558092e-01</td>\n",
       "      <td>34.057100</td>\n",
       "      <td>-118.321900</td>\n",
       "      <td>5.575576e-02</td>\n",
       "      <td>3.000000</td>\n",
       "      <td>5.000000</td>\n",
       "      <td>0.000000</td>\n",
       "    </tr>\n",
       "    <tr>\n",
       "      <th>75%</th>\n",
       "      <td>16.000000</td>\n",
       "      <td>6.917951e-01</td>\n",
       "      <td>39.000000</td>\n",
       "      <td>3.000000</td>\n",
       "      <td>7.525526e-01</td>\n",
       "      <td>4.558092e-01</td>\n",
       "      <td>34.168400</td>\n",
       "      <td>-118.272800</td>\n",
       "      <td>8.159291e-01</td>\n",
       "      <td>5.000000</td>\n",
       "      <td>8.000000</td>\n",
       "      <td>1.000000</td>\n",
       "    </tr>\n",
       "    <tr>\n",
       "      <th>max</th>\n",
       "      <td>21.000000</td>\n",
       "      <td>1.399335e+01</td>\n",
       "      <td>63.000000</td>\n",
       "      <td>19.000000</td>\n",
       "      <td>2.850610e+00</td>\n",
       "      <td>6.178101e-01</td>\n",
       "      <td>34.328200</td>\n",
       "      <td>0.000000</td>\n",
       "      <td>1.582124e+00</td>\n",
       "      <td>6.000000</td>\n",
       "      <td>11.000000</td>\n",
       "      <td>1.000000</td>\n",
       "    </tr>\n",
       "  </tbody>\n",
       "</table>\n",
       "</div>"
      ],
      "text/plain": [
       "               AREA       Mocodes      Vict Age  Vict Descent     Premis Cd  \\\n",
       "count  98000.000000  9.800000e+04  98000.000000  98000.000000  9.800000e+04   \n",
       "mean      10.718265 -1.595096e-17     35.385500      2.252990 -8.976040e-17   \n",
       "std        6.055748  1.000005e+00     11.717748      1.408069  1.000005e+00   \n",
       "min        1.000000 -1.501130e+00     12.000000      0.000000 -1.041309e+00   \n",
       "25%        5.000000 -1.067554e+00     28.000000      1.000000 -1.036836e+00   \n",
       "50%       11.000000 -1.816185e-01     37.000000      2.000000 -3.658152e-01   \n",
       "75%       16.000000  6.917951e-01     39.000000      3.000000  7.525526e-01   \n",
       "max       21.000000  1.399335e+01     63.000000     19.000000  2.850610e+00   \n",
       "\n",
       "       Weapon Used Cd           LAT           LON  TIME OCC_str   day_of_week  \\\n",
       "count    9.800000e+04  98000.000000  98000.000000  9.800000e+04  98000.000000   \n",
       "mean    -1.957618e-18     33.963232   -117.982653 -2.421646e-17      3.121357   \n",
       "std      1.000005e+00      1.910530      6.625524  1.000005e+00      1.994323   \n",
       "min     -3.584088e+00      0.000000   -118.667600 -1.967359e+00      0.000000   \n",
       "25%     -5.566963e-01     34.003900   -118.429400 -7.044176e-01      1.000000   \n",
       "50%      4.558092e-01     34.057100   -118.321900  5.575576e-02      3.000000   \n",
       "75%      4.558092e-01     34.168400   -118.272800  8.159291e-01      5.000000   \n",
       "max      6.178101e-01     34.328200      0.000000  1.582124e+00      6.000000   \n",
       "\n",
       "              month     Day_Night  \n",
       "count  98000.000000  98000.000000  \n",
       "mean       5.213235      0.444724  \n",
       "std        3.451795      0.496938  \n",
       "min        0.000000      0.000000  \n",
       "25%        2.000000      0.000000  \n",
       "50%        5.000000      0.000000  \n",
       "75%        8.000000      1.000000  \n",
       "max       11.000000      1.000000  "
      ]
     },
     "execution_count": 51,
     "metadata": {},
     "output_type": "execute_result"
    }
   ],
   "source": [
    "scaler = StandardScaler()\n",
    "\n",
    "X_train['Mocodes'] = scaler.fit_transform(X_train[['Mocodes']]) # \"fit\" on the TRAIN set only, then transform\n",
    "X_test_1['Mocodes'] = scaler.transform(X_test_1[['Mocodes']]) # while on the TEST set, just \"transform\" it\n",
    "\n",
    "X_train['Premis Cd'] = scaler.fit_transform(X_train[['Premis Cd']])\n",
    "X_test_1['Premis Cd'] = scaler.transform(X_test_1[['Premis Cd']])\n",
    "\n",
    "X_train['Weapon Used Cd'] = scaler.fit_transform(X_train[['Weapon Used Cd']])\n",
    "X_test_1['Weapon Used Cd'] = scaler.transform(X_test_1[['Weapon Used Cd']])\n",
    "\n",
    "X_train['TIME OCC_str'] = scaler.fit_transform(X_train[['TIME OCC_str']])\n",
    "X_test_1['TIME OCC_str'] = scaler.transform(X_test_1[['TIME OCC_str']])\n",
    "\n",
    "X_train.describe()"
   ]
  },
  {
   "cell_type": "markdown",
   "metadata": {},
   "source": [
    "## Eksperimen dengan model klasifikasi k-NN"
   ]
  },
  {
   "cell_type": "code",
   "execution_count": 52,
   "metadata": {},
   "outputs": [],
   "source": [
    "# ikuti step soal"
   ]
  },
  {
   "cell_type": "markdown",
   "metadata": {},
   "source": [
    "## Eksperimen dengan model Naïve Bayes "
   ]
  },
  {
   "cell_type": "code",
   "execution_count": 53,
   "metadata": {},
   "outputs": [],
   "source": [
    "# ikuti step soal"
   ]
  },
  {
   "cell_type": "markdown",
   "metadata": {},
   "source": [
    "## Eksperimen dengan model Logistic Regression "
   ]
  },
  {
   "cell_type": "code",
   "execution_count": 54,
   "metadata": {},
   "outputs": [],
   "source": [
    "# ikuti step soal"
   ]
  },
  {
   "cell_type": "markdown",
   "metadata": {},
   "source": [
    "## Eksperimen dengan model klasifikasi SVM "
   ]
  },
  {
   "cell_type": "code",
   "execution_count": 55,
   "metadata": {},
   "outputs": [],
   "source": [
    "# ikuti step soal"
   ]
  },
  {
   "cell_type": "markdown",
   "metadata": {},
   "source": [
    "## Eksperimen dengan model klasifikasi Decision Tree (DT) "
   ]
  },
  {
   "cell_type": "code",
   "execution_count": 56,
   "metadata": {},
   "outputs": [],
   "source": [
    "# ikuti step soal"
   ]
  },
  {
   "cell_type": "markdown",
   "metadata": {},
   "source": [
    "## Eksperimen dengan model Back Propagation Neural Network (BPNN)"
   ]
  },
  {
   "cell_type": "code",
   "execution_count": 57,
   "metadata": {},
   "outputs": [],
   "source": [
    "import tensorflow as tf"
   ]
  },
  {
   "cell_type": "code",
   "execution_count": 60,
   "metadata": {},
   "outputs": [],
   "source": [
    "from sklearn.preprocessing import OneHotEncoder"
   ]
  },
  {
   "cell_type": "markdown",
   "metadata": {},
   "source": [
    "### Jumlah neuron sama (Sigmoid)"
   ]
  },
  {
   "cell_type": "code",
   "execution_count": 59,
   "metadata": {},
   "outputs": [],
   "source": [
    "kf = KFold(n_splits=5, shuffle=True, random_state=42)"
   ]
  },
  {
   "cell_type": "markdown",
   "metadata": {},
   "source": [
    "#### learning rate 0,01 epoch 10"
   ]
  },
  {
   "cell_type": "code",
   "execution_count": 73,
   "metadata": {},
   "outputs": [
    {
     "name": "stdout",
     "output_type": "stream",
     "text": [
      "Epoch 1/10\n"
     ]
    },
    {
     "name": "stderr",
     "output_type": "stream",
     "text": [
      "c:\\Users\\ASUS\\AppData\\Local\\Programs\\Python\\Python312\\Lib\\site-packages\\keras\\src\\layers\\core\\dense.py:87: UserWarning: Do not pass an `input_shape`/`input_dim` argument to a layer. When using Sequential models, prefer using an `Input(shape)` object as the first layer in the model instead.\n",
      "  super().__init__(activity_regularizer=activity_regularizer, **kwargs)\n",
      "c:\\Users\\ASUS\\AppData\\Local\\Programs\\Python\\Python312\\Lib\\site-packages\\keras\\src\\ops\\nn.py:545: UserWarning: You are using a softmax over axis -1 of a tensor of shape (32, 1). This axis has size 1. The softmax operation will always return the value 1, which is likely not what you intended. Did you mean to use a sigmoid instead?\n",
      "  warnings.warn(\n"
     ]
    },
    {
     "name": "stdout",
     "output_type": "stream",
     "text": [
      "\u001b[1m3493/3500\u001b[0m \u001b[32m━━━━━━━━━━━━━━━━━━━\u001b[0m\u001b[37m━\u001b[0m \u001b[1m0s\u001b[0m 914us/step - accuracy: 0.0000e+00 - loss: -125326.1406"
     ]
    },
    {
     "name": "stderr",
     "output_type": "stream",
     "text": [
      "c:\\Users\\ASUS\\AppData\\Local\\Programs\\Python\\Python312\\Lib\\site-packages\\keras\\src\\ops\\nn.py:545: UserWarning: You are using a softmax over axis -1 of a tensor of shape (32, 1). This axis has size 1. The softmax operation will always return the value 1, which is likely not what you intended. Did you mean to use a sigmoid instead?\n",
      "  warnings.warn(\n"
     ]
    },
    {
     "name": "stdout",
     "output_type": "stream",
     "text": [
      "\u001b[1m3500/3500\u001b[0m \u001b[32m━━━━━━━━━━━━━━━━━━━━\u001b[0m\u001b[37m\u001b[0m \u001b[1m4s\u001b[0m 1ms/step - accuracy: 0.0000e+00 - loss: -125629.2031 - val_accuracy: 0.0000e+00 - val_loss: -523756.0625\n",
      "Epoch 2/10\n",
      "\u001b[1m3500/3500\u001b[0m \u001b[32m━━━━━━━━━━━━━━━━━━━━\u001b[0m\u001b[37m\u001b[0m \u001b[1m4s\u001b[0m 1ms/step - accuracy: 0.0000e+00 - loss: -656730.5625 - val_accuracy: 0.0000e+00 - val_loss: -1046570.5000\n",
      "Epoch 3/10\n",
      "\u001b[1m3500/3500\u001b[0m \u001b[32m━━━━━━━━━━━━━━━━━━━━\u001b[0m\u001b[37m\u001b[0m \u001b[1m4s\u001b[0m 1ms/step - accuracy: 0.0000e+00 - loss: -1179870.3750 - val_accuracy: 0.0000e+00 - val_loss: -1568962.3750\n",
      "Epoch 4/10\n",
      "\u001b[1m3500/3500\u001b[0m \u001b[32m━━━━━━━━━━━━━━━━━━━━\u001b[0m\u001b[37m\u001b[0m \u001b[1m4s\u001b[0m 1ms/step - accuracy: 0.0000e+00 - loss: -1711149.0000 - val_accuracy: 0.0000e+00 - val_loss: -2118581.0000\n",
      "Epoch 5/10\n",
      "\u001b[1m3500/3500\u001b[0m \u001b[32m━━━━━━━━━━━━━━━━━━━━\u001b[0m\u001b[37m\u001b[0m \u001b[1m4s\u001b[0m 1ms/step - accuracy: 0.0000e+00 - loss: -2256508.2500 - val_accuracy: 0.0000e+00 - val_loss: -2671545.7500\n",
      "Epoch 6/10\n",
      "\u001b[1m3500/3500\u001b[0m \u001b[32m━━━━━━━━━━━━━━━━━━━━\u001b[0m\u001b[37m\u001b[0m \u001b[1m4s\u001b[0m 1ms/step - accuracy: 0.0000e+00 - loss: -2820279.5000 - val_accuracy: 0.0000e+00 - val_loss: -3256911.2500\n",
      "Epoch 7/10\n",
      "\u001b[1m3500/3500\u001b[0m \u001b[32m━━━━━━━━━━━━━━━━━━━━\u001b[0m\u001b[37m\u001b[0m \u001b[1m4s\u001b[0m 1ms/step - accuracy: 0.0000e+00 - loss: -3407196.2500 - val_accuracy: 0.0000e+00 - val_loss: -3844929.2500\n",
      "Epoch 8/10\n",
      "\u001b[1m3500/3500\u001b[0m \u001b[32m━━━━━━━━━━━━━━━━━━━━\u001b[0m\u001b[37m\u001b[0m \u001b[1m4s\u001b[0m 1ms/step - accuracy: 0.0000e+00 - loss: -4000177.2500 - val_accuracy: 0.0000e+00 - val_loss: -4432386.5000\n",
      "Epoch 9/10\n",
      "\u001b[1m3500/3500\u001b[0m \u001b[32m━━━━━━━━━━━━━━━━━━━━\u001b[0m\u001b[37m\u001b[0m \u001b[1m4s\u001b[0m 1ms/step - accuracy: 0.0000e+00 - loss: -4597836.5000 - val_accuracy: 0.0000e+00 - val_loss: -5027344.5000\n",
      "Epoch 10/10\n",
      "\u001b[1m3500/3500\u001b[0m \u001b[32m━━━━━━━━━━━━━━━━━━━━\u001b[0m\u001b[37m\u001b[0m \u001b[1m4s\u001b[0m 1ms/step - accuracy: 0.0000e+00 - loss: -5198776.0000 - val_accuracy: 0.0000e+00 - val_loss: -5639305.5000\n"
     ]
    },
    {
     "name": "stderr",
     "output_type": "stream",
     "text": [
      "c:\\Users\\ASUS\\AppData\\Local\\Programs\\Python\\Python312\\Lib\\site-packages\\keras\\src\\ops\\nn.py:545: UserWarning: You are using a softmax over axis -1 of a tensor of shape (32, 1). This axis has size 1. The softmax operation will always return the value 1, which is likely not what you intended. Did you mean to use a sigmoid instead?\n",
      "  warnings.warn(\n"
     ]
    },
    {
     "name": "stdout",
     "output_type": "stream",
     "text": [
      "Epoch 1/10\n"
     ]
    },
    {
     "name": "stderr",
     "output_type": "stream",
     "text": [
      "c:\\Users\\ASUS\\AppData\\Local\\Programs\\Python\\Python312\\Lib\\site-packages\\keras\\src\\layers\\core\\dense.py:87: UserWarning: Do not pass an `input_shape`/`input_dim` argument to a layer. When using Sequential models, prefer using an `Input(shape)` object as the first layer in the model instead.\n",
      "  super().__init__(activity_regularizer=activity_regularizer, **kwargs)\n",
      "c:\\Users\\ASUS\\AppData\\Local\\Programs\\Python\\Python312\\Lib\\site-packages\\keras\\src\\ops\\nn.py:545: UserWarning: You are using a softmax over axis -1 of a tensor of shape (32, 1). This axis has size 1. The softmax operation will always return the value 1, which is likely not what you intended. Did you mean to use a sigmoid instead?\n",
      "  warnings.warn(\n"
     ]
    },
    {
     "name": "stdout",
     "output_type": "stream",
     "text": [
      "\u001b[1m3445/3500\u001b[0m \u001b[32m━━━━━━━━━━━━━━━━━━━\u001b[0m\u001b[37m━\u001b[0m \u001b[1m0s\u001b[0m 961us/step - accuracy: 0.0000e+00 - loss: -121374.3516"
     ]
    },
    {
     "name": "stderr",
     "output_type": "stream",
     "text": [
      "c:\\Users\\ASUS\\AppData\\Local\\Programs\\Python\\Python312\\Lib\\site-packages\\keras\\src\\ops\\nn.py:545: UserWarning: You are using a softmax over axis -1 of a tensor of shape (32, 1). This axis has size 1. The softmax operation will always return the value 1, which is likely not what you intended. Did you mean to use a sigmoid instead?\n",
      "  warnings.warn(\n"
     ]
    },
    {
     "name": "stdout",
     "output_type": "stream",
     "text": [
      "\u001b[1m3500/3500\u001b[0m \u001b[32m━━━━━━━━━━━━━━━━━━━━\u001b[0m\u001b[37m\u001b[0m \u001b[1m5s\u001b[0m 1ms/step - accuracy: 0.0000e+00 - loss: -123307.4688 - val_accuracy: 0.0000e+00 - val_loss: -489334.8125\n",
      "Epoch 2/10\n",
      "\u001b[1m3500/3500\u001b[0m \u001b[32m━━━━━━━━━━━━━━━━━━━━\u001b[0m\u001b[37m\u001b[0m \u001b[1m4s\u001b[0m 1ms/step - accuracy: 0.0000e+00 - loss: -618426.6875 - val_accuracy: 0.0000e+00 - val_loss: -993551.4375\n",
      "Epoch 3/10\n",
      "\u001b[1m3500/3500\u001b[0m \u001b[32m━━━━━━━━━━━━━━━━━━━━\u001b[0m\u001b[37m\u001b[0m \u001b[1m4s\u001b[0m 1ms/step - accuracy: 0.0000e+00 - loss: -1118541.7500 - val_accuracy: 0.0000e+00 - val_loss: -1495007.0000\n",
      "Epoch 4/10\n",
      "\u001b[1m3500/3500\u001b[0m \u001b[32m━━━━━━━━━━━━━━━━━━━━\u001b[0m\u001b[37m\u001b[0m \u001b[1m4s\u001b[0m 1ms/step - accuracy: 0.0000e+00 - loss: -1622366.2500 - val_accuracy: 0.0000e+00 - val_loss: -1995767.7500\n",
      "Epoch 5/10\n",
      "\u001b[1m3500/3500\u001b[0m \u001b[32m━━━━━━━━━━━━━━━━━━━━\u001b[0m\u001b[37m\u001b[0m \u001b[1m4s\u001b[0m 1ms/step - accuracy: 0.0000e+00 - loss: -2122090.5000 - val_accuracy: 0.0000e+00 - val_loss: -2496477.2500\n",
      "Epoch 6/10\n",
      "\u001b[1m3500/3500\u001b[0m \u001b[32m━━━━━━━━━━━━━━━━━━━━\u001b[0m\u001b[37m\u001b[0m \u001b[1m4s\u001b[0m 1ms/step - accuracy: 0.0000e+00 - loss: -2624005.7500 - val_accuracy: 0.0000e+00 - val_loss: -2997280.0000\n",
      "Epoch 7/10\n",
      "\u001b[1m3500/3500\u001b[0m \u001b[32m━━━━━━━━━━━━━━━━━━━━\u001b[0m\u001b[37m\u001b[0m \u001b[1m4s\u001b[0m 1ms/step - accuracy: 0.0000e+00 - loss: -3128303.2500 - val_accuracy: 0.0000e+00 - val_loss: -3498308.0000\n",
      "Epoch 8/10\n",
      "\u001b[1m3500/3500\u001b[0m \u001b[32m━━━━━━━━━━━━━━━━━━━━\u001b[0m\u001b[37m\u001b[0m \u001b[1m4s\u001b[0m 1ms/step - accuracy: 0.0000e+00 - loss: -3625129.7500 - val_accuracy: 0.0000e+00 - val_loss: -3999150.2500\n",
      "Epoch 9/10\n",
      "\u001b[1m3500/3500\u001b[0m \u001b[32m━━━━━━━━━━━━━━━━━━━━\u001b[0m\u001b[37m\u001b[0m \u001b[1m4s\u001b[0m 1ms/step - accuracy: 0.0000e+00 - loss: -4134392.5000 - val_accuracy: 0.0000e+00 - val_loss: -4506447.0000\n",
      "Epoch 10/10\n",
      "\u001b[1m3500/3500\u001b[0m \u001b[32m━━━━━━━━━━━━━━━━━━━━\u001b[0m\u001b[37m\u001b[0m \u001b[1m4s\u001b[0m 1ms/step - accuracy: 0.0000e+00 - loss: -4643778.0000 - val_accuracy: 0.0000e+00 - val_loss: -5032595.0000\n"
     ]
    },
    {
     "name": "stderr",
     "output_type": "stream",
     "text": [
      "c:\\Users\\ASUS\\AppData\\Local\\Programs\\Python\\Python312\\Lib\\site-packages\\keras\\src\\ops\\nn.py:545: UserWarning: You are using a softmax over axis -1 of a tensor of shape (32, 1). This axis has size 1. The softmax operation will always return the value 1, which is likely not what you intended. Did you mean to use a sigmoid instead?\n",
      "  warnings.warn(\n"
     ]
    },
    {
     "name": "stdout",
     "output_type": "stream",
     "text": [
      "Epoch 1/10\n"
     ]
    },
    {
     "name": "stderr",
     "output_type": "stream",
     "text": [
      "c:\\Users\\ASUS\\AppData\\Local\\Programs\\Python\\Python312\\Lib\\site-packages\\keras\\src\\layers\\core\\dense.py:87: UserWarning: Do not pass an `input_shape`/`input_dim` argument to a layer. When using Sequential models, prefer using an `Input(shape)` object as the first layer in the model instead.\n",
      "  super().__init__(activity_regularizer=activity_regularizer, **kwargs)\n",
      "c:\\Users\\ASUS\\AppData\\Local\\Programs\\Python\\Python312\\Lib\\site-packages\\keras\\src\\ops\\nn.py:545: UserWarning: You are using a softmax over axis -1 of a tensor of shape (32, 1). This axis has size 1. The softmax operation will always return the value 1, which is likely not what you intended. Did you mean to use a sigmoid instead?\n",
      "  warnings.warn(\n"
     ]
    },
    {
     "name": "stdout",
     "output_type": "stream",
     "text": [
      "\u001b[1m3470/3500\u001b[0m \u001b[32m━━━━━━━━━━━━━━━━━━━\u001b[0m\u001b[37m━\u001b[0m \u001b[1m0s\u001b[0m 915us/step - accuracy: 0.0000e+00 - loss: -150332.5312"
     ]
    },
    {
     "name": "stderr",
     "output_type": "stream",
     "text": [
      "c:\\Users\\ASUS\\AppData\\Local\\Programs\\Python\\Python312\\Lib\\site-packages\\keras\\src\\ops\\nn.py:545: UserWarning: You are using a softmax over axis -1 of a tensor of shape (32, 1). This axis has size 1. The softmax operation will always return the value 1, which is likely not what you intended. Did you mean to use a sigmoid instead?\n",
      "  warnings.warn(\n"
     ]
    },
    {
     "name": "stdout",
     "output_type": "stream",
     "text": [
      "\u001b[1m3500/3500\u001b[0m \u001b[32m━━━━━━━━━━━━━━━━━━━━\u001b[0m\u001b[37m\u001b[0m \u001b[1m5s\u001b[0m 1ms/step - accuracy: 0.0000e+00 - loss: -151645.4062 - val_accuracy: 0.0000e+00 - val_loss: -596806.3750\n",
      "Epoch 2/10\n",
      "\u001b[1m3500/3500\u001b[0m \u001b[32m━━━━━━━━━━━━━━━━━━━━\u001b[0m\u001b[37m\u001b[0m \u001b[1m4s\u001b[0m 1ms/step - accuracy: 0.0000e+00 - loss: -741536.3750 - val_accuracy: 0.0000e+00 - val_loss: -1187127.0000\n",
      "Epoch 3/10\n",
      "\u001b[1m3500/3500\u001b[0m \u001b[32m━━━━━━━━━━━━━━━━━━━━\u001b[0m\u001b[37m\u001b[0m \u001b[1m4s\u001b[0m 1ms/step - accuracy: 0.0000e+00 - loss: -1329077.8750 - val_accuracy: 0.0000e+00 - val_loss: -1777243.2500\n",
      "Epoch 4/10\n",
      "\u001b[1m3500/3500\u001b[0m \u001b[32m━━━━━━━━━━━━━━━━━━━━\u001b[0m\u001b[37m\u001b[0m \u001b[1m4s\u001b[0m 1ms/step - accuracy: 0.0000e+00 - loss: -1919552.6250 - val_accuracy: 0.0000e+00 - val_loss: -2367441.5000\n",
      "Epoch 5/10\n",
      "\u001b[1m3500/3500\u001b[0m \u001b[32m━━━━━━━━━━━━━━━━━━━━\u001b[0m\u001b[37m\u001b[0m \u001b[1m4s\u001b[0m 1ms/step - accuracy: 0.0000e+00 - loss: -2508548.5000 - val_accuracy: 0.0000e+00 - val_loss: -2957977.5000\n",
      "Epoch 6/10\n",
      "\u001b[1m3500/3500\u001b[0m \u001b[32m━━━━━━━━━━━━━━━━━━━━\u001b[0m\u001b[37m\u001b[0m \u001b[1m4s\u001b[0m 1ms/step - accuracy: 0.0000e+00 - loss: -3096728.7500 - val_accuracy: 0.0000e+00 - val_loss: -3548096.7500\n",
      "Epoch 7/10\n",
      "\u001b[1m3500/3500\u001b[0m \u001b[32m━━━━━━━━━━━━━━━━━━━━\u001b[0m\u001b[37m\u001b[0m \u001b[1m4s\u001b[0m 1ms/step - accuracy: 0.0000e+00 - loss: -3686731.2500 - val_accuracy: 0.0000e+00 - val_loss: -4138286.5000\n",
      "Epoch 8/10\n",
      "\u001b[1m3500/3500\u001b[0m \u001b[32m━━━━━━━━━━━━━━━━━━━━\u001b[0m\u001b[37m\u001b[0m \u001b[1m4s\u001b[0m 1ms/step - accuracy: 0.0000e+00 - loss: -4264872.5000 - val_accuracy: 0.0000e+00 - val_loss: -4728777.0000\n",
      "Epoch 9/10\n",
      "\u001b[1m3500/3500\u001b[0m \u001b[32m━━━━━━━━━━━━━━━━━━━━\u001b[0m\u001b[37m\u001b[0m \u001b[1m4s\u001b[0m 1ms/step - accuracy: 0.0000e+00 - loss: -4860329.0000 - val_accuracy: 0.0000e+00 - val_loss: -5318999.5000\n",
      "Epoch 10/10\n",
      "\u001b[1m3500/3500\u001b[0m \u001b[32m━━━━━━━━━━━━━━━━━━━━\u001b[0m\u001b[37m\u001b[0m \u001b[1m4s\u001b[0m 1ms/step - accuracy: 0.0000e+00 - loss: -5457035.0000 - val_accuracy: 0.0000e+00 - val_loss: -5915103.0000\n"
     ]
    },
    {
     "name": "stderr",
     "output_type": "stream",
     "text": [
      "c:\\Users\\ASUS\\AppData\\Local\\Programs\\Python\\Python312\\Lib\\site-packages\\keras\\src\\ops\\nn.py:545: UserWarning: You are using a softmax over axis -1 of a tensor of shape (32, 1). This axis has size 1. The softmax operation will always return the value 1, which is likely not what you intended. Did you mean to use a sigmoid instead?\n",
      "  warnings.warn(\n"
     ]
    },
    {
     "name": "stdout",
     "output_type": "stream",
     "text": [
      "Epoch 1/10\n"
     ]
    },
    {
     "name": "stderr",
     "output_type": "stream",
     "text": [
      "c:\\Users\\ASUS\\AppData\\Local\\Programs\\Python\\Python312\\Lib\\site-packages\\keras\\src\\layers\\core\\dense.py:87: UserWarning: Do not pass an `input_shape`/`input_dim` argument to a layer. When using Sequential models, prefer using an `Input(shape)` object as the first layer in the model instead.\n",
      "  super().__init__(activity_regularizer=activity_regularizer, **kwargs)\n",
      "c:\\Users\\ASUS\\AppData\\Local\\Programs\\Python\\Python312\\Lib\\site-packages\\keras\\src\\ops\\nn.py:545: UserWarning: You are using a softmax over axis -1 of a tensor of shape (32, 1). This axis has size 1. The softmax operation will always return the value 1, which is likely not what you intended. Did you mean to use a sigmoid instead?\n",
      "  warnings.warn(\n"
     ]
    },
    {
     "name": "stdout",
     "output_type": "stream",
     "text": [
      "\u001b[1m3480/3500\u001b[0m \u001b[32m━━━━━━━━━━━━━━━━━━━\u001b[0m\u001b[37m━\u001b[0m \u001b[1m0s\u001b[0m 917us/step - accuracy: 0.0000e+00 - loss: -116917.5547"
     ]
    },
    {
     "name": "stderr",
     "output_type": "stream",
     "text": [
      "c:\\Users\\ASUS\\AppData\\Local\\Programs\\Python\\Python312\\Lib\\site-packages\\keras\\src\\ops\\nn.py:545: UserWarning: You are using a softmax over axis -1 of a tensor of shape (32, 1). This axis has size 1. The softmax operation will always return the value 1, which is likely not what you intended. Did you mean to use a sigmoid instead?\n",
      "  warnings.warn(\n"
     ]
    },
    {
     "name": "stdout",
     "output_type": "stream",
     "text": [
      "\u001b[1m3500/3500\u001b[0m \u001b[32m━━━━━━━━━━━━━━━━━━━━\u001b[0m\u001b[37m\u001b[0m \u001b[1m4s\u001b[0m 1ms/step - accuracy: 0.0000e+00 - loss: -117608.8359 - val_accuracy: 0.0000e+00 - val_loss: -460883.8438\n",
      "Epoch 2/10\n",
      "\u001b[1m3500/3500\u001b[0m \u001b[32m━━━━━━━━━━━━━━━━━━━━\u001b[0m\u001b[37m\u001b[0m \u001b[1m4s\u001b[0m 1ms/step - accuracy: 0.0000e+00 - loss: -577208.7500 - val_accuracy: 0.0000e+00 - val_loss: -917228.3125\n",
      "Epoch 3/10\n",
      "\u001b[1m3500/3500\u001b[0m \u001b[32m━━━━━━━━━━━━━━━━━━━━\u001b[0m\u001b[37m\u001b[0m \u001b[1m4s\u001b[0m 1ms/step - accuracy: 0.0000e+00 - loss: -1034869.9375 - val_accuracy: 0.0000e+00 - val_loss: -1373926.2500\n",
      "Epoch 4/10\n",
      "\u001b[1m3500/3500\u001b[0m \u001b[32m━━━━━━━━━━━━━━━━━━━━\u001b[0m\u001b[37m\u001b[0m \u001b[1m4s\u001b[0m 1ms/step - accuracy: 0.0000e+00 - loss: -1491148.8750 - val_accuracy: 0.0000e+00 - val_loss: -1830495.5000\n",
      "Epoch 5/10\n",
      "\u001b[1m3500/3500\u001b[0m \u001b[32m━━━━━━━━━━━━━━━━━━━━\u001b[0m\u001b[37m\u001b[0m \u001b[1m4s\u001b[0m 1ms/step - accuracy: 0.0000e+00 - loss: -1960786.1250 - val_accuracy: 0.0000e+00 - val_loss: -2331847.5000\n",
      "Epoch 6/10\n",
      "\u001b[1m3500/3500\u001b[0m \u001b[32m━━━━━━━━━━━━━━━━━━━━\u001b[0m\u001b[37m\u001b[0m \u001b[1m4s\u001b[0m 1ms/step - accuracy: 0.0000e+00 - loss: -2469211.5000 - val_accuracy: 0.0000e+00 - val_loss: -2832177.5000\n",
      "Epoch 7/10\n",
      "\u001b[1m3500/3500\u001b[0m \u001b[32m━━━━━━━━━━━━━━━━━━━━\u001b[0m\u001b[37m\u001b[0m \u001b[1m4s\u001b[0m 1ms/step - accuracy: 0.0000e+00 - loss: -2968440.2500 - val_accuracy: 0.0000e+00 - val_loss: -3332423.5000\n",
      "Epoch 8/10\n",
      "\u001b[1m3500/3500\u001b[0m \u001b[32m━━━━━━━━━━━━━━━━━━━━\u001b[0m\u001b[37m\u001b[0m \u001b[1m4s\u001b[0m 1ms/step - accuracy: 0.0000e+00 - loss: -3473808.5000 - val_accuracy: 0.0000e+00 - val_loss: -3832347.0000\n",
      "Epoch 9/10\n",
      "\u001b[1m3500/3500\u001b[0m \u001b[32m━━━━━━━━━━━━━━━━━━━━\u001b[0m\u001b[37m\u001b[0m \u001b[1m4s\u001b[0m 1ms/step - accuracy: 0.0000e+00 - loss: -3971140.0000 - val_accuracy: 0.0000e+00 - val_loss: -4332244.0000\n",
      "Epoch 10/10\n",
      "\u001b[1m3500/3500\u001b[0m \u001b[32m━━━━━━━━━━━━━━━━━━━━\u001b[0m\u001b[37m\u001b[0m \u001b[1m4s\u001b[0m 1ms/step - accuracy: 0.0000e+00 - loss: -4474588.0000 - val_accuracy: 0.0000e+00 - val_loss: -4849160.5000\n"
     ]
    },
    {
     "name": "stderr",
     "output_type": "stream",
     "text": [
      "c:\\Users\\ASUS\\AppData\\Local\\Programs\\Python\\Python312\\Lib\\site-packages\\keras\\src\\ops\\nn.py:545: UserWarning: You are using a softmax over axis -1 of a tensor of shape (32, 1). This axis has size 1. The softmax operation will always return the value 1, which is likely not what you intended. Did you mean to use a sigmoid instead?\n",
      "  warnings.warn(\n"
     ]
    },
    {
     "name": "stdout",
     "output_type": "stream",
     "text": [
      "Epoch 1/10\n"
     ]
    },
    {
     "name": "stderr",
     "output_type": "stream",
     "text": [
      "c:\\Users\\ASUS\\AppData\\Local\\Programs\\Python\\Python312\\Lib\\site-packages\\keras\\src\\layers\\core\\dense.py:87: UserWarning: Do not pass an `input_shape`/`input_dim` argument to a layer. When using Sequential models, prefer using an `Input(shape)` object as the first layer in the model instead.\n",
      "  super().__init__(activity_regularizer=activity_regularizer, **kwargs)\n",
      "c:\\Users\\ASUS\\AppData\\Local\\Programs\\Python\\Python312\\Lib\\site-packages\\keras\\src\\ops\\nn.py:545: UserWarning: You are using a softmax over axis -1 of a tensor of shape (32, 1). This axis has size 1. The softmax operation will always return the value 1, which is likely not what you intended. Did you mean to use a sigmoid instead?\n",
      "  warnings.warn(\n"
     ]
    },
    {
     "name": "stdout",
     "output_type": "stream",
     "text": [
      "\u001b[1m3488/3500\u001b[0m \u001b[32m━━━━━━━━━━━━━━━━━━━\u001b[0m\u001b[37m━\u001b[0m \u001b[1m0s\u001b[0m 927us/step - accuracy: 0.0000e+00 - loss: -129402.3281"
     ]
    },
    {
     "name": "stderr",
     "output_type": "stream",
     "text": [
      "c:\\Users\\ASUS\\AppData\\Local\\Programs\\Python\\Python312\\Lib\\site-packages\\keras\\src\\ops\\nn.py:545: UserWarning: You are using a softmax over axis -1 of a tensor of shape (32, 1). This axis has size 1. The softmax operation will always return the value 1, which is likely not what you intended. Did you mean to use a sigmoid instead?\n",
      "  warnings.warn(\n"
     ]
    },
    {
     "name": "stdout",
     "output_type": "stream",
     "text": [
      "\u001b[1m3500/3500\u001b[0m \u001b[32m━━━━━━━━━━━━━━━━━━━━\u001b[0m\u001b[37m\u001b[0m \u001b[1m5s\u001b[0m 1ms/step - accuracy: 0.0000e+00 - loss: -129903.7109 - val_accuracy: 0.0000e+00 - val_loss: -540614.3750\n",
      "Epoch 2/10\n",
      "\u001b[1m3500/3500\u001b[0m \u001b[32m━━━━━━━━━━━━━━━━━━━━\u001b[0m\u001b[37m\u001b[0m \u001b[1m4s\u001b[0m 1ms/step - accuracy: 0.0000e+00 - loss: -675638.3125 - val_accuracy: 0.0000e+00 - val_loss: -1088833.8750\n",
      "Epoch 3/10\n",
      "\u001b[1m3500/3500\u001b[0m \u001b[32m━━━━━━━━━━━━━━━━━━━━\u001b[0m\u001b[37m\u001b[0m \u001b[1m4s\u001b[0m 1ms/step - accuracy: 0.0000e+00 - loss: -1219972.2500 - val_accuracy: 0.0000e+00 - val_loss: -1634898.6250\n",
      "Epoch 4/10\n",
      "\u001b[1m3500/3500\u001b[0m \u001b[32m━━━━━━━━━━━━━━━━━━━━\u001b[0m\u001b[37m\u001b[0m \u001b[1m4s\u001b[0m 1ms/step - accuracy: 0.0000e+00 - loss: -1766493.3750 - val_accuracy: 0.0000e+00 - val_loss: -2180609.5000\n",
      "Epoch 5/10\n",
      "\u001b[1m3500/3500\u001b[0m \u001b[32m━━━━━━━━━━━━━━━━━━━━\u001b[0m\u001b[37m\u001b[0m \u001b[1m4s\u001b[0m 1ms/step - accuracy: 0.0000e+00 - loss: -2325355.5000 - val_accuracy: 0.0000e+00 - val_loss: -2754777.7500\n",
      "Epoch 6/10\n",
      "\u001b[1m3500/3500\u001b[0m \u001b[32m━━━━━━━━━━━━━━━━━━━━\u001b[0m\u001b[37m\u001b[0m \u001b[1m5s\u001b[0m 1ms/step - accuracy: 0.0000e+00 - loss: -2904331.7500 - val_accuracy: 0.0000e+00 - val_loss: -3374296.0000\n",
      "Epoch 7/10\n",
      "\u001b[1m3500/3500\u001b[0m \u001b[32m━━━━━━━━━━━━━━━━━━━━\u001b[0m\u001b[37m\u001b[0m \u001b[1m4s\u001b[0m 1ms/step - accuracy: 0.0000e+00 - loss: -3530793.5000 - val_accuracy: 0.0000e+00 - val_loss: -4012363.5000\n",
      "Epoch 8/10\n",
      "\u001b[1m3500/3500\u001b[0m \u001b[32m━━━━━━━━━━━━━━━━━━━━\u001b[0m\u001b[37m\u001b[0m \u001b[1m4s\u001b[0m 1ms/step - accuracy: 0.0000e+00 - loss: -4156532.2500 - val_accuracy: 0.0000e+00 - val_loss: -4646059.0000\n",
      "Epoch 9/10\n",
      "\u001b[1m3500/3500\u001b[0m \u001b[32m━━━━━━━━━━━━━━━━━━━━\u001b[0m\u001b[37m\u001b[0m \u001b[1m4s\u001b[0m 1ms/step - accuracy: 0.0000e+00 - loss: -4795923.0000 - val_accuracy: 0.0000e+00 - val_loss: -5319828.0000\n",
      "Epoch 10/10\n",
      "\u001b[1m3500/3500\u001b[0m \u001b[32m━━━━━━━━━━━━━━━━━━━━\u001b[0m\u001b[37m\u001b[0m \u001b[1m4s\u001b[0m 1ms/step - accuracy: 0.0000e+00 - loss: -5467353.5000 - val_accuracy: 0.0000e+00 - val_loss: -5997617.0000\n"
     ]
    },
    {
     "name": "stderr",
     "output_type": "stream",
     "text": [
      "c:\\Users\\ASUS\\AppData\\Local\\Programs\\Python\\Python312\\Lib\\site-packages\\keras\\src\\ops\\nn.py:545: UserWarning: You are using a softmax over axis -1 of a tensor of shape (32, 1). This axis has size 1. The softmax operation will always return the value 1, which is likely not what you intended. Did you mean to use a sigmoid instead?\n",
      "  warnings.warn(\n"
     ]
    },
    {
     "name": "stdout",
     "output_type": "stream",
     "text": [
      "Fold 1: {'accuracy': 0.0, 'precision': 0.0, 'recall': 0.0, 'f1_score': 0.0, 'roc_auc': 0.5}\n",
      "Fold 2: {'accuracy': 0.0, 'precision': 0.0, 'recall': 0.0, 'f1_score': 0.0, 'roc_auc': 0.5}\n",
      "Fold 3: {'accuracy': 0.0, 'precision': 0.0, 'recall': 0.0, 'f1_score': 0.0, 'roc_auc': 0.5}\n",
      "Fold 4: {'accuracy': 0.0, 'precision': 0.0, 'recall': 0.0, 'f1_score': 0.0, 'roc_auc': 0.5}\n",
      "Fold 5: {'accuracy': 0.0, 'precision': 0.0, 'recall': 0.0, 'f1_score': 0.0, 'roc_auc': 0.5}\n",
      "Average metrics: {'accuracy': 0.0, 'precision': 0.0, 'recall': 0.0, 'f1_score': 0.0, 'roc_auc': 0.5}\n"
     ]
    }
   ],
   "source": [
    "fold_metrics = []\n",
    "encoder = OneHotEncoder(sparse_output=False)\n",
    "\n",
    "# Cross-validation dengan 5 fold\n",
    "for train_index, val_index in kf.split(X_balanced, y_balanced):\n",
    "    X_train, X_test = X_balanced.loc[train_index], X_balanced.loc[val_index]\n",
    "    y_train, y_test = y_balanced[train_index], y_balanced[val_index]\n",
    "    \n",
    "    nn1 = tf.keras.models.Sequential([\n",
    "    tf.keras.layers.Dense(64, activation='sigmoid', input_dim=X_train.shape[1]),\n",
    "    tf.keras.layers.Dense(32, activation='sigmoid'),\n",
    "    tf.keras.layers.Dense(1, activation='softmax')\n",
    "    ])\n",
    "\n",
    "    # Mengkompilasi model dengan learning rate yang ditentukan\n",
    "    nn1.compile(optimizer=tf.keras.optimizers.Adam(learning_rate=0.01),\n",
    "                  loss='binary_crossentropy',\n",
    "                  metrics=['accuracy'])\n",
    "\n",
    "    # Melatih model\n",
    "    history = nn1.fit(X_train, y_train, validation_data=(X_test, y_test), epochs=10)\n",
    "\n",
    "    # Melakukan prediksi pada data validasi\n",
    "    y_probs = nn1.predict(X_test, verbose=0)\n",
    "    y_classes = np.argmax(y_probs, axis=1)\n",
    "\n",
    "    y_test_encoded = encoder.fit_transform(y_test.to_numpy().reshape(-1, 1))\n",
    "\n",
    "    # Menghitung metrik evaluasi\n",
    "    metrics = {\n",
    "        'accuracy': accuracy_score(y_test, y_classes),\n",
    "        'precision': precision_score(y_test, y_classes, average='weighted', zero_division=0),\n",
    "        'recall': recall_score(y_test, y_classes, average='weighted', zero_division=0),\n",
    "        'f1_score': f1_score(y_test, y_classes, average='weighted', zero_division=0),\n",
    "        'roc_auc': roc_auc_score(y_test_encoded, y_probs, multi_class='ovr')\n",
    "    }\n",
    "    fold_metrics.append(metrics)\n",
    "\n",
    "# Menampilkan hasil tiap fold\n",
    "for i, metrics in enumerate(fold_metrics, 1):\n",
    "    print(f\"Fold {i}: {metrics}\")\n",
    "\n",
    "# Menghitung rata-rata metrik dari kelima fold\n",
    "avg_metrics = {k: np.mean([m[k] for m in fold_metrics]) for k in fold_metrics[0]}\n",
    "print(\"Average metrics:\", avg_metrics)"
   ]
  },
  {
   "cell_type": "markdown",
   "metadata": {},
   "source": [
    "#### Neuron activation softmax"
   ]
  },
  {
   "cell_type": "code",
   "execution_count": 70,
   "metadata": {},
   "outputs": [
    {
     "name": "stdout",
     "output_type": "stream",
     "text": [
      "Epoch 1/10\n"
     ]
    },
    {
     "name": "stderr",
     "output_type": "stream",
     "text": [
      "c:\\Users\\ASUS\\AppData\\Local\\Programs\\Python\\Python312\\Lib\\site-packages\\keras\\src\\layers\\core\\dense.py:87: UserWarning: Do not pass an `input_shape`/`input_dim` argument to a layer. When using Sequential models, prefer using an `Input(shape)` object as the first layer in the model instead.\n",
      "  super().__init__(activity_regularizer=activity_regularizer, **kwargs)\n",
      "c:\\Users\\ASUS\\AppData\\Local\\Programs\\Python\\Python312\\Lib\\site-packages\\keras\\src\\ops\\nn.py:545: UserWarning: You are using a softmax over axis -1 of a tensor of shape (32, 1). This axis has size 1. The softmax operation will always return the value 1, which is likely not what you intended. Did you mean to use a sigmoid instead?\n",
      "  warnings.warn(\n"
     ]
    },
    {
     "name": "stdout",
     "output_type": "stream",
     "text": [
      "\u001b[1m3452/3500\u001b[0m \u001b[32m━━━━━━━━━━━━━━━━━━━\u001b[0m\u001b[37m━\u001b[0m \u001b[1m0s\u001b[0m 586us/step - accuracy: 0.0000e+00 - loss: -27293.2344"
     ]
    },
    {
     "name": "stderr",
     "output_type": "stream",
     "text": [
      "c:\\Users\\ASUS\\AppData\\Local\\Programs\\Python\\Python312\\Lib\\site-packages\\keras\\src\\ops\\nn.py:545: UserWarning: You are using a softmax over axis -1 of a tensor of shape (32, 1). This axis has size 1. The softmax operation will always return the value 1, which is likely not what you intended. Did you mean to use a sigmoid instead?\n",
      "  warnings.warn(\n"
     ]
    },
    {
     "name": "stdout",
     "output_type": "stream",
     "text": [
      "\u001b[1m3500/3500\u001b[0m \u001b[32m━━━━━━━━━━━━━━━━━━━━\u001b[0m\u001b[37m\u001b[0m \u001b[1m3s\u001b[0m 735us/step - accuracy: 0.0000e+00 - loss: -27697.3867 - val_accuracy: 0.0000e+00 - val_loss: -112270.9688\n",
      "Epoch 2/10\n",
      "\u001b[1m3500/3500\u001b[0m \u001b[32m━━━━━━━━━━━━━━━━━━━━\u001b[0m\u001b[37m\u001b[0m \u001b[1m2s\u001b[0m 701us/step - accuracy: 0.0000e+00 - loss: -139649.4844 - val_accuracy: 0.0000e+00 - val_loss: -221130.3906\n",
      "Epoch 3/10\n",
      "\u001b[1m3500/3500\u001b[0m \u001b[32m━━━━━━━━━━━━━━━━━━━━\u001b[0m\u001b[37m\u001b[0m \u001b[1m2s\u001b[0m 698us/step - accuracy: 0.0000e+00 - loss: -248667.2500 - val_accuracy: 0.0000e+00 - val_loss: -329977.8125\n",
      "Epoch 4/10\n",
      "\u001b[1m3500/3500\u001b[0m \u001b[32m━━━━━━━━━━━━━━━━━━━━\u001b[0m\u001b[37m\u001b[0m \u001b[1m2s\u001b[0m 697us/step - accuracy: 0.0000e+00 - loss: -357202.4688 - val_accuracy: 0.0000e+00 - val_loss: -438813.0312\n",
      "Epoch 5/10\n",
      "\u001b[1m3452/3500\u001b[0m \u001b[32m━━━━━━━━━━━━━━━━━━━\u001b[0m\u001b[37m━\u001b[0m \u001b[1m0s\u001b[0m 592us/step - accuracy: 0.0000e+00 - loss: -466280.8438"
     ]
    },
    {
     "ename": "KeyboardInterrupt",
     "evalue": "",
     "output_type": "error",
     "traceback": [
      "\u001b[1;31m---------------------------------------------------------------------------\u001b[0m",
      "\u001b[1;31mKeyboardInterrupt\u001b[0m                         Traceback (most recent call last)",
      "Cell \u001b[1;32mIn[70], line 21\u001b[0m\n\u001b[0;32m     16\u001b[0m nn2\u001b[38;5;241m.\u001b[39mcompile(optimizer\u001b[38;5;241m=\u001b[39mtf\u001b[38;5;241m.\u001b[39mkeras\u001b[38;5;241m.\u001b[39moptimizers\u001b[38;5;241m.\u001b[39mAdam(learning_rate\u001b[38;5;241m=\u001b[39m\u001b[38;5;241m0.01\u001b[39m),\n\u001b[0;32m     17\u001b[0m               loss\u001b[38;5;241m=\u001b[39m\u001b[38;5;124m'\u001b[39m\u001b[38;5;124mbinary_crossentropy\u001b[39m\u001b[38;5;124m'\u001b[39m,\n\u001b[0;32m     18\u001b[0m               metrics\u001b[38;5;241m=\u001b[39m[\u001b[38;5;124m'\u001b[39m\u001b[38;5;124maccuracy\u001b[39m\u001b[38;5;124m'\u001b[39m])\n\u001b[0;32m     20\u001b[0m \u001b[38;5;66;03m# Melatih model\u001b[39;00m\n\u001b[1;32m---> 21\u001b[0m history \u001b[38;5;241m=\u001b[39m \u001b[43mnn2\u001b[49m\u001b[38;5;241;43m.\u001b[39;49m\u001b[43mfit\u001b[49m\u001b[43m(\u001b[49m\u001b[43mX_train\u001b[49m\u001b[43m,\u001b[49m\u001b[43m \u001b[49m\u001b[43my_train\u001b[49m\u001b[43m,\u001b[49m\u001b[43m \u001b[49m\u001b[43mvalidation_data\u001b[49m\u001b[38;5;241;43m=\u001b[39;49m\u001b[43m(\u001b[49m\u001b[43mX_test\u001b[49m\u001b[43m,\u001b[49m\u001b[43m \u001b[49m\u001b[43my_test\u001b[49m\u001b[43m)\u001b[49m\u001b[43m,\u001b[49m\u001b[43m \u001b[49m\u001b[43mepochs\u001b[49m\u001b[38;5;241;43m=\u001b[39;49m\u001b[38;5;241;43m10\u001b[39;49m\u001b[43m)\u001b[49m\n\u001b[0;32m     23\u001b[0m \u001b[38;5;66;03m# Melakukan prediksi pada data validasi\u001b[39;00m\n\u001b[0;32m     24\u001b[0m y_probs \u001b[38;5;241m=\u001b[39m nn2\u001b[38;5;241m.\u001b[39mpredict(X_test, verbose\u001b[38;5;241m=\u001b[39m\u001b[38;5;241m0\u001b[39m)\n",
      "File \u001b[1;32mc:\\Users\\ASUS\\AppData\\Local\\Programs\\Python\\Python312\\Lib\\site-packages\\keras\\src\\utils\\traceback_utils.py:117\u001b[0m, in \u001b[0;36mfilter_traceback.<locals>.error_handler\u001b[1;34m(*args, **kwargs)\u001b[0m\n\u001b[0;32m    115\u001b[0m filtered_tb \u001b[38;5;241m=\u001b[39m \u001b[38;5;28;01mNone\u001b[39;00m\n\u001b[0;32m    116\u001b[0m \u001b[38;5;28;01mtry\u001b[39;00m:\n\u001b[1;32m--> 117\u001b[0m     \u001b[38;5;28;01mreturn\u001b[39;00m \u001b[43mfn\u001b[49m\u001b[43m(\u001b[49m\u001b[38;5;241;43m*\u001b[39;49m\u001b[43margs\u001b[49m\u001b[43m,\u001b[49m\u001b[43m \u001b[49m\u001b[38;5;241;43m*\u001b[39;49m\u001b[38;5;241;43m*\u001b[39;49m\u001b[43mkwargs\u001b[49m\u001b[43m)\u001b[49m\n\u001b[0;32m    118\u001b[0m \u001b[38;5;28;01mexcept\u001b[39;00m \u001b[38;5;167;01mException\u001b[39;00m \u001b[38;5;28;01mas\u001b[39;00m e:\n\u001b[0;32m    119\u001b[0m     filtered_tb \u001b[38;5;241m=\u001b[39m _process_traceback_frames(e\u001b[38;5;241m.\u001b[39m__traceback__)\n",
      "File \u001b[1;32mc:\\Users\\ASUS\\AppData\\Local\\Programs\\Python\\Python312\\Lib\\site-packages\\keras\\src\\backend\\tensorflow\\trainer.py:345\u001b[0m, in \u001b[0;36mTensorFlowTrainer.fit\u001b[1;34m(self, x, y, batch_size, epochs, verbose, callbacks, validation_split, validation_data, shuffle, class_weight, sample_weight, initial_epoch, steps_per_epoch, validation_steps, validation_batch_size, validation_freq)\u001b[0m\n\u001b[0;32m    334\u001b[0m \u001b[38;5;28;01mif\u001b[39;00m \u001b[38;5;28mgetattr\u001b[39m(\u001b[38;5;28mself\u001b[39m, \u001b[38;5;124m\"\u001b[39m\u001b[38;5;124m_eval_epoch_iterator\u001b[39m\u001b[38;5;124m\"\u001b[39m, \u001b[38;5;28;01mNone\u001b[39;00m) \u001b[38;5;129;01mis\u001b[39;00m \u001b[38;5;28;01mNone\u001b[39;00m:\n\u001b[0;32m    335\u001b[0m     \u001b[38;5;28mself\u001b[39m\u001b[38;5;241m.\u001b[39m_eval_epoch_iterator \u001b[38;5;241m=\u001b[39m TFEpochIterator(\n\u001b[0;32m    336\u001b[0m         x\u001b[38;5;241m=\u001b[39mval_x,\n\u001b[0;32m    337\u001b[0m         y\u001b[38;5;241m=\u001b[39mval_y,\n\u001b[1;32m   (...)\u001b[0m\n\u001b[0;32m    343\u001b[0m         shuffle\u001b[38;5;241m=\u001b[39m\u001b[38;5;28;01mFalse\u001b[39;00m,\n\u001b[0;32m    344\u001b[0m     )\n\u001b[1;32m--> 345\u001b[0m val_logs \u001b[38;5;241m=\u001b[39m \u001b[38;5;28;43mself\u001b[39;49m\u001b[38;5;241;43m.\u001b[39;49m\u001b[43mevaluate\u001b[49m\u001b[43m(\u001b[49m\n\u001b[0;32m    346\u001b[0m \u001b[43m    \u001b[49m\u001b[43mx\u001b[49m\u001b[38;5;241;43m=\u001b[39;49m\u001b[43mval_x\u001b[49m\u001b[43m,\u001b[49m\n\u001b[0;32m    347\u001b[0m \u001b[43m    \u001b[49m\u001b[43my\u001b[49m\u001b[38;5;241;43m=\u001b[39;49m\u001b[43mval_y\u001b[49m\u001b[43m,\u001b[49m\n\u001b[0;32m    348\u001b[0m \u001b[43m    \u001b[49m\u001b[43msample_weight\u001b[49m\u001b[38;5;241;43m=\u001b[39;49m\u001b[43mval_sample_weight\u001b[49m\u001b[43m,\u001b[49m\n\u001b[0;32m    349\u001b[0m \u001b[43m    \u001b[49m\u001b[43mbatch_size\u001b[49m\u001b[38;5;241;43m=\u001b[39;49m\u001b[43mvalidation_batch_size\u001b[49m\u001b[43m \u001b[49m\u001b[38;5;129;43;01mor\u001b[39;49;00m\u001b[43m \u001b[49m\u001b[43mbatch_size\u001b[49m\u001b[43m,\u001b[49m\n\u001b[0;32m    350\u001b[0m \u001b[43m    \u001b[49m\u001b[43msteps\u001b[49m\u001b[38;5;241;43m=\u001b[39;49m\u001b[43mvalidation_steps\u001b[49m\u001b[43m,\u001b[49m\n\u001b[0;32m    351\u001b[0m \u001b[43m    \u001b[49m\u001b[43mcallbacks\u001b[49m\u001b[38;5;241;43m=\u001b[39;49m\u001b[43mcallbacks\u001b[49m\u001b[43m,\u001b[49m\n\u001b[0;32m    352\u001b[0m \u001b[43m    \u001b[49m\u001b[43mreturn_dict\u001b[49m\u001b[38;5;241;43m=\u001b[39;49m\u001b[38;5;28;43;01mTrue\u001b[39;49;00m\u001b[43m,\u001b[49m\n\u001b[0;32m    353\u001b[0m \u001b[43m    \u001b[49m\u001b[43m_use_cached_eval_dataset\u001b[49m\u001b[38;5;241;43m=\u001b[39;49m\u001b[38;5;28;43;01mTrue\u001b[39;49;00m\u001b[43m,\u001b[49m\n\u001b[0;32m    354\u001b[0m \u001b[43m\u001b[49m\u001b[43m)\u001b[49m\n\u001b[0;32m    355\u001b[0m val_logs \u001b[38;5;241m=\u001b[39m {\n\u001b[0;32m    356\u001b[0m     \u001b[38;5;124m\"\u001b[39m\u001b[38;5;124mval_\u001b[39m\u001b[38;5;124m\"\u001b[39m \u001b[38;5;241m+\u001b[39m name: val \u001b[38;5;28;01mfor\u001b[39;00m name, val \u001b[38;5;129;01min\u001b[39;00m val_logs\u001b[38;5;241m.\u001b[39mitems()\n\u001b[0;32m    357\u001b[0m }\n\u001b[0;32m    358\u001b[0m epoch_logs\u001b[38;5;241m.\u001b[39mupdate(val_logs)\n",
      "File \u001b[1;32mc:\\Users\\ASUS\\AppData\\Local\\Programs\\Python\\Python312\\Lib\\site-packages\\keras\\src\\utils\\traceback_utils.py:117\u001b[0m, in \u001b[0;36mfilter_traceback.<locals>.error_handler\u001b[1;34m(*args, **kwargs)\u001b[0m\n\u001b[0;32m    115\u001b[0m filtered_tb \u001b[38;5;241m=\u001b[39m \u001b[38;5;28;01mNone\u001b[39;00m\n\u001b[0;32m    116\u001b[0m \u001b[38;5;28;01mtry\u001b[39;00m:\n\u001b[1;32m--> 117\u001b[0m     \u001b[38;5;28;01mreturn\u001b[39;00m \u001b[43mfn\u001b[49m\u001b[43m(\u001b[49m\u001b[38;5;241;43m*\u001b[39;49m\u001b[43margs\u001b[49m\u001b[43m,\u001b[49m\u001b[43m \u001b[49m\u001b[38;5;241;43m*\u001b[39;49m\u001b[38;5;241;43m*\u001b[39;49m\u001b[43mkwargs\u001b[49m\u001b[43m)\u001b[49m\n\u001b[0;32m    118\u001b[0m \u001b[38;5;28;01mexcept\u001b[39;00m \u001b[38;5;167;01mException\u001b[39;00m \u001b[38;5;28;01mas\u001b[39;00m e:\n\u001b[0;32m    119\u001b[0m     filtered_tb \u001b[38;5;241m=\u001b[39m _process_traceback_frames(e\u001b[38;5;241m.\u001b[39m__traceback__)\n",
      "File \u001b[1;32mc:\\Users\\ASUS\\AppData\\Local\\Programs\\Python\\Python312\\Lib\\site-packages\\keras\\src\\backend\\tensorflow\\trainer.py:433\u001b[0m, in \u001b[0;36mTensorFlowTrainer.evaluate\u001b[1;34m(self, x, y, batch_size, verbose, sample_weight, steps, callbacks, return_dict, **kwargs)\u001b[0m\n\u001b[0;32m    431\u001b[0m \u001b[38;5;28;01mfor\u001b[39;00m step, iterator \u001b[38;5;129;01min\u001b[39;00m epoch_iterator\u001b[38;5;241m.\u001b[39menumerate_epoch():\n\u001b[0;32m    432\u001b[0m     callbacks\u001b[38;5;241m.\u001b[39mon_test_batch_begin(step)\n\u001b[1;32m--> 433\u001b[0m     logs \u001b[38;5;241m=\u001b[39m \u001b[38;5;28;43mself\u001b[39;49m\u001b[38;5;241;43m.\u001b[39;49m\u001b[43mtest_function\u001b[49m\u001b[43m(\u001b[49m\u001b[43miterator\u001b[49m\u001b[43m)\u001b[49m\n\u001b[0;32m    434\u001b[0m     logs \u001b[38;5;241m=\u001b[39m \u001b[38;5;28mself\u001b[39m\u001b[38;5;241m.\u001b[39m_pythonify_logs(logs)\n\u001b[0;32m    435\u001b[0m     callbacks\u001b[38;5;241m.\u001b[39mon_test_batch_end(step, logs)\n",
      "File \u001b[1;32mc:\\Users\\ASUS\\AppData\\Local\\Programs\\Python\\Python312\\Lib\\site-packages\\tensorflow\\python\\util\\traceback_utils.py:150\u001b[0m, in \u001b[0;36mfilter_traceback.<locals>.error_handler\u001b[1;34m(*args, **kwargs)\u001b[0m\n\u001b[0;32m    148\u001b[0m filtered_tb \u001b[38;5;241m=\u001b[39m \u001b[38;5;28;01mNone\u001b[39;00m\n\u001b[0;32m    149\u001b[0m \u001b[38;5;28;01mtry\u001b[39;00m:\n\u001b[1;32m--> 150\u001b[0m   \u001b[38;5;28;01mreturn\u001b[39;00m \u001b[43mfn\u001b[49m\u001b[43m(\u001b[49m\u001b[38;5;241;43m*\u001b[39;49m\u001b[43margs\u001b[49m\u001b[43m,\u001b[49m\u001b[43m \u001b[49m\u001b[38;5;241;43m*\u001b[39;49m\u001b[38;5;241;43m*\u001b[39;49m\u001b[43mkwargs\u001b[49m\u001b[43m)\u001b[49m\n\u001b[0;32m    151\u001b[0m \u001b[38;5;28;01mexcept\u001b[39;00m \u001b[38;5;167;01mException\u001b[39;00m \u001b[38;5;28;01mas\u001b[39;00m e:\n\u001b[0;32m    152\u001b[0m   filtered_tb \u001b[38;5;241m=\u001b[39m _process_traceback_frames(e\u001b[38;5;241m.\u001b[39m__traceback__)\n",
      "File \u001b[1;32mc:\\Users\\ASUS\\AppData\\Local\\Programs\\Python\\Python312\\Lib\\site-packages\\tensorflow\\python\\eager\\polymorphic_function\\polymorphic_function.py:833\u001b[0m, in \u001b[0;36mFunction.__call__\u001b[1;34m(self, *args, **kwds)\u001b[0m\n\u001b[0;32m    830\u001b[0m compiler \u001b[38;5;241m=\u001b[39m \u001b[38;5;124m\"\u001b[39m\u001b[38;5;124mxla\u001b[39m\u001b[38;5;124m\"\u001b[39m \u001b[38;5;28;01mif\u001b[39;00m \u001b[38;5;28mself\u001b[39m\u001b[38;5;241m.\u001b[39m_jit_compile \u001b[38;5;28;01melse\u001b[39;00m \u001b[38;5;124m\"\u001b[39m\u001b[38;5;124mnonXla\u001b[39m\u001b[38;5;124m\"\u001b[39m\n\u001b[0;32m    832\u001b[0m \u001b[38;5;28;01mwith\u001b[39;00m OptionalXlaContext(\u001b[38;5;28mself\u001b[39m\u001b[38;5;241m.\u001b[39m_jit_compile):\n\u001b[1;32m--> 833\u001b[0m   result \u001b[38;5;241m=\u001b[39m \u001b[38;5;28;43mself\u001b[39;49m\u001b[38;5;241;43m.\u001b[39;49m\u001b[43m_call\u001b[49m\u001b[43m(\u001b[49m\u001b[38;5;241;43m*\u001b[39;49m\u001b[43margs\u001b[49m\u001b[43m,\u001b[49m\u001b[43m \u001b[49m\u001b[38;5;241;43m*\u001b[39;49m\u001b[38;5;241;43m*\u001b[39;49m\u001b[43mkwds\u001b[49m\u001b[43m)\u001b[49m\n\u001b[0;32m    835\u001b[0m new_tracing_count \u001b[38;5;241m=\u001b[39m \u001b[38;5;28mself\u001b[39m\u001b[38;5;241m.\u001b[39mexperimental_get_tracing_count()\n\u001b[0;32m    836\u001b[0m without_tracing \u001b[38;5;241m=\u001b[39m (tracing_count \u001b[38;5;241m==\u001b[39m new_tracing_count)\n",
      "File \u001b[1;32mc:\\Users\\ASUS\\AppData\\Local\\Programs\\Python\\Python312\\Lib\\site-packages\\tensorflow\\python\\eager\\polymorphic_function\\polymorphic_function.py:878\u001b[0m, in \u001b[0;36mFunction._call\u001b[1;34m(self, *args, **kwds)\u001b[0m\n\u001b[0;32m    875\u001b[0m \u001b[38;5;28mself\u001b[39m\u001b[38;5;241m.\u001b[39m_lock\u001b[38;5;241m.\u001b[39mrelease()\n\u001b[0;32m    876\u001b[0m \u001b[38;5;66;03m# In this case we have not created variables on the first call. So we can\u001b[39;00m\n\u001b[0;32m    877\u001b[0m \u001b[38;5;66;03m# run the first trace but we should fail if variables are created.\u001b[39;00m\n\u001b[1;32m--> 878\u001b[0m results \u001b[38;5;241m=\u001b[39m \u001b[43mtracing_compilation\u001b[49m\u001b[38;5;241;43m.\u001b[39;49m\u001b[43mcall_function\u001b[49m\u001b[43m(\u001b[49m\n\u001b[0;32m    879\u001b[0m \u001b[43m    \u001b[49m\u001b[43margs\u001b[49m\u001b[43m,\u001b[49m\u001b[43m \u001b[49m\u001b[43mkwds\u001b[49m\u001b[43m,\u001b[49m\u001b[43m \u001b[49m\u001b[38;5;28;43mself\u001b[39;49m\u001b[38;5;241;43m.\u001b[39;49m\u001b[43m_variable_creation_config\u001b[49m\n\u001b[0;32m    880\u001b[0m \u001b[43m\u001b[49m\u001b[43m)\u001b[49m\n\u001b[0;32m    881\u001b[0m \u001b[38;5;28;01mif\u001b[39;00m \u001b[38;5;28mself\u001b[39m\u001b[38;5;241m.\u001b[39m_created_variables:\n\u001b[0;32m    882\u001b[0m   \u001b[38;5;28;01mraise\u001b[39;00m \u001b[38;5;167;01mValueError\u001b[39;00m(\u001b[38;5;124m\"\u001b[39m\u001b[38;5;124mCreating variables on a non-first call to a function\u001b[39m\u001b[38;5;124m\"\u001b[39m\n\u001b[0;32m    883\u001b[0m                    \u001b[38;5;124m\"\u001b[39m\u001b[38;5;124m decorated with tf.function.\u001b[39m\u001b[38;5;124m\"\u001b[39m)\n",
      "File \u001b[1;32mc:\\Users\\ASUS\\AppData\\Local\\Programs\\Python\\Python312\\Lib\\site-packages\\tensorflow\\python\\eager\\polymorphic_function\\tracing_compilation.py:139\u001b[0m, in \u001b[0;36mcall_function\u001b[1;34m(args, kwargs, tracing_options)\u001b[0m\n\u001b[0;32m    137\u001b[0m bound_args \u001b[38;5;241m=\u001b[39m function\u001b[38;5;241m.\u001b[39mfunction_type\u001b[38;5;241m.\u001b[39mbind(\u001b[38;5;241m*\u001b[39margs, \u001b[38;5;241m*\u001b[39m\u001b[38;5;241m*\u001b[39mkwargs)\n\u001b[0;32m    138\u001b[0m flat_inputs \u001b[38;5;241m=\u001b[39m function\u001b[38;5;241m.\u001b[39mfunction_type\u001b[38;5;241m.\u001b[39munpack_inputs(bound_args)\n\u001b[1;32m--> 139\u001b[0m \u001b[38;5;28;01mreturn\u001b[39;00m \u001b[43mfunction\u001b[49m\u001b[38;5;241;43m.\u001b[39;49m\u001b[43m_call_flat\u001b[49m\u001b[43m(\u001b[49m\u001b[43m  \u001b[49m\u001b[38;5;66;43;03m# pylint: disable=protected-access\u001b[39;49;00m\n\u001b[0;32m    140\u001b[0m \u001b[43m    \u001b[49m\u001b[43mflat_inputs\u001b[49m\u001b[43m,\u001b[49m\u001b[43m \u001b[49m\u001b[43mcaptured_inputs\u001b[49m\u001b[38;5;241;43m=\u001b[39;49m\u001b[43mfunction\u001b[49m\u001b[38;5;241;43m.\u001b[39;49m\u001b[43mcaptured_inputs\u001b[49m\n\u001b[0;32m    141\u001b[0m \u001b[43m\u001b[49m\u001b[43m)\u001b[49m\n",
      "File \u001b[1;32mc:\\Users\\ASUS\\AppData\\Local\\Programs\\Python\\Python312\\Lib\\site-packages\\tensorflow\\python\\eager\\polymorphic_function\\concrete_function.py:1322\u001b[0m, in \u001b[0;36mConcreteFunction._call_flat\u001b[1;34m(self, tensor_inputs, captured_inputs)\u001b[0m\n\u001b[0;32m   1318\u001b[0m possible_gradient_type \u001b[38;5;241m=\u001b[39m gradients_util\u001b[38;5;241m.\u001b[39mPossibleTapeGradientTypes(args)\n\u001b[0;32m   1319\u001b[0m \u001b[38;5;28;01mif\u001b[39;00m (possible_gradient_type \u001b[38;5;241m==\u001b[39m gradients_util\u001b[38;5;241m.\u001b[39mPOSSIBLE_GRADIENT_TYPES_NONE\n\u001b[0;32m   1320\u001b[0m     \u001b[38;5;129;01mand\u001b[39;00m executing_eagerly):\n\u001b[0;32m   1321\u001b[0m   \u001b[38;5;66;03m# No tape is watching; skip to running the function.\u001b[39;00m\n\u001b[1;32m-> 1322\u001b[0m   \u001b[38;5;28;01mreturn\u001b[39;00m \u001b[38;5;28;43mself\u001b[39;49m\u001b[38;5;241;43m.\u001b[39;49m\u001b[43m_inference_function\u001b[49m\u001b[38;5;241;43m.\u001b[39;49m\u001b[43mcall_preflattened\u001b[49m\u001b[43m(\u001b[49m\u001b[43margs\u001b[49m\u001b[43m)\u001b[49m\n\u001b[0;32m   1323\u001b[0m forward_backward \u001b[38;5;241m=\u001b[39m \u001b[38;5;28mself\u001b[39m\u001b[38;5;241m.\u001b[39m_select_forward_and_backward_functions(\n\u001b[0;32m   1324\u001b[0m     args,\n\u001b[0;32m   1325\u001b[0m     possible_gradient_type,\n\u001b[0;32m   1326\u001b[0m     executing_eagerly)\n\u001b[0;32m   1327\u001b[0m forward_function, args_with_tangents \u001b[38;5;241m=\u001b[39m forward_backward\u001b[38;5;241m.\u001b[39mforward()\n",
      "File \u001b[1;32mc:\\Users\\ASUS\\AppData\\Local\\Programs\\Python\\Python312\\Lib\\site-packages\\tensorflow\\python\\eager\\polymorphic_function\\atomic_function.py:216\u001b[0m, in \u001b[0;36mAtomicFunction.call_preflattened\u001b[1;34m(self, args)\u001b[0m\n\u001b[0;32m    214\u001b[0m \u001b[38;5;28;01mdef\u001b[39;00m \u001b[38;5;21mcall_preflattened\u001b[39m(\u001b[38;5;28mself\u001b[39m, args: Sequence[core\u001b[38;5;241m.\u001b[39mTensor]) \u001b[38;5;241m-\u001b[39m\u001b[38;5;241m>\u001b[39m Any:\n\u001b[0;32m    215\u001b[0m \u001b[38;5;250m  \u001b[39m\u001b[38;5;124;03m\"\"\"Calls with flattened tensor inputs and returns the structured output.\"\"\"\u001b[39;00m\n\u001b[1;32m--> 216\u001b[0m   flat_outputs \u001b[38;5;241m=\u001b[39m \u001b[38;5;28;43mself\u001b[39;49m\u001b[38;5;241;43m.\u001b[39;49m\u001b[43mcall_flat\u001b[49m\u001b[43m(\u001b[49m\u001b[38;5;241;43m*\u001b[39;49m\u001b[43margs\u001b[49m\u001b[43m)\u001b[49m\n\u001b[0;32m    217\u001b[0m   \u001b[38;5;28;01mreturn\u001b[39;00m \u001b[38;5;28mself\u001b[39m\u001b[38;5;241m.\u001b[39mfunction_type\u001b[38;5;241m.\u001b[39mpack_output(flat_outputs)\n",
      "File \u001b[1;32mc:\\Users\\ASUS\\AppData\\Local\\Programs\\Python\\Python312\\Lib\\site-packages\\tensorflow\\python\\eager\\polymorphic_function\\atomic_function.py:251\u001b[0m, in \u001b[0;36mAtomicFunction.call_flat\u001b[1;34m(self, *args)\u001b[0m\n\u001b[0;32m    249\u001b[0m \u001b[38;5;28;01mwith\u001b[39;00m record\u001b[38;5;241m.\u001b[39mstop_recording():\n\u001b[0;32m    250\u001b[0m   \u001b[38;5;28;01mif\u001b[39;00m \u001b[38;5;28mself\u001b[39m\u001b[38;5;241m.\u001b[39m_bound_context\u001b[38;5;241m.\u001b[39mexecuting_eagerly():\n\u001b[1;32m--> 251\u001b[0m     outputs \u001b[38;5;241m=\u001b[39m \u001b[38;5;28;43mself\u001b[39;49m\u001b[38;5;241;43m.\u001b[39;49m\u001b[43m_bound_context\u001b[49m\u001b[38;5;241;43m.\u001b[39;49m\u001b[43mcall_function\u001b[49m\u001b[43m(\u001b[49m\n\u001b[0;32m    252\u001b[0m \u001b[43m        \u001b[49m\u001b[38;5;28;43mself\u001b[39;49m\u001b[38;5;241;43m.\u001b[39;49m\u001b[43mname\u001b[49m\u001b[43m,\u001b[49m\n\u001b[0;32m    253\u001b[0m \u001b[43m        \u001b[49m\u001b[38;5;28;43mlist\u001b[39;49m\u001b[43m(\u001b[49m\u001b[43margs\u001b[49m\u001b[43m)\u001b[49m\u001b[43m,\u001b[49m\n\u001b[0;32m    254\u001b[0m \u001b[43m        \u001b[49m\u001b[38;5;28;43mlen\u001b[39;49m\u001b[43m(\u001b[49m\u001b[38;5;28;43mself\u001b[39;49m\u001b[38;5;241;43m.\u001b[39;49m\u001b[43mfunction_type\u001b[49m\u001b[38;5;241;43m.\u001b[39;49m\u001b[43mflat_outputs\u001b[49m\u001b[43m)\u001b[49m\u001b[43m,\u001b[49m\n\u001b[0;32m    255\u001b[0m \u001b[43m    \u001b[49m\u001b[43m)\u001b[49m\n\u001b[0;32m    256\u001b[0m   \u001b[38;5;28;01melse\u001b[39;00m:\n\u001b[0;32m    257\u001b[0m     outputs \u001b[38;5;241m=\u001b[39m make_call_op_in_graph(\n\u001b[0;32m    258\u001b[0m         \u001b[38;5;28mself\u001b[39m,\n\u001b[0;32m    259\u001b[0m         \u001b[38;5;28mlist\u001b[39m(args),\n\u001b[0;32m    260\u001b[0m         \u001b[38;5;28mself\u001b[39m\u001b[38;5;241m.\u001b[39m_bound_context\u001b[38;5;241m.\u001b[39mfunction_call_options\u001b[38;5;241m.\u001b[39mas_attrs(),\n\u001b[0;32m    261\u001b[0m     )\n",
      "File \u001b[1;32mc:\\Users\\ASUS\\AppData\\Local\\Programs\\Python\\Python312\\Lib\\site-packages\\tensorflow\\python\\eager\\context.py:1552\u001b[0m, in \u001b[0;36mContext.call_function\u001b[1;34m(self, name, tensor_inputs, num_outputs)\u001b[0m\n\u001b[0;32m   1550\u001b[0m cancellation_context \u001b[38;5;241m=\u001b[39m cancellation\u001b[38;5;241m.\u001b[39mcontext()\n\u001b[0;32m   1551\u001b[0m \u001b[38;5;28;01mif\u001b[39;00m cancellation_context \u001b[38;5;129;01mis\u001b[39;00m \u001b[38;5;28;01mNone\u001b[39;00m:\n\u001b[1;32m-> 1552\u001b[0m   outputs \u001b[38;5;241m=\u001b[39m \u001b[43mexecute\u001b[49m\u001b[38;5;241;43m.\u001b[39;49m\u001b[43mexecute\u001b[49m\u001b[43m(\u001b[49m\n\u001b[0;32m   1553\u001b[0m \u001b[43m      \u001b[49m\u001b[43mname\u001b[49m\u001b[38;5;241;43m.\u001b[39;49m\u001b[43mdecode\u001b[49m\u001b[43m(\u001b[49m\u001b[38;5;124;43m\"\u001b[39;49m\u001b[38;5;124;43mutf-8\u001b[39;49m\u001b[38;5;124;43m\"\u001b[39;49m\u001b[43m)\u001b[49m\u001b[43m,\u001b[49m\n\u001b[0;32m   1554\u001b[0m \u001b[43m      \u001b[49m\u001b[43mnum_outputs\u001b[49m\u001b[38;5;241;43m=\u001b[39;49m\u001b[43mnum_outputs\u001b[49m\u001b[43m,\u001b[49m\n\u001b[0;32m   1555\u001b[0m \u001b[43m      \u001b[49m\u001b[43minputs\u001b[49m\u001b[38;5;241;43m=\u001b[39;49m\u001b[43mtensor_inputs\u001b[49m\u001b[43m,\u001b[49m\n\u001b[0;32m   1556\u001b[0m \u001b[43m      \u001b[49m\u001b[43mattrs\u001b[49m\u001b[38;5;241;43m=\u001b[39;49m\u001b[43mattrs\u001b[49m\u001b[43m,\u001b[49m\n\u001b[0;32m   1557\u001b[0m \u001b[43m      \u001b[49m\u001b[43mctx\u001b[49m\u001b[38;5;241;43m=\u001b[39;49m\u001b[38;5;28;43mself\u001b[39;49m\u001b[43m,\u001b[49m\n\u001b[0;32m   1558\u001b[0m \u001b[43m  \u001b[49m\u001b[43m)\u001b[49m\n\u001b[0;32m   1559\u001b[0m \u001b[38;5;28;01melse\u001b[39;00m:\n\u001b[0;32m   1560\u001b[0m   outputs \u001b[38;5;241m=\u001b[39m execute\u001b[38;5;241m.\u001b[39mexecute_with_cancellation(\n\u001b[0;32m   1561\u001b[0m       name\u001b[38;5;241m.\u001b[39mdecode(\u001b[38;5;124m\"\u001b[39m\u001b[38;5;124mutf-8\u001b[39m\u001b[38;5;124m\"\u001b[39m),\n\u001b[0;32m   1562\u001b[0m       num_outputs\u001b[38;5;241m=\u001b[39mnum_outputs,\n\u001b[1;32m   (...)\u001b[0m\n\u001b[0;32m   1566\u001b[0m       cancellation_manager\u001b[38;5;241m=\u001b[39mcancellation_context,\n\u001b[0;32m   1567\u001b[0m   )\n",
      "File \u001b[1;32mc:\\Users\\ASUS\\AppData\\Local\\Programs\\Python\\Python312\\Lib\\site-packages\\tensorflow\\python\\eager\\execute.py:53\u001b[0m, in \u001b[0;36mquick_execute\u001b[1;34m(op_name, num_outputs, inputs, attrs, ctx, name)\u001b[0m\n\u001b[0;32m     51\u001b[0m \u001b[38;5;28;01mtry\u001b[39;00m:\n\u001b[0;32m     52\u001b[0m   ctx\u001b[38;5;241m.\u001b[39mensure_initialized()\n\u001b[1;32m---> 53\u001b[0m   tensors \u001b[38;5;241m=\u001b[39m \u001b[43mpywrap_tfe\u001b[49m\u001b[38;5;241;43m.\u001b[39;49m\u001b[43mTFE_Py_Execute\u001b[49m\u001b[43m(\u001b[49m\u001b[43mctx\u001b[49m\u001b[38;5;241;43m.\u001b[39;49m\u001b[43m_handle\u001b[49m\u001b[43m,\u001b[49m\u001b[43m \u001b[49m\u001b[43mdevice_name\u001b[49m\u001b[43m,\u001b[49m\u001b[43m \u001b[49m\u001b[43mop_name\u001b[49m\u001b[43m,\u001b[49m\n\u001b[0;32m     54\u001b[0m \u001b[43m                                      \u001b[49m\u001b[43minputs\u001b[49m\u001b[43m,\u001b[49m\u001b[43m \u001b[49m\u001b[43mattrs\u001b[49m\u001b[43m,\u001b[49m\u001b[43m \u001b[49m\u001b[43mnum_outputs\u001b[49m\u001b[43m)\u001b[49m\n\u001b[0;32m     55\u001b[0m \u001b[38;5;28;01mexcept\u001b[39;00m core\u001b[38;5;241m.\u001b[39m_NotOkStatusException \u001b[38;5;28;01mas\u001b[39;00m e:\n\u001b[0;32m     56\u001b[0m   \u001b[38;5;28;01mif\u001b[39;00m name \u001b[38;5;129;01mis\u001b[39;00m \u001b[38;5;129;01mnot\u001b[39;00m \u001b[38;5;28;01mNone\u001b[39;00m:\n",
      "\u001b[1;31mKeyboardInterrupt\u001b[0m: "
     ]
    }
   ],
   "source": [
    "fold_metrics = []\n",
    "encoder = OneHotEncoder(sparse_output=False)\n",
    "\n",
    "# Cross-validation dengan 5 fold\n",
    "for train_index, val_index in kf.split(X_balanced, y_balanced):\n",
    "    X_train, X_test = X_balanced.loc[train_index], X_balanced.loc[val_index]\n",
    "    y_train, y_test = y_balanced[train_index], y_balanced[val_index]\n",
    "    \n",
    "    nn2 = tf.keras.models.Sequential([\n",
    "    tf.keras.layers.Dense(64, activation='sigmoid', input_dim=X_train.shape[1]),\n",
    "    tf.keras.layers.Dense(32, activation='sigmoid'),\n",
    "    tf.keras.layers.Dense(1, activation='softmax')\n",
    "    ])\n",
    "    \n",
    "    # Mengkompilasi model dengan learning rate yang ditentukan\n",
    "    nn2.compile(optimizer=tf.keras.optimizers.Adam(learning_rate=0.01),\n",
    "                  loss='binary_crossentropy',\n",
    "                  metrics=['accuracy'])\n",
    "\n",
    "    # Melatih model\n",
    "    history = nn2.fit(X_train, y_train, validation_data=(X_test, y_test), epochs=10)\n",
    "\n",
    "    # Melakukan prediksi pada data validasi\n",
    "    y_probs = nn2.predict(X_test, verbose=0)\n",
    "    y_classes = np.argmax(y_probs, axis=1)\n",
    "\n",
    "    y_test_encoded = encoder.fit_transform(y_test.to_numpy().reshape(-1, 1))\n",
    "\n",
    "    # Menghitung metrik evaluasi\n",
    "    metrics = {\n",
    "        'accuracy': accuracy_score(y_test, y_classes),\n",
    "        'precision': precision_score(y_test, y_classes, average='weighted', zero_division=0),\n",
    "        'recall': recall_score(y_test, y_classes, average='weighted', zero_division=0),\n",
    "        'f1_score': f1_score(y_test, y_classes, average='weighted', zero_division=0),\n",
    "        'roc_auc': roc_auc_score(y_test_encoded, y_probs, multi_class='ovr')\n",
    "    }\n",
    "    fold_metrics.append(metrics)\n",
    "\n",
    "# Menampilkan hasil tiap fold\n",
    "for i, metrics in enumerate(fold_metrics, 1):\n",
    "    print(f\"Fold {i}: {metrics}\")\n",
    "\n",
    "# Menghitung rata-rata metrik dari kelima fold\n",
    "avg_metrics = {k: np.mean([m[k] for m in fold_metrics]) for k in fold_metrics[0]}\n",
    "print(\"Average metrics:\", avg_metrics)"
   ]
  },
  {
   "cell_type": "markdown",
   "metadata": {},
   "source": [
    "##### epoch 500"
   ]
  },
  {
   "cell_type": "code",
   "execution_count": null,
   "metadata": {},
   "outputs": [],
   "source": [
    "fold_num = 1\n",
    "accuracy_list, precision_list, recall_list, f1_list, auc_list = [], [], [], [], []\n",
    "\n",
    "for train_index, test_index in skf.split(X_balanced, y_balanced):\n",
    "  X_train, X_test = X_balanced.loc[train_index], X_balanced.loc[test_index]\n",
    "  y_train, y_test = y_balanced[train_index], y_balanced[test_index]\n",
    "  nn1.fit(X_train, y_train, validation_data=(X_test, y_test), epochs=500)\n",
    "  y_pred = nn1.predict(X_test)\n",
    "\n",
    "  # Hitung metrik kinerja\n",
    "  accuracy = accuracy_score(y_test, y_pred)\n",
    "  precision = precision_score(y_test, y_pred)\n",
    "  recall = recall_score(y_test, y_pred)\n",
    "  f1_score = f1_score(y_test, y_pred)\n",
    "  roc_auc = roc_auc_score(y_test, y_pred)\n",
    "\n",
    "  accuracy_list.append(accuracy)\n",
    "  precision_list.append(precision)\n",
    "  recall_list.append(recall)\n",
    "  f1_list.append(f1_score)\n",
    "  auc_list.append(roc_auc)\n",
    "\n",
    "  # Print metrik hasil validasi\n",
    "  print(f\"Accuracy for fold {fold_num}: \", accuracy)\n",
    "  print(f\"Accuracy for fold {fold_num}: \", precision)\n",
    "  print(f\"Accuracy for fold {fold_num}: \", recall)\n",
    "  print(f\"Accuracy for fold {fold_num}: \", f1_score)\n",
    "  print(f\"Accuracy for fold {fold_num}: \", roc_auc)\n",
    "\n",
    "  fold_num += 1"
   ]
  },
  {
   "cell_type": "markdown",
   "metadata": {},
   "source": [
    "### Jumlah neuron berbeda (RELU)"
   ]
  },
  {
   "cell_type": "code",
   "execution_count": 59,
   "metadata": {},
   "outputs": [
    {
     "name": "stderr",
     "output_type": "stream",
     "text": [
      "c:\\Users\\ASUS\\AppData\\Local\\Programs\\Python\\Python312\\Lib\\site-packages\\keras\\src\\layers\\core\\dense.py:87: UserWarning: Do not pass an `input_shape`/`input_dim` argument to a layer. When using Sequential models, prefer using an `Input(shape)` object as the first layer in the model instead.\n",
      "  super().__init__(activity_regularizer=activity_regularizer, **kwargs)\n"
     ]
    }
   ],
   "source": [
    "nn = tf.keras.models.Sequential([\n",
    "    tf.keras.layers.Dense(7, activation='relu', input_dim=X_train.shape[1]),\n",
    "    tf.keras.layers.Dense(4, activation='relu'),\n",
    "    tf.keras.layers.Dense(1, activation='sigmoid')\n",
    "])"
   ]
  },
  {
   "cell_type": "code",
   "execution_count": 60,
   "metadata": {},
   "outputs": [],
   "source": [
    "# Menambahkan learning rate pada optimizer RMSprop\n",
    "optimize = tf.keras.optimizers.RMSprop(learning_rate=0.01)\n",
    "\n",
    "nn.compile(optimizer=optimize, loss='binary_crossentropy', metrics=['accuracy'])"
   ]
  },
  {
   "cell_type": "code",
   "execution_count": 63,
   "metadata": {},
   "outputs": [
    {
     "name": "stdout",
     "output_type": "stream",
     "text": [
      "Epoch 1/100\n",
      "\u001b[1m76563/76563\u001b[0m \u001b[32m━━━━━━━━━━━━━━━━━━━━\u001b[0m\u001b[37m\u001b[0m \u001b[1m52s\u001b[0m 683us/step - accuracy: 0.0000e+00 - loss: -10908871186972672.0000 - val_accuracy: 0.0000e+00 - val_loss: -19815950459076608.0000\n",
      "Epoch 2/100\n",
      "\u001b[1m76563/76563\u001b[0m \u001b[32m━━━━━━━━━━━━━━━━━━━━\u001b[0m\u001b[37m\u001b[0m \u001b[1m54s\u001b[0m 702us/step - accuracy: 0.0000e+00 - loss: -23884663172890624.0000 - val_accuracy: 0.0000e+00 - val_loss: -38277195218550784.0000\n",
      "Epoch 3/100\n",
      "\u001b[1m76563/76563\u001b[0m \u001b[32m━━━━━━━━━━━━━━━━━━━━\u001b[0m\u001b[37m\u001b[0m \u001b[1m52s\u001b[0m 684us/step - accuracy: 0.0000e+00 - loss: -44445451155406848.0000 - val_accuracy: 0.0000e+00 - val_loss: -65654665382985728.0000\n",
      "Epoch 4/100\n",
      "\u001b[1m76563/76563\u001b[0m \u001b[32m━━━━━━━━━━━━━━━━━━━━\u001b[0m\u001b[37m\u001b[0m \u001b[1m54s\u001b[0m 711us/step - accuracy: 0.0000e+00 - loss: -74383662426095616.0000 - val_accuracy: 0.0000e+00 - val_loss: -103711228131540992.0000\n",
      "Epoch 5/100\n",
      "\u001b[1m76563/76563\u001b[0m \u001b[32m━━━━━━━━━━━━━━━━━━━━\u001b[0m\u001b[37m\u001b[0m \u001b[1m53s\u001b[0m 695us/step - accuracy: 0.0000e+00 - loss: -115432142342717440.0000 - val_accuracy: 0.0000e+00 - val_loss: -154198328177852416.0000\n",
      "Epoch 6/100\n",
      "\u001b[1m76563/76563\u001b[0m \u001b[32m━━━━━━━━━━━━━━━━━━━━\u001b[0m\u001b[37m\u001b[0m \u001b[1m53s\u001b[0m 693us/step - accuracy: 0.0000e+00 - loss: -169305291525980160.0000 - val_accuracy: 0.0000e+00 - val_loss: -218873148311863296.0000\n",
      "Epoch 7/100\n",
      "\u001b[1m24072/76563\u001b[0m \u001b[32m━━━━━━\u001b[0m\u001b[37m━━━━━━━━━━━━━━\u001b[0m \u001b[1m28s\u001b[0m 537us/step - accuracy: 0.0000e+00 - loss: -224673604724326400.0000"
     ]
    },
    {
     "ename": "KeyboardInterrupt",
     "evalue": "",
     "output_type": "error",
     "traceback": [
      "\u001b[1;31m---------------------------------------------------------------------------\u001b[0m",
      "\u001b[1;31mKeyboardInterrupt\u001b[0m                         Traceback (most recent call last)",
      "Cell \u001b[1;32mIn[63], line 1\u001b[0m\n\u001b[1;32m----> 1\u001b[0m history \u001b[38;5;241m=\u001b[39m \u001b[43mnn\u001b[49m\u001b[38;5;241;43m.\u001b[39;49m\u001b[43mfit\u001b[49m\u001b[43m(\u001b[49m\u001b[43mX_train\u001b[49m\u001b[43m,\u001b[49m\u001b[43m \u001b[49m\u001b[43my_train\u001b[49m\u001b[43m,\u001b[49m\u001b[43m \u001b[49m\u001b[43mvalidation_data\u001b[49m\u001b[38;5;241;43m=\u001b[39;49m\u001b[43m(\u001b[49m\u001b[43mX_test\u001b[49m\u001b[43m,\u001b[49m\u001b[43m \u001b[49m\u001b[43my_test\u001b[49m\u001b[43m)\u001b[49m\u001b[43m,\u001b[49m\u001b[43m \u001b[49m\u001b[43mepochs\u001b[49m\u001b[38;5;241;43m=\u001b[39;49m\u001b[38;5;241;43m100\u001b[39;49m\u001b[43m)\u001b[49m\n",
      "File \u001b[1;32mc:\\Users\\ASUS\\AppData\\Local\\Programs\\Python\\Python312\\Lib\\site-packages\\keras\\src\\utils\\traceback_utils.py:117\u001b[0m, in \u001b[0;36mfilter_traceback.<locals>.error_handler\u001b[1;34m(*args, **kwargs)\u001b[0m\n\u001b[0;32m    115\u001b[0m filtered_tb \u001b[38;5;241m=\u001b[39m \u001b[38;5;28;01mNone\u001b[39;00m\n\u001b[0;32m    116\u001b[0m \u001b[38;5;28;01mtry\u001b[39;00m:\n\u001b[1;32m--> 117\u001b[0m     \u001b[38;5;28;01mreturn\u001b[39;00m \u001b[43mfn\u001b[49m\u001b[43m(\u001b[49m\u001b[38;5;241;43m*\u001b[39;49m\u001b[43margs\u001b[49m\u001b[43m,\u001b[49m\u001b[43m \u001b[49m\u001b[38;5;241;43m*\u001b[39;49m\u001b[38;5;241;43m*\u001b[39;49m\u001b[43mkwargs\u001b[49m\u001b[43m)\u001b[49m\n\u001b[0;32m    118\u001b[0m \u001b[38;5;28;01mexcept\u001b[39;00m \u001b[38;5;167;01mException\u001b[39;00m \u001b[38;5;28;01mas\u001b[39;00m e:\n\u001b[0;32m    119\u001b[0m     filtered_tb \u001b[38;5;241m=\u001b[39m _process_traceback_frames(e\u001b[38;5;241m.\u001b[39m__traceback__)\n",
      "File \u001b[1;32mc:\\Users\\ASUS\\AppData\\Local\\Programs\\Python\\Python312\\Lib\\site-packages\\keras\\src\\backend\\tensorflow\\trainer.py:320\u001b[0m, in \u001b[0;36mTensorFlowTrainer.fit\u001b[1;34m(self, x, y, batch_size, epochs, verbose, callbacks, validation_split, validation_data, shuffle, class_weight, sample_weight, initial_epoch, steps_per_epoch, validation_steps, validation_batch_size, validation_freq)\u001b[0m\n\u001b[0;32m    318\u001b[0m \u001b[38;5;28;01mfor\u001b[39;00m step, iterator \u001b[38;5;129;01min\u001b[39;00m epoch_iterator\u001b[38;5;241m.\u001b[39menumerate_epoch():\n\u001b[0;32m    319\u001b[0m     callbacks\u001b[38;5;241m.\u001b[39mon_train_batch_begin(step)\n\u001b[1;32m--> 320\u001b[0m     logs \u001b[38;5;241m=\u001b[39m \u001b[38;5;28;43mself\u001b[39;49m\u001b[38;5;241;43m.\u001b[39;49m\u001b[43mtrain_function\u001b[49m\u001b[43m(\u001b[49m\u001b[43miterator\u001b[49m\u001b[43m)\u001b[49m\n\u001b[0;32m    321\u001b[0m     logs \u001b[38;5;241m=\u001b[39m \u001b[38;5;28mself\u001b[39m\u001b[38;5;241m.\u001b[39m_pythonify_logs(logs)\n\u001b[0;32m    322\u001b[0m     callbacks\u001b[38;5;241m.\u001b[39mon_train_batch_end(step, logs)\n",
      "File \u001b[1;32mc:\\Users\\ASUS\\AppData\\Local\\Programs\\Python\\Python312\\Lib\\site-packages\\tensorflow\\python\\util\\traceback_utils.py:150\u001b[0m, in \u001b[0;36mfilter_traceback.<locals>.error_handler\u001b[1;34m(*args, **kwargs)\u001b[0m\n\u001b[0;32m    148\u001b[0m filtered_tb \u001b[38;5;241m=\u001b[39m \u001b[38;5;28;01mNone\u001b[39;00m\n\u001b[0;32m    149\u001b[0m \u001b[38;5;28;01mtry\u001b[39;00m:\n\u001b[1;32m--> 150\u001b[0m   \u001b[38;5;28;01mreturn\u001b[39;00m \u001b[43mfn\u001b[49m\u001b[43m(\u001b[49m\u001b[38;5;241;43m*\u001b[39;49m\u001b[43margs\u001b[49m\u001b[43m,\u001b[49m\u001b[43m \u001b[49m\u001b[38;5;241;43m*\u001b[39;49m\u001b[38;5;241;43m*\u001b[39;49m\u001b[43mkwargs\u001b[49m\u001b[43m)\u001b[49m\n\u001b[0;32m    151\u001b[0m \u001b[38;5;28;01mexcept\u001b[39;00m \u001b[38;5;167;01mException\u001b[39;00m \u001b[38;5;28;01mas\u001b[39;00m e:\n\u001b[0;32m    152\u001b[0m   filtered_tb \u001b[38;5;241m=\u001b[39m _process_traceback_frames(e\u001b[38;5;241m.\u001b[39m__traceback__)\n",
      "File \u001b[1;32mc:\\Users\\ASUS\\AppData\\Local\\Programs\\Python\\Python312\\Lib\\site-packages\\tensorflow\\python\\eager\\polymorphic_function\\polymorphic_function.py:833\u001b[0m, in \u001b[0;36mFunction.__call__\u001b[1;34m(self, *args, **kwds)\u001b[0m\n\u001b[0;32m    830\u001b[0m compiler \u001b[38;5;241m=\u001b[39m \u001b[38;5;124m\"\u001b[39m\u001b[38;5;124mxla\u001b[39m\u001b[38;5;124m\"\u001b[39m \u001b[38;5;28;01mif\u001b[39;00m \u001b[38;5;28mself\u001b[39m\u001b[38;5;241m.\u001b[39m_jit_compile \u001b[38;5;28;01melse\u001b[39;00m \u001b[38;5;124m\"\u001b[39m\u001b[38;5;124mnonXla\u001b[39m\u001b[38;5;124m\"\u001b[39m\n\u001b[0;32m    832\u001b[0m \u001b[38;5;28;01mwith\u001b[39;00m OptionalXlaContext(\u001b[38;5;28mself\u001b[39m\u001b[38;5;241m.\u001b[39m_jit_compile):\n\u001b[1;32m--> 833\u001b[0m   result \u001b[38;5;241m=\u001b[39m \u001b[38;5;28;43mself\u001b[39;49m\u001b[38;5;241;43m.\u001b[39;49m\u001b[43m_call\u001b[49m\u001b[43m(\u001b[49m\u001b[38;5;241;43m*\u001b[39;49m\u001b[43margs\u001b[49m\u001b[43m,\u001b[49m\u001b[43m \u001b[49m\u001b[38;5;241;43m*\u001b[39;49m\u001b[38;5;241;43m*\u001b[39;49m\u001b[43mkwds\u001b[49m\u001b[43m)\u001b[49m\n\u001b[0;32m    835\u001b[0m new_tracing_count \u001b[38;5;241m=\u001b[39m \u001b[38;5;28mself\u001b[39m\u001b[38;5;241m.\u001b[39mexperimental_get_tracing_count()\n\u001b[0;32m    836\u001b[0m without_tracing \u001b[38;5;241m=\u001b[39m (tracing_count \u001b[38;5;241m==\u001b[39m new_tracing_count)\n",
      "File \u001b[1;32mc:\\Users\\ASUS\\AppData\\Local\\Programs\\Python\\Python312\\Lib\\site-packages\\tensorflow\\python\\eager\\polymorphic_function\\polymorphic_function.py:878\u001b[0m, in \u001b[0;36mFunction._call\u001b[1;34m(self, *args, **kwds)\u001b[0m\n\u001b[0;32m    875\u001b[0m \u001b[38;5;28mself\u001b[39m\u001b[38;5;241m.\u001b[39m_lock\u001b[38;5;241m.\u001b[39mrelease()\n\u001b[0;32m    876\u001b[0m \u001b[38;5;66;03m# In this case we have not created variables on the first call. So we can\u001b[39;00m\n\u001b[0;32m    877\u001b[0m \u001b[38;5;66;03m# run the first trace but we should fail if variables are created.\u001b[39;00m\n\u001b[1;32m--> 878\u001b[0m results \u001b[38;5;241m=\u001b[39m \u001b[43mtracing_compilation\u001b[49m\u001b[38;5;241;43m.\u001b[39;49m\u001b[43mcall_function\u001b[49m\u001b[43m(\u001b[49m\n\u001b[0;32m    879\u001b[0m \u001b[43m    \u001b[49m\u001b[43margs\u001b[49m\u001b[43m,\u001b[49m\u001b[43m \u001b[49m\u001b[43mkwds\u001b[49m\u001b[43m,\u001b[49m\u001b[43m \u001b[49m\u001b[38;5;28;43mself\u001b[39;49m\u001b[38;5;241;43m.\u001b[39;49m\u001b[43m_variable_creation_config\u001b[49m\n\u001b[0;32m    880\u001b[0m \u001b[43m\u001b[49m\u001b[43m)\u001b[49m\n\u001b[0;32m    881\u001b[0m \u001b[38;5;28;01mif\u001b[39;00m \u001b[38;5;28mself\u001b[39m\u001b[38;5;241m.\u001b[39m_created_variables:\n\u001b[0;32m    882\u001b[0m   \u001b[38;5;28;01mraise\u001b[39;00m \u001b[38;5;167;01mValueError\u001b[39;00m(\u001b[38;5;124m\"\u001b[39m\u001b[38;5;124mCreating variables on a non-first call to a function\u001b[39m\u001b[38;5;124m\"\u001b[39m\n\u001b[0;32m    883\u001b[0m                    \u001b[38;5;124m\"\u001b[39m\u001b[38;5;124m decorated with tf.function.\u001b[39m\u001b[38;5;124m\"\u001b[39m)\n",
      "File \u001b[1;32mc:\\Users\\ASUS\\AppData\\Local\\Programs\\Python\\Python312\\Lib\\site-packages\\tensorflow\\python\\eager\\polymorphic_function\\tracing_compilation.py:139\u001b[0m, in \u001b[0;36mcall_function\u001b[1;34m(args, kwargs, tracing_options)\u001b[0m\n\u001b[0;32m    137\u001b[0m bound_args \u001b[38;5;241m=\u001b[39m function\u001b[38;5;241m.\u001b[39mfunction_type\u001b[38;5;241m.\u001b[39mbind(\u001b[38;5;241m*\u001b[39margs, \u001b[38;5;241m*\u001b[39m\u001b[38;5;241m*\u001b[39mkwargs)\n\u001b[0;32m    138\u001b[0m flat_inputs \u001b[38;5;241m=\u001b[39m function\u001b[38;5;241m.\u001b[39mfunction_type\u001b[38;5;241m.\u001b[39munpack_inputs(bound_args)\n\u001b[1;32m--> 139\u001b[0m \u001b[38;5;28;01mreturn\u001b[39;00m \u001b[43mfunction\u001b[49m\u001b[38;5;241;43m.\u001b[39;49m\u001b[43m_call_flat\u001b[49m\u001b[43m(\u001b[49m\u001b[43m  \u001b[49m\u001b[38;5;66;43;03m# pylint: disable=protected-access\u001b[39;49;00m\n\u001b[0;32m    140\u001b[0m \u001b[43m    \u001b[49m\u001b[43mflat_inputs\u001b[49m\u001b[43m,\u001b[49m\u001b[43m \u001b[49m\u001b[43mcaptured_inputs\u001b[49m\u001b[38;5;241;43m=\u001b[39;49m\u001b[43mfunction\u001b[49m\u001b[38;5;241;43m.\u001b[39;49m\u001b[43mcaptured_inputs\u001b[49m\n\u001b[0;32m    141\u001b[0m \u001b[43m\u001b[49m\u001b[43m)\u001b[49m\n",
      "File \u001b[1;32mc:\\Users\\ASUS\\AppData\\Local\\Programs\\Python\\Python312\\Lib\\site-packages\\tensorflow\\python\\eager\\polymorphic_function\\concrete_function.py:1322\u001b[0m, in \u001b[0;36mConcreteFunction._call_flat\u001b[1;34m(self, tensor_inputs, captured_inputs)\u001b[0m\n\u001b[0;32m   1318\u001b[0m possible_gradient_type \u001b[38;5;241m=\u001b[39m gradients_util\u001b[38;5;241m.\u001b[39mPossibleTapeGradientTypes(args)\n\u001b[0;32m   1319\u001b[0m \u001b[38;5;28;01mif\u001b[39;00m (possible_gradient_type \u001b[38;5;241m==\u001b[39m gradients_util\u001b[38;5;241m.\u001b[39mPOSSIBLE_GRADIENT_TYPES_NONE\n\u001b[0;32m   1320\u001b[0m     \u001b[38;5;129;01mand\u001b[39;00m executing_eagerly):\n\u001b[0;32m   1321\u001b[0m   \u001b[38;5;66;03m# No tape is watching; skip to running the function.\u001b[39;00m\n\u001b[1;32m-> 1322\u001b[0m   \u001b[38;5;28;01mreturn\u001b[39;00m \u001b[38;5;28;43mself\u001b[39;49m\u001b[38;5;241;43m.\u001b[39;49m\u001b[43m_inference_function\u001b[49m\u001b[38;5;241;43m.\u001b[39;49m\u001b[43mcall_preflattened\u001b[49m\u001b[43m(\u001b[49m\u001b[43margs\u001b[49m\u001b[43m)\u001b[49m\n\u001b[0;32m   1323\u001b[0m forward_backward \u001b[38;5;241m=\u001b[39m \u001b[38;5;28mself\u001b[39m\u001b[38;5;241m.\u001b[39m_select_forward_and_backward_functions(\n\u001b[0;32m   1324\u001b[0m     args,\n\u001b[0;32m   1325\u001b[0m     possible_gradient_type,\n\u001b[0;32m   1326\u001b[0m     executing_eagerly)\n\u001b[0;32m   1327\u001b[0m forward_function, args_with_tangents \u001b[38;5;241m=\u001b[39m forward_backward\u001b[38;5;241m.\u001b[39mforward()\n",
      "File \u001b[1;32mc:\\Users\\ASUS\\AppData\\Local\\Programs\\Python\\Python312\\Lib\\site-packages\\tensorflow\\python\\eager\\polymorphic_function\\atomic_function.py:216\u001b[0m, in \u001b[0;36mAtomicFunction.call_preflattened\u001b[1;34m(self, args)\u001b[0m\n\u001b[0;32m    214\u001b[0m \u001b[38;5;28;01mdef\u001b[39;00m \u001b[38;5;21mcall_preflattened\u001b[39m(\u001b[38;5;28mself\u001b[39m, args: Sequence[core\u001b[38;5;241m.\u001b[39mTensor]) \u001b[38;5;241m-\u001b[39m\u001b[38;5;241m>\u001b[39m Any:\n\u001b[0;32m    215\u001b[0m \u001b[38;5;250m  \u001b[39m\u001b[38;5;124;03m\"\"\"Calls with flattened tensor inputs and returns the structured output.\"\"\"\u001b[39;00m\n\u001b[1;32m--> 216\u001b[0m   flat_outputs \u001b[38;5;241m=\u001b[39m \u001b[38;5;28;43mself\u001b[39;49m\u001b[38;5;241;43m.\u001b[39;49m\u001b[43mcall_flat\u001b[49m\u001b[43m(\u001b[49m\u001b[38;5;241;43m*\u001b[39;49m\u001b[43margs\u001b[49m\u001b[43m)\u001b[49m\n\u001b[0;32m    217\u001b[0m   \u001b[38;5;28;01mreturn\u001b[39;00m \u001b[38;5;28mself\u001b[39m\u001b[38;5;241m.\u001b[39mfunction_type\u001b[38;5;241m.\u001b[39mpack_output(flat_outputs)\n",
      "File \u001b[1;32mc:\\Users\\ASUS\\AppData\\Local\\Programs\\Python\\Python312\\Lib\\site-packages\\tensorflow\\python\\eager\\polymorphic_function\\atomic_function.py:251\u001b[0m, in \u001b[0;36mAtomicFunction.call_flat\u001b[1;34m(self, *args)\u001b[0m\n\u001b[0;32m    249\u001b[0m \u001b[38;5;28;01mwith\u001b[39;00m record\u001b[38;5;241m.\u001b[39mstop_recording():\n\u001b[0;32m    250\u001b[0m   \u001b[38;5;28;01mif\u001b[39;00m \u001b[38;5;28mself\u001b[39m\u001b[38;5;241m.\u001b[39m_bound_context\u001b[38;5;241m.\u001b[39mexecuting_eagerly():\n\u001b[1;32m--> 251\u001b[0m     outputs \u001b[38;5;241m=\u001b[39m \u001b[38;5;28;43mself\u001b[39;49m\u001b[38;5;241;43m.\u001b[39;49m\u001b[43m_bound_context\u001b[49m\u001b[38;5;241;43m.\u001b[39;49m\u001b[43mcall_function\u001b[49m\u001b[43m(\u001b[49m\n\u001b[0;32m    252\u001b[0m \u001b[43m        \u001b[49m\u001b[38;5;28;43mself\u001b[39;49m\u001b[38;5;241;43m.\u001b[39;49m\u001b[43mname\u001b[49m\u001b[43m,\u001b[49m\n\u001b[0;32m    253\u001b[0m \u001b[43m        \u001b[49m\u001b[38;5;28;43mlist\u001b[39;49m\u001b[43m(\u001b[49m\u001b[43margs\u001b[49m\u001b[43m)\u001b[49m\u001b[43m,\u001b[49m\n\u001b[0;32m    254\u001b[0m \u001b[43m        \u001b[49m\u001b[38;5;28;43mlen\u001b[39;49m\u001b[43m(\u001b[49m\u001b[38;5;28;43mself\u001b[39;49m\u001b[38;5;241;43m.\u001b[39;49m\u001b[43mfunction_type\u001b[49m\u001b[38;5;241;43m.\u001b[39;49m\u001b[43mflat_outputs\u001b[49m\u001b[43m)\u001b[49m\u001b[43m,\u001b[49m\n\u001b[0;32m    255\u001b[0m \u001b[43m    \u001b[49m\u001b[43m)\u001b[49m\n\u001b[0;32m    256\u001b[0m   \u001b[38;5;28;01melse\u001b[39;00m:\n\u001b[0;32m    257\u001b[0m     outputs \u001b[38;5;241m=\u001b[39m make_call_op_in_graph(\n\u001b[0;32m    258\u001b[0m         \u001b[38;5;28mself\u001b[39m,\n\u001b[0;32m    259\u001b[0m         \u001b[38;5;28mlist\u001b[39m(args),\n\u001b[0;32m    260\u001b[0m         \u001b[38;5;28mself\u001b[39m\u001b[38;5;241m.\u001b[39m_bound_context\u001b[38;5;241m.\u001b[39mfunction_call_options\u001b[38;5;241m.\u001b[39mas_attrs(),\n\u001b[0;32m    261\u001b[0m     )\n",
      "File \u001b[1;32mc:\\Users\\ASUS\\AppData\\Local\\Programs\\Python\\Python312\\Lib\\site-packages\\tensorflow\\python\\eager\\context.py:1552\u001b[0m, in \u001b[0;36mContext.call_function\u001b[1;34m(self, name, tensor_inputs, num_outputs)\u001b[0m\n\u001b[0;32m   1550\u001b[0m cancellation_context \u001b[38;5;241m=\u001b[39m cancellation\u001b[38;5;241m.\u001b[39mcontext()\n\u001b[0;32m   1551\u001b[0m \u001b[38;5;28;01mif\u001b[39;00m cancellation_context \u001b[38;5;129;01mis\u001b[39;00m \u001b[38;5;28;01mNone\u001b[39;00m:\n\u001b[1;32m-> 1552\u001b[0m   outputs \u001b[38;5;241m=\u001b[39m \u001b[43mexecute\u001b[49m\u001b[38;5;241;43m.\u001b[39;49m\u001b[43mexecute\u001b[49m\u001b[43m(\u001b[49m\n\u001b[0;32m   1553\u001b[0m \u001b[43m      \u001b[49m\u001b[43mname\u001b[49m\u001b[38;5;241;43m.\u001b[39;49m\u001b[43mdecode\u001b[49m\u001b[43m(\u001b[49m\u001b[38;5;124;43m\"\u001b[39;49m\u001b[38;5;124;43mutf-8\u001b[39;49m\u001b[38;5;124;43m\"\u001b[39;49m\u001b[43m)\u001b[49m\u001b[43m,\u001b[49m\n\u001b[0;32m   1554\u001b[0m \u001b[43m      \u001b[49m\u001b[43mnum_outputs\u001b[49m\u001b[38;5;241;43m=\u001b[39;49m\u001b[43mnum_outputs\u001b[49m\u001b[43m,\u001b[49m\n\u001b[0;32m   1555\u001b[0m \u001b[43m      \u001b[49m\u001b[43minputs\u001b[49m\u001b[38;5;241;43m=\u001b[39;49m\u001b[43mtensor_inputs\u001b[49m\u001b[43m,\u001b[49m\n\u001b[0;32m   1556\u001b[0m \u001b[43m      \u001b[49m\u001b[43mattrs\u001b[49m\u001b[38;5;241;43m=\u001b[39;49m\u001b[43mattrs\u001b[49m\u001b[43m,\u001b[49m\n\u001b[0;32m   1557\u001b[0m \u001b[43m      \u001b[49m\u001b[43mctx\u001b[49m\u001b[38;5;241;43m=\u001b[39;49m\u001b[38;5;28;43mself\u001b[39;49m\u001b[43m,\u001b[49m\n\u001b[0;32m   1558\u001b[0m \u001b[43m  \u001b[49m\u001b[43m)\u001b[49m\n\u001b[0;32m   1559\u001b[0m \u001b[38;5;28;01melse\u001b[39;00m:\n\u001b[0;32m   1560\u001b[0m   outputs \u001b[38;5;241m=\u001b[39m execute\u001b[38;5;241m.\u001b[39mexecute_with_cancellation(\n\u001b[0;32m   1561\u001b[0m       name\u001b[38;5;241m.\u001b[39mdecode(\u001b[38;5;124m\"\u001b[39m\u001b[38;5;124mutf-8\u001b[39m\u001b[38;5;124m\"\u001b[39m),\n\u001b[0;32m   1562\u001b[0m       num_outputs\u001b[38;5;241m=\u001b[39mnum_outputs,\n\u001b[1;32m   (...)\u001b[0m\n\u001b[0;32m   1566\u001b[0m       cancellation_manager\u001b[38;5;241m=\u001b[39mcancellation_context,\n\u001b[0;32m   1567\u001b[0m   )\n",
      "File \u001b[1;32mc:\\Users\\ASUS\\AppData\\Local\\Programs\\Python\\Python312\\Lib\\site-packages\\tensorflow\\python\\eager\\execute.py:53\u001b[0m, in \u001b[0;36mquick_execute\u001b[1;34m(op_name, num_outputs, inputs, attrs, ctx, name)\u001b[0m\n\u001b[0;32m     51\u001b[0m \u001b[38;5;28;01mtry\u001b[39;00m:\n\u001b[0;32m     52\u001b[0m   ctx\u001b[38;5;241m.\u001b[39mensure_initialized()\n\u001b[1;32m---> 53\u001b[0m   tensors \u001b[38;5;241m=\u001b[39m \u001b[43mpywrap_tfe\u001b[49m\u001b[38;5;241;43m.\u001b[39;49m\u001b[43mTFE_Py_Execute\u001b[49m\u001b[43m(\u001b[49m\u001b[43mctx\u001b[49m\u001b[38;5;241;43m.\u001b[39;49m\u001b[43m_handle\u001b[49m\u001b[43m,\u001b[49m\u001b[43m \u001b[49m\u001b[43mdevice_name\u001b[49m\u001b[43m,\u001b[49m\u001b[43m \u001b[49m\u001b[43mop_name\u001b[49m\u001b[43m,\u001b[49m\n\u001b[0;32m     54\u001b[0m \u001b[43m                                      \u001b[49m\u001b[43minputs\u001b[49m\u001b[43m,\u001b[49m\u001b[43m \u001b[49m\u001b[43mattrs\u001b[49m\u001b[43m,\u001b[49m\u001b[43m \u001b[49m\u001b[43mnum_outputs\u001b[49m\u001b[43m)\u001b[49m\n\u001b[0;32m     55\u001b[0m \u001b[38;5;28;01mexcept\u001b[39;00m core\u001b[38;5;241m.\u001b[39m_NotOkStatusException \u001b[38;5;28;01mas\u001b[39;00m e:\n\u001b[0;32m     56\u001b[0m   \u001b[38;5;28;01mif\u001b[39;00m name \u001b[38;5;129;01mis\u001b[39;00m \u001b[38;5;129;01mnot\u001b[39;00m \u001b[38;5;28;01mNone\u001b[39;00m:\n",
      "\u001b[1;31mKeyboardInterrupt\u001b[0m: "
     ]
    }
   ],
   "source": [
    "history = nn.fit(X_train, y_train, validation_data=(X_test, y_test), epochs=100)"
   ]
  },
  {
   "cell_type": "code",
   "execution_count": null,
   "metadata": {},
   "outputs": [],
   "source": []
  }
 ],
 "metadata": {
  "kernelspec": {
   "display_name": "Python 3",
   "language": "python",
   "name": "python3"
  },
  "language_info": {
   "codemirror_mode": {
    "name": "ipython",
    "version": 3
   },
   "file_extension": ".py",
   "mimetype": "text/x-python",
   "name": "python",
   "nbconvert_exporter": "python",
   "pygments_lexer": "ipython3",
   "version": "3.12.6"
  }
 },
 "nbformat": 4,
 "nbformat_minor": 2
}
